{
 "cells": [
  {
   "cell_type": "code",
   "execution_count": 1,
   "id": "e1559a00",
   "metadata": {},
   "outputs": [],
   "source": [
    "import mlflow"
   ]
  },
  {
   "cell_type": "code",
   "execution_count": 4,
   "id": "a0a786cd",
   "metadata": {},
   "outputs": [
    {
     "name": "stdout",
     "output_type": "stream",
     "text": [
      "None\n"
     ]
    }
   ],
   "source": [
    "print(mlflow.active_run())"
   ]
  },
  {
   "cell_type": "code",
   "execution_count": 6,
   "id": "50996b29",
   "metadata": {},
   "outputs": [
    {
     "data": {
      "text/plain": [
       "<Experiment: artifact_location='file:///d:/Mlflow/mlruns/325944852318647122', creation_time=1757588755056, experiment_id='325944852318647122', last_update_time=1757590356366, lifecycle_stage='active', name='Seed Germination Rate', tags={'mlflow.note.content': 'This is the description for the experiment',\n",
       " 'new-tags': 'new_tag_updated_with_client',\n",
       " 'new_tags': 'v1'}>"
      ]
     },
     "execution_count": 6,
     "metadata": {},
     "output_type": "execute_result"
    }
   ],
   "source": [
    "mlflow.set_experiment(experiment_name = \"Seed Germination Rate\")"
   ]
  },
  {
   "cell_type": "code",
   "execution_count": 7,
   "id": "74bce801",
   "metadata": {},
   "outputs": [],
   "source": [
    "with mlflow.start_run(run_name = \"logging\") as run:\n",
    "    mlflow.log_param(\"param1\", 1)\n",
    "    mlflow.log_metric(\"metric1\", 1)"
   ]
  },
  {
   "cell_type": "markdown",
   "id": "a799df74",
   "metadata": {},
   "source": [
    "Log Multiple Metrics"
   ]
  },
  {
   "cell_type": "code",
   "execution_count": 10,
   "id": "c261e9e4",
   "metadata": {},
   "outputs": [
    {
     "data": {
      "text/plain": [
       "{'metrics': {'m1': 2.0, 'm2': 3.0, 'm3': 4.0, 'metric1': 1.0},\n",
       " 'params': {'param1': '1'},\n",
       " 'tags': {'mlflow.runName': 'logging',\n",
       "  'mlflow.source.name': 'c:\\\\Users\\\\saqli\\\\anaconda3\\\\Lib\\\\site-packages\\\\ipykernel_launcher.py',\n",
       "  'mlflow.source.type': 'LOCAL',\n",
       "  'mlflow.user': 'saqli'}}"
      ]
     },
     "execution_count": 10,
     "metadata": {},
     "output_type": "execute_result"
    }
   ],
   "source": [
    "metrics = {\n",
    "    \"m1\" : 2,\n",
    "    \"m2\" : 3,\n",
    "    \"m3\" : 4\n",
    "}\n",
    "\n",
    "with mlflow.start_run(run_id = \"1324ba84b81a4b5399c43f67c751d642\") as run:\n",
    "    mlflow.log_metrics(metrics)\n",
    "\n",
    "run = mlflow.get_run(run.info.run_id)\n",
    "run.data.to_dictionary()"
   ]
  },
  {
   "cell_type": "markdown",
   "id": "2fb1537f",
   "metadata": {},
   "source": [
    "Log a single Atrifacts"
   ]
  },
  {
   "cell_type": "code",
   "execution_count": 14,
   "id": "9021627f",
   "metadata": {},
   "outputs": [],
   "source": [
    "from pathlib import Path\n",
    "path = Path(r\"C:\\Users\\saqli\\Downloads\\Cold Plasma\\Cold Plasma\\Machine Learning\\dataset_imputed_.xlsx\")"
   ]
  },
  {
   "cell_type": "code",
   "execution_count": 19,
   "id": "98a8b3db",
   "metadata": {},
   "outputs": [],
   "source": [
    "with mlflow.start_run(run_name = \"logging artifacts\") as run:\n",
    "    mlflow.log_artifact(path)"
   ]
  },
  {
   "cell_type": "code",
   "execution_count": null,
   "id": "cb0ae589",
   "metadata": {},
   "outputs": [],
   "source": [
    "mlflow.log_artifact()"
   ]
  },
  {
   "cell_type": "markdown",
   "id": "60422e72",
   "metadata": {},
   "source": [
    "Log Multiple Artifacts"
   ]
  },
  {
   "cell_type": "code",
   "execution_count": 20,
   "id": "2abf2edf",
   "metadata": {},
   "outputs": [],
   "source": [
    "path = Path(r\"C:\\Users\\saqli\\Downloads\\Cold Plasma\\Cold Plasma\\Plots\")"
   ]
  },
  {
   "cell_type": "code",
   "execution_count": 22,
   "id": "1ea59977",
   "metadata": {},
   "outputs": [],
   "source": [
    "with mlflow.start_run(run_id = \"1347be3bdb6b4ab4ac28faa9f5934738\"):\n",
    "    mlflow.log_artifacts(path)"
   ]
  },
  {
   "cell_type": "code",
   "execution_count": 23,
   "id": "b7182cb1",
   "metadata": {},
   "outputs": [],
   "source": [
    "with mlflow.start_run(run_id = \"1347be3bdb6b4ab4ac28faa9f5934738\"):\n",
    "    mlflow.log_artifacts(path, artifact_path = \"Plots\")"
   ]
  },
  {
   "cell_type": "code",
   "execution_count": null,
   "id": "cf20b1db",
   "metadata": {},
   "outputs": [],
   "source": []
  }
 ],
 "metadata": {
  "kernelspec": {
   "display_name": "base",
   "language": "python",
   "name": "python3"
  },
  "language_info": {
   "codemirror_mode": {
    "name": "ipython",
    "version": 3
   },
   "file_extension": ".py",
   "mimetype": "text/x-python",
   "name": "python",
   "nbconvert_exporter": "python",
   "pygments_lexer": "ipython3",
   "version": "3.12.3"
  }
 },
 "nbformat": 4,
 "nbformat_minor": 5
}
