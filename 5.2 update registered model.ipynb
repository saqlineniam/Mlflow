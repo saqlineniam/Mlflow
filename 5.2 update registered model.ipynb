{
 "cells": [
  {
   "cell_type": "code",
   "execution_count": 1,
   "id": "bfed3fdf",
   "metadata": {},
   "outputs": [],
   "source": [
    "import mlflow"
   ]
  },
  {
   "cell_type": "code",
   "execution_count": 2,
   "id": "02d49e89",
   "metadata": {},
   "outputs": [],
   "source": [
    "from sklearn.ensemble import RandomForestClassifier"
   ]
  },
  {
   "cell_type": "code",
   "execution_count": 3,
   "id": "534044dd",
   "metadata": {},
   "outputs": [],
   "source": [
    "rfc=RandomForestClassifier()"
   ]
  },
  {
   "cell_type": "code",
   "execution_count": 4,
   "id": "76a140b5",
   "metadata": {},
   "outputs": [
    {
     "name": "stderr",
     "output_type": "stream",
     "text": [
      "2025/09/13 04:34:41 WARNING mlflow.models.model: Model logged without a signature and input example. Please set `input_example` parameter when logging the model to auto infer the model signature.\n",
      "Registered model 'random-forest-classifier' already exists. Creating a new version of this model...\n",
      "Created version '2' of model 'random-forest-classifier'.\n"
     ]
    }
   ],
   "source": [
    "registered_model_name = \"random-forest-classifier\"\n",
    "with mlflow.start_run(run_name = \"update registered model\") as run:\n",
    "    mlflow.sklearn.log_model(sk_model = rfc, artifact_path = rfc.__class__.__name__, registered_model_name = registered_model_name)"
   ]
  },
  {
   "cell_type": "code",
   "execution_count": 5,
   "id": "bdb947fa",
   "metadata": {},
   "outputs": [],
   "source": [
    "client = mlflow.MlflowClient()"
   ]
  },
  {
   "cell_type": "code",
   "execution_count": 12,
   "id": "3414c9cf",
   "metadata": {},
   "outputs": [
    {
     "data": {
      "text/plain": [
       "<RegisteredModel: aliases={'Development': '1', 'candidate': '1', 'champion': '1'}, creation_timestamp=1757714450641, description='this is a random forest classifier', last_updated_timestamp=1757716561064, latest_versions=[<ModelVersion: aliases=[], creation_timestamp=1757716483742, current_stage='None', description=None, last_updated_timestamp=1757716483742, name='random-forest-classifier', run_id='6316832479c24a94a1f694cdd383afe3', run_link=None, source='file:///d:/Mlflow/mlruns/0/6316832479c24a94a1f694cdd383afe3/artifacts/RandomForestClassifier', status='READY', status_message=None, tags={}, user_id=None, version=2>], name='random-forest-classifier', tags={'framework': 'sklearn', 'project_name': 'No name', 'task': 'toy project'}>"
      ]
     },
     "execution_count": 12,
     "metadata": {},
     "output_type": "execute_result"
    }
   ],
   "source": [
    "client.update_registered_model(name = registered_model_name, description = \"this is a random forest classifier\")"
   ]
  },
  {
   "cell_type": "code",
   "execution_count": 11,
   "id": "6975d95c",
   "metadata": {},
   "outputs": [],
   "source": [
    "# Then set your tags\n",
    "registered_model_tags = {\n",
    "    \"project_name\": \"No name\",\n",
    "    \"task\": \"toy project\",\n",
    "    \"framework\": \"sklearn\"\n",
    "}\n",
    "\n",
    "# Apply the tags to the registered model\n",
    "client = mlflow.MlflowClient()\n",
    "for key, value in registered_model_tags.items():\n",
    "    client.set_registered_model_tag(name=registered_model_name, key=key, value=value)"
   ]
  },
  {
   "cell_type": "code",
   "execution_count": 8,
   "id": "9d6611e5",
   "metadata": {},
   "outputs": [],
   "source": [
    "#set model alias\n",
    "\n",
    "model_aliases = {\"champion\", \"candidate\", \"Development\"}\n",
    "\n",
    "for model_alias in model_aliases:\n",
    "    client.set_registered_model_alias(name = registered_model_name, alias = model_alias, version = \"1\")"
   ]
  },
  {
   "cell_type": "markdown",
   "id": "6c0bee6e",
   "metadata": {},
   "source": [
    "Creating new version"
   ]
  },
  {
   "cell_type": "code",
   "execution_count": 9,
   "id": "39a49753",
   "metadata": {},
   "outputs": [],
   "source": [
    "registered_model_name = \"random-forest-classifier\""
   ]
  },
  {
   "cell_type": "code",
   "execution_count": 13,
   "id": "0d68b0d2",
   "metadata": {},
   "outputs": [],
   "source": [
    "client.set_registered_model_alias(name = registered_model_name, alias = \"champion\",version = \"2\")"
   ]
  },
  {
   "cell_type": "code",
   "execution_count": null,
   "id": "44743a1f",
   "metadata": {},
   "outputs": [],
   "source": []
  }
 ],
 "metadata": {
  "kernelspec": {
   "display_name": "base",
   "language": "python",
   "name": "python3"
  },
  "language_info": {
   "codemirror_mode": {
    "name": "ipython",
    "version": 3
   },
   "file_extension": ".py",
   "mimetype": "text/x-python",
   "name": "python",
   "nbconvert_exporter": "python",
   "pygments_lexer": "ipython3",
   "version": "3.12.3"
  }
 },
 "nbformat": 4,
 "nbformat_minor": 5
}
