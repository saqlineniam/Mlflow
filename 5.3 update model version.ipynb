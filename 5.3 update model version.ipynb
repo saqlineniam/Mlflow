{
 "cells": [
  {
   "cell_type": "code",
   "execution_count": 1,
   "id": "e7be2a3a",
   "metadata": {},
   "outputs": [],
   "source": [
    "import mlflow"
   ]
  },
  {
   "cell_type": "code",
   "execution_count": 2,
   "id": "bf66a776",
   "metadata": {},
   "outputs": [],
   "source": [
    "registered_model_name = \"random-forest-classifier\""
   ]
  },
  {
   "cell_type": "code",
   "execution_count": 3,
   "id": "119d11ea",
   "metadata": {},
   "outputs": [],
   "source": [
    "client = mlflow.MlflowClient()"
   ]
  },
  {
   "cell_type": "code",
   "execution_count": 4,
   "id": "f331219f",
   "metadata": {},
   "outputs": [
    {
     "data": {
      "text/plain": [
       "<ModelVersion: aliases=['candidate', 'Development'], creation_timestamp=1757714450729, current_stage='None', description='updated model version', last_updated_timestamp=1757716782439, name='random-forest-classifier', run_id='68d3569e63364a1dbb6dbb83f9caaa6b', run_link=None, source='file:///d:/Mlflow/mlruns/0/68d3569e63364a1dbb6dbb83f9caaa6b/artifacts/RandomForestClassifier', status='READY', status_message=None, tags={}, user_id=None, version=1>"
      ]
     },
     "execution_count": 4,
     "metadata": {},
     "output_type": "execute_result"
    }
   ],
   "source": [
    "client.update_model_version(name = registered_model_name, version = \"1\", description = \"updated model version\")"
   ]
  },
  {
   "cell_type": "code",
   "execution_count": 5,
   "id": "a4924ad6",
   "metadata": {},
   "outputs": [
    {
     "data": {
      "text/plain": [
       "<ModelVersion: aliases=['champion'], creation_timestamp=1757716483742, current_stage='None', description='this version is shit', last_updated_timestamp=1757716812204, name='random-forest-classifier', run_id='6316832479c24a94a1f694cdd383afe3', run_link=None, source='file:///d:/Mlflow/mlruns/0/6316832479c24a94a1f694cdd383afe3/artifacts/RandomForestClassifier', status='READY', status_message=None, tags={}, user_id=None, version=2>"
      ]
     },
     "execution_count": 5,
     "metadata": {},
     "output_type": "execute_result"
    }
   ],
   "source": [
    "client.update_model_version(name = registered_model_name, version = \"2\", description = \"this version is shit\")"
   ]
  },
  {
   "cell_type": "markdown",
   "id": "ed880f97",
   "metadata": {},
   "source": [
    "add model version tag"
   ]
  },
  {
   "cell_type": "code",
   "execution_count": 6,
   "id": "d74d9287",
   "metadata": {},
   "outputs": [],
   "source": [
    "client.set_model_version_tag(name = registered_model_name, version = \"1\", key = \"validation_status\", value = \"Screening\")"
   ]
  },
  {
   "cell_type": "code",
   "execution_count": null,
   "id": "d8f5be64",
   "metadata": {},
   "outputs": [],
   "source": []
  }
 ],
 "metadata": {
  "kernelspec": {
   "display_name": "base",
   "language": "python",
   "name": "python3"
  },
  "language_info": {
   "codemirror_mode": {
    "name": "ipython",
    "version": 3
   },
   "file_extension": ".py",
   "mimetype": "text/x-python",
   "name": "python",
   "nbconvert_exporter": "python",
   "pygments_lexer": "ipython3",
   "version": "3.12.3"
  }
 },
 "nbformat": 4,
 "nbformat_minor": 5
}
