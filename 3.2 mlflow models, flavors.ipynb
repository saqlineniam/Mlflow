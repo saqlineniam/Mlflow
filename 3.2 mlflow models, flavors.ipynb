{
 "cells": [
  {
   "cell_type": "code",
   "execution_count": 1,
   "id": "224b5004",
   "metadata": {},
   "outputs": [],
   "source": [
    "import mlflow"
   ]
  },
  {
   "cell_type": "code",
   "execution_count": 2,
   "id": "75320244",
   "metadata": {},
   "outputs": [
    {
     "data": {
      "text/plain": [
       "<Experiment: artifact_location='file:///d:/Mlflow/mlruns/325944852318647122', creation_time=1757588755056, experiment_id='325944852318647122', last_update_time=1757590356366, lifecycle_stage='active', name='Seed Germination Rate', tags={'mlflow.note.content': 'This is the description for the experiment',\n",
       " 'new-tags': 'new_tag_updated_with_client',\n",
       " 'new_tags': 'v1'}>"
      ]
     },
     "execution_count": 2,
     "metadata": {},
     "output_type": "execute_result"
    }
   ],
   "source": [
    "mlflow.set_experiment(experiment_name = \"Seed Germination Rate\")"
   ]
  },
  {
   "cell_type": "code",
   "execution_count": 5,
   "id": "9032b726",
   "metadata": {},
   "outputs": [],
   "source": [
    "from xgboost.sklearn import XGBRegressor"
   ]
  },
  {
   "cell_type": "code",
   "execution_count": 6,
   "id": "ccd89432",
   "metadata": {},
   "outputs": [],
   "source": [
    "xgb = XGBRegressor()"
   ]
  },
  {
   "cell_type": "code",
   "execution_count": 9,
   "id": "ee9c9fa3",
   "metadata": {},
   "outputs": [
    {
     "name": "stderr",
     "output_type": "stream",
     "text": [
      "2025/09/11 21:43:49 WARNING mlflow.models.model: Model logged without a signature and input example. Please set `input_example` parameter when logging the model to auto infer the model signature.\n"
     ]
    }
   ],
   "source": [
    "with mlflow.start_run(run_name = \"ml logging\") as run:\n",
    "    mlflow.sklearn.log_model(sk_model = xgb, artifact_path = \"XGB-model\")"
   ]
  },
  {
   "cell_type": "code",
   "execution_count": 10,
   "id": "cefba48b",
   "metadata": {},
   "outputs": [],
   "source": [
    "from sklearn.datasets import load_iris"
   ]
  },
  {
   "cell_type": "code",
   "execution_count": 15,
   "id": "0999d70d",
   "metadata": {},
   "outputs": [],
   "source": [
    "import pandas as pd"
   ]
  },
  {
   "cell_type": "code",
   "execution_count": 18,
   "id": "e9504d94",
   "metadata": {},
   "outputs": [],
   "source": [
    "df = pd.read_excel(r\"C:\\Users\\saqli\\Desktop\\New_dataset.xlsx\")"
   ]
  },
  {
   "cell_type": "code",
   "execution_count": 19,
   "id": "7139f57a",
   "metadata": {},
   "outputs": [
    {
     "data": {
      "text/html": [
       "<div>\n",
       "<style scoped>\n",
       "    .dataframe tbody tr th:only-of-type {\n",
       "        vertical-align: middle;\n",
       "    }\n",
       "\n",
       "    .dataframe tbody tr th {\n",
       "        vertical-align: top;\n",
       "    }\n",
       "\n",
       "    .dataframe thead th {\n",
       "        text-align: right;\n",
       "    }\n",
       "</style>\n",
       "<table border=\"1\" class=\"dataframe\">\n",
       "  <thead>\n",
       "    <tr style=\"text-align: right;\">\n",
       "      <th></th>\n",
       "      <th>seed</th>\n",
       "      <th>cultivar</th>\n",
       "      <th>size of each seed (mm)</th>\n",
       "      <th>weight of each seed (gr)</th>\n",
       "      <th>baseline SOD (u g-1)</th>\n",
       "      <th>germination days</th>\n",
       "      <th>base germination rate</th>\n",
       "      <th>potential time</th>\n",
       "      <th>base germination potential</th>\n",
       "      <th>base germination index</th>\n",
       "      <th>...</th>\n",
       "      <th>power (w)</th>\n",
       "      <th>pressure (kPa)</th>\n",
       "      <th>gas flow rate (L/min)</th>\n",
       "      <th>plasma time</th>\n",
       "      <th>seed number</th>\n",
       "      <th>water soaking time (h)</th>\n",
       "      <th>water (ml)</th>\n",
       "      <th>growing temp</th>\n",
       "      <th>germination rate</th>\n",
       "      <th>Unnamed: 28</th>\n",
       "    </tr>\n",
       "  </thead>\n",
       "  <tbody>\n",
       "    <tr>\n",
       "      <th>0</th>\n",
       "      <td>Soybean</td>\n",
       "      <td>Sari</td>\n",
       "      <td>4.55</td>\n",
       "      <td>0.196</td>\n",
       "      <td>17.99</td>\n",
       "      <td>7.0</td>\n",
       "      <td>92.75</td>\n",
       "      <td>3.0</td>\n",
       "      <td>85.50</td>\n",
       "      <td>57.12</td>\n",
       "      <td>...</td>\n",
       "      <td>100.0</td>\n",
       "      <td>101.325</td>\n",
       "      <td>2.0</td>\n",
       "      <td>30</td>\n",
       "      <td>25</td>\n",
       "      <td>NaN</td>\n",
       "      <td>5.0</td>\n",
       "      <td>25</td>\n",
       "      <td>98.13</td>\n",
       "      <td>NaN</td>\n",
       "    </tr>\n",
       "    <tr>\n",
       "      <th>1</th>\n",
       "      <td>Soybean</td>\n",
       "      <td>Sari</td>\n",
       "      <td>4.25</td>\n",
       "      <td>0.175</td>\n",
       "      <td>10.65</td>\n",
       "      <td>7.0</td>\n",
       "      <td>94.13</td>\n",
       "      <td>3.0</td>\n",
       "      <td>88.25</td>\n",
       "      <td>58.34</td>\n",
       "      <td>...</td>\n",
       "      <td>100.0</td>\n",
       "      <td>101.325</td>\n",
       "      <td>2.0</td>\n",
       "      <td>30</td>\n",
       "      <td>25</td>\n",
       "      <td>NaN</td>\n",
       "      <td>5.0</td>\n",
       "      <td>25</td>\n",
       "      <td>97.25</td>\n",
       "      <td>NaN</td>\n",
       "    </tr>\n",
       "    <tr>\n",
       "      <th>2</th>\n",
       "      <td>Soybean</td>\n",
       "      <td>Saba</td>\n",
       "      <td>5.25</td>\n",
       "      <td>0.165</td>\n",
       "      <td>20.00</td>\n",
       "      <td>7.0</td>\n",
       "      <td>82.38</td>\n",
       "      <td>3.0</td>\n",
       "      <td>72.75</td>\n",
       "      <td>63.39</td>\n",
       "      <td>...</td>\n",
       "      <td>100.0</td>\n",
       "      <td>101.325</td>\n",
       "      <td>2.0</td>\n",
       "      <td>30</td>\n",
       "      <td>25</td>\n",
       "      <td>NaN</td>\n",
       "      <td>5.0</td>\n",
       "      <td>25</td>\n",
       "      <td>88.88</td>\n",
       "      <td>NaN</td>\n",
       "    </tr>\n",
       "    <tr>\n",
       "      <th>3</th>\n",
       "      <td>Soybean</td>\n",
       "      <td>Saba</td>\n",
       "      <td>5.05</td>\n",
       "      <td>0.146</td>\n",
       "      <td>24.00</td>\n",
       "      <td>7.0</td>\n",
       "      <td>86.76</td>\n",
       "      <td>3.0</td>\n",
       "      <td>79.50</td>\n",
       "      <td>50.61</td>\n",
       "      <td>...</td>\n",
       "      <td>100.0</td>\n",
       "      <td>101.325</td>\n",
       "      <td>2.0</td>\n",
       "      <td>30</td>\n",
       "      <td>25</td>\n",
       "      <td>NaN</td>\n",
       "      <td>5.0</td>\n",
       "      <td>25</td>\n",
       "      <td>92.25</td>\n",
       "      <td>NaN</td>\n",
       "    </tr>\n",
       "    <tr>\n",
       "      <th>4</th>\n",
       "      <td>Soybean</td>\n",
       "      <td>Arian</td>\n",
       "      <td>5.35</td>\n",
       "      <td>0.249</td>\n",
       "      <td>17.06</td>\n",
       "      <td>7.0</td>\n",
       "      <td>90.25</td>\n",
       "      <td>3.0</td>\n",
       "      <td>84.50</td>\n",
       "      <td>54.05</td>\n",
       "      <td>...</td>\n",
       "      <td>100.0</td>\n",
       "      <td>101.325</td>\n",
       "      <td>2.0</td>\n",
       "      <td>30</td>\n",
       "      <td>25</td>\n",
       "      <td>NaN</td>\n",
       "      <td>5.0</td>\n",
       "      <td>25</td>\n",
       "      <td>93.88</td>\n",
       "      <td>NaN</td>\n",
       "    </tr>\n",
       "  </tbody>\n",
       "</table>\n",
       "<p>5 rows × 29 columns</p>\n",
       "</div>"
      ],
      "text/plain": [
       "      seed cultivar  size of each seed (mm)  weight of each seed (gr)  \\\n",
       "0  Soybean     Sari                    4.55                     0.196   \n",
       "1  Soybean     Sari                    4.25                     0.175   \n",
       "2  Soybean     Saba                    5.25                     0.165   \n",
       "3  Soybean     Saba                    5.05                     0.146   \n",
       "4  Soybean    Arian                    5.35                     0.249   \n",
       "\n",
       "   baseline SOD (u g-1)  germination days  base germination rate  \\\n",
       "0                 17.99               7.0                  92.75   \n",
       "1                 10.65               7.0                  94.13   \n",
       "2                 20.00               7.0                  82.38   \n",
       "3                 24.00               7.0                  86.76   \n",
       "4                 17.06               7.0                  90.25   \n",
       "\n",
       "   potential time  base germination potential  base germination index  ...  \\\n",
       "0             3.0                       85.50                   57.12  ...   \n",
       "1             3.0                       88.25                   58.34  ...   \n",
       "2             3.0                       72.75                   63.39  ...   \n",
       "3             3.0                       79.50                   50.61  ...   \n",
       "4             3.0                       84.50                   54.05  ...   \n",
       "\n",
       "  power (w) pressure (kPa)  gas flow rate (L/min)  plasma time  seed number  \\\n",
       "0     100.0        101.325                    2.0           30           25   \n",
       "1     100.0        101.325                    2.0           30           25   \n",
       "2     100.0        101.325                    2.0           30           25   \n",
       "3     100.0        101.325                    2.0           30           25   \n",
       "4     100.0        101.325                    2.0           30           25   \n",
       "\n",
       "   water soaking time (h)  water (ml)  growing temp  germination rate  \\\n",
       "0                     NaN         5.0            25             98.13   \n",
       "1                     NaN         5.0            25             97.25   \n",
       "2                     NaN         5.0            25             88.88   \n",
       "3                     NaN         5.0            25             92.25   \n",
       "4                     NaN         5.0            25             93.88   \n",
       "\n",
       "   Unnamed: 28  \n",
       "0          NaN  \n",
       "1          NaN  \n",
       "2          NaN  \n",
       "3          NaN  \n",
       "4          NaN  \n",
       "\n",
       "[5 rows x 29 columns]"
      ]
     },
     "execution_count": 19,
     "metadata": {},
     "output_type": "execute_result"
    }
   ],
   "source": [
    "df.head()"
   ]
  },
  {
   "cell_type": "code",
   "execution_count": 20,
   "id": "b7e3d34c",
   "metadata": {},
   "outputs": [],
   "source": [
    "input = ['size of each seed (mm)', 'weight of each seed (gr)', 'germination days', 'base germination rate', 'base germination potential','power (w)']\n",
    "target ='germination rate'"
   ]
  },
  {
   "cell_type": "code",
   "execution_count": 22,
   "id": "faf70e03",
   "metadata": {},
   "outputs": [],
   "source": [
    "x = df[input]\n",
    "y = df[target]"
   ]
  },
  {
   "cell_type": "code",
   "execution_count": 23,
   "id": "e23315ba",
   "metadata": {},
   "outputs": [
    {
     "name": "stdout",
     "output_type": "stream",
     "text": [
      "<class 'pandas.core.frame.DataFrame'>\n",
      "RangeIndex: 157 entries, 0 to 156\n",
      "Data columns (total 6 columns):\n",
      " #   Column                      Non-Null Count  Dtype  \n",
      "---  ------                      --------------  -----  \n",
      " 0   size of each seed (mm)      157 non-null    float64\n",
      " 1   weight of each seed (gr)    157 non-null    float64\n",
      " 2   germination days            157 non-null    float64\n",
      " 3   base germination rate       157 non-null    float64\n",
      " 4   base germination potential  131 non-null    float64\n",
      " 5   power (w)                   157 non-null    float64\n",
      "dtypes: float64(6)\n",
      "memory usage: 7.5 KB\n"
     ]
    }
   ],
   "source": [
    "x.info()"
   ]
  },
  {
   "cell_type": "code",
   "execution_count": 24,
   "id": "ce5ab69c",
   "metadata": {},
   "outputs": [
    {
     "name": "stdout",
     "output_type": "stream",
     "text": [
      "<class 'pandas.core.series.Series'>\n",
      "RangeIndex: 157 entries, 0 to 156\n",
      "Series name: germination rate\n",
      "Non-Null Count  Dtype  \n",
      "--------------  -----  \n",
      "157 non-null    float64\n",
      "dtypes: float64(1)\n",
      "memory usage: 1.4 KB\n"
     ]
    }
   ],
   "source": [
    "y.info()"
   ]
  },
  {
   "cell_type": "code",
   "execution_count": 25,
   "id": "625acd3d",
   "metadata": {},
   "outputs": [
    {
     "name": "stdout",
     "output_type": "stream",
     "text": [
      "     size of each seed (mm)  weight of each seed (gr)  germination days  \\\n",
      "0                      4.55                    0.1960               7.0   \n",
      "1                      4.25                    0.1750               7.0   \n",
      "2                      5.25                    0.1650               7.0   \n",
      "3                      5.05                    0.1460               7.0   \n",
      "4                      5.35                    0.2490               7.0   \n",
      "..                      ...                       ...               ...   \n",
      "115                    2.50                    0.0033               5.0   \n",
      "116                    2.50                    0.0033               2.5   \n",
      "117                    2.50                    0.0033               3.0   \n",
      "118                    2.50                    0.0033               3.5   \n",
      "119                    2.50                    0.0033               5.0   \n",
      "\n",
      "     base germination rate  base germination potential  power (w)  \n",
      "0                    92.75                       85.50     100.00  \n",
      "1                    94.13                       88.25     100.00  \n",
      "2                    82.38                       72.75     100.00  \n",
      "3                    86.76                       79.50     100.00  \n",
      "4                    90.25                       84.50     100.00  \n",
      "..                     ...                         ...        ...  \n",
      "115                  68.00                       10.86       1.43  \n",
      "116                  10.86                       10.86       1.43  \n",
      "117                  42.88                       10.86       1.43  \n",
      "118                  69.53                       10.86       1.43  \n",
      "119                  84.34                       10.86       1.43  \n",
      "\n",
      "[120 rows x 6 columns]\n"
     ]
    }
   ],
   "source": [
    "input_example = x.iloc[0:120]\n",
    "print(input_example)"
   ]
  },
  {
   "cell_type": "code",
   "execution_count": 32,
   "id": "d9b23201",
   "metadata": {},
   "outputs": [],
   "source": [
    "from sklearn.model_selection import train_test_split\n",
    "from xgboost import XGBRegressor\n",
    "\n",
    "# Assuming your data is in a pandas DataFrame called 'df'\n",
    "# Replace 'target_column' with your actual target column name\n",
    "# Target variable\n",
    "\n",
    "# Split the data into training and testing sets (80% train, 20% test)\n",
    "X_train, X_test, y_train, y_test = train_test_split(\n",
    "    x, y, test_size=0.2, random_state=42\n",
    ")"
   ]
  },
  {
   "cell_type": "code",
   "execution_count": 33,
   "id": "eb2d5d82",
   "metadata": {},
   "outputs": [
    {
     "data": {
      "application/vnd.jupyter.widget-view+json": {
       "model_id": "365c002e8f1441ee8644ade4a5b5dcdf",
       "version_major": 2,
       "version_minor": 0
      },
      "text/plain": [
       "Downloading artifacts:   0%|          | 0/7 [00:00<?, ?it/s]"
      ]
     },
     "metadata": {},
     "output_type": "display_data"
    }
   ],
   "source": [
    "# First, split your data into features (X) and target (y)\n",
    "# For example:\n",
    "# X = df.drop('target_column', axis=1)\n",
    "# y = df['target_column']\n",
    "\n",
    "# Initialize and train the model\n",
    "xgb = XGBRegressor()\n",
    "xgb.fit(X_train, y_train)  # Make sure to fit the model first\n",
    "\n",
    "# Then log the model\n",
    "with mlflow.start_run(run_id=\"e54222476fa54f82b0f176aaffe0a4d6\") as run:\n",
    "    mlflow.sklearn.log_model(\n",
    "        sk_model=xgb,\n",
    "        artifact_path=xgb.__class__.__name__,\n",
    "        input_example=input_example\n",
    "    )"
   ]
  },
  {
   "cell_type": "markdown",
   "id": "aa0e9033",
   "metadata": {},
   "source": [
    "Log Dictionary"
   ]
  },
  {
   "cell_type": "code",
   "execution_count": 37,
   "id": "303644cb",
   "metadata": {},
   "outputs": [],
   "source": [
    "with mlflow.start_run(run_id = \"e54222476fa54f82b0f176aaffe0a4d6\") as run:\n",
    "    dictionary ={\n",
    "        \"predictions.csv\" : r\"C:\\Users\\saqli\\Desktop\\New_dataset.xlsx\",\n",
    "        \"model.pkl\" : r\"C:\\Users\\saqli\\Downloads\\Cold Plasma\\Cold Plasma\\COld plasma new start\\best_xgb_model.pkl\"\n",
    "    }\n",
    "\n",
    "    mlflow.log_dict(dictionary = dictionary, artifact_file = \"my_files.json\")\n",
    "    mlflow.log_dict(dictionary = dictionary, artifact_file = \"my_files.yaml\")"
   ]
  },
  {
   "cell_type": "markdown",
   "id": "5fe96793",
   "metadata": {},
   "source": [
    "log a figure"
   ]
  },
  {
   "cell_type": "code",
   "execution_count": 42,
   "id": "202c4f7f",
   "metadata": {},
   "outputs": [
    {
     "data": {
      "image/png": "[encoded data removed]",
      "text/plain": [
       "<Figure size 640x480 with 1 Axes>"
      ]
     },
     "metadata": {},
     "output_type": "display_data"
    }
   ],
   "source": [
    "import matplotlib.pyplot as plt\n",
    "\n",
    "fig, ax = plt.subplots()\n",
    "ax.plot([0,1],[2,3])\n",
    "\n",
    "with mlflow.start_run(run_name = \"log_figure\") as run:\n",
    "    mlflow.log_figure(fig, artifact_file = \"figures/ figure.png\")"
   ]
  },
  {
   "cell_type": "code",
   "execution_count": null,
   "id": "a914f4f8",
   "metadata": {},
   "outputs": [],
   "source": []
  }
 ],
 "metadata": {
  "kernelspec": {
   "display_name": "base",
   "language": "python",
   "name": "python3"
  },
  "language_info": {
   "codemirror_mode": {
    "name": "ipython",
    "version": 3
   },
   "file_extension": ".py",
   "mimetype": "text/x-python",
   "name": "python",
   "nbconvert_exporter": "python",
   "pygments_lexer": "ipython3",
   "version": "3.12.3"
  }
 },
 "nbformat": 4,
 "nbformat_minor": 5
}
