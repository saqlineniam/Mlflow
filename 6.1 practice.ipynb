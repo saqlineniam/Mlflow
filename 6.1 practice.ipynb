{
 "cells": [
  {
   "cell_type": "code",
   "execution_count": 1,
   "id": "650e75b5",
   "metadata": {},
   "outputs": [],
   "source": [
    "import mlflow"
   ]
  },
  {
   "cell_type": "code",
   "execution_count": 2,
   "id": "0ec14ac5",
   "metadata": {},
   "outputs": [],
   "source": [
    "from xgboost import XGBRegressor"
   ]
  },
  {
   "cell_type": "code",
   "execution_count": 3,
   "id": "d0a2992d",
   "metadata": {},
   "outputs": [],
   "source": [
    "xgb = XGBRegressor()"
   ]
  },
  {
   "cell_type": "code",
   "execution_count": 4,
   "id": "227d487a",
   "metadata": {},
   "outputs": [
    {
     "data": {
      "text/plain": [
       "<Experiment: artifact_location='file:///d:/Mlflow/mlruns/671298893302379228', creation_time=1757861285539, experiment_id='671298893302379228', last_update_time=1757861285539, lifecycle_stage='active', name='seed germination', tags={}>"
      ]
     },
     "execution_count": 4,
     "metadata": {},
     "output_type": "execute_result"
    }
   ],
   "source": [
    "mlflow.set_experiment(experiment_name = \"seed germination\")"
   ]
  },
  {
   "cell_type": "code",
   "execution_count": 5,
   "id": "7537be60",
   "metadata": {},
   "outputs": [],
   "source": [
    "import pandas as pd\n",
    "from sklearn.model_selection import train_test_split"
   ]
  },
  {
   "cell_type": "code",
   "execution_count": 6,
   "id": "590e3baf",
   "metadata": {},
   "outputs": [],
   "source": [
    "df = pd.read_excel(r\"C:\\Users\\saqli\\Desktop\\New_dataset.xlsx\")"
   ]
  },
  {
   "cell_type": "code",
   "execution_count": 7,
   "id": "df5748c4",
   "metadata": {},
   "outputs": [
    {
     "name": "stdout",
     "output_type": "stream",
     "text": [
      "<class 'pandas.core.frame.DataFrame'>\n",
      "RangeIndex: 157 entries, 0 to 156\n",
      "Data columns (total 29 columns):\n",
      " #   Column                      Non-Null Count  Dtype  \n",
      "---  ------                      --------------  -----  \n",
      " 0   seed                        157 non-null    object \n",
      " 1   cultivar                    157 non-null    object \n",
      " 2   size of each seed (mm)      157 non-null    float64\n",
      " 3   weight of each seed (gr)    157 non-null    float64\n",
      " 4   baseline SOD (u g-1)        157 non-null    float64\n",
      " 5   germination days            157 non-null    float64\n",
      " 6   base germination rate       157 non-null    float64\n",
      " 7   potential time              131 non-null    float64\n",
      " 8   base germination potential  131 non-null    float64\n",
      " 9   base germination index      115 non-null    float64\n",
      " 10  Plasma                      157 non-null    object \n",
      " 11  gas                         151 non-null    object \n",
      " 12  length (cm)                 154 non-null    float64\n",
      " 13  width (cm)                  117 non-null    float64\n",
      " 14  thickness (cm)              154 non-null    float64\n",
      " 15  temperature                 135 non-null    float64\n",
      " 16  seed to electrode           154 non-null    float64\n",
      " 17  voltage (kV)                157 non-null    float64\n",
      " 18  frequency (kHz)             157 non-null    float64\n",
      " 19  power (w)                   157 non-null    float64\n",
      " 20  pressure (kPa)              157 non-null    float64\n",
      " 21  gas flow rate (L/min)       154 non-null    float64\n",
      " 22  plasma time                 157 non-null    int64  \n",
      " 23  seed number                 157 non-null    int64  \n",
      " 24  water soaking time (h)      24 non-null     float64\n",
      " 25  water (ml)                  115 non-null    float64\n",
      " 26  growing temp                157 non-null    int64  \n",
      " 27  germination rate            157 non-null    float64\n",
      " 28  Unnamed: 28                 8 non-null      object \n",
      "dtypes: float64(21), int64(3), object(5)\n",
      "memory usage: 35.7+ KB\n"
     ]
    }
   ],
   "source": [
    "df.info()"
   ]
  },
  {
   "cell_type": "code",
   "execution_count": 8,
   "id": "cc4c0e73",
   "metadata": {},
   "outputs": [],
   "source": [
    "inputs = [\"size of each seed (mm)\", \"germination days\", \"base germination rate\", \"base germination potential\", \"base germination index\", \"voltage (kV)\", \"power (w)\", \"gas flow rate (L/min)\"]\n",
    "target = [\"germination rate\"]"
   ]
  },
  {
   "cell_type": "code",
   "execution_count": 9,
   "id": "5044039a",
   "metadata": {},
   "outputs": [],
   "source": [
    "X = df[inputs]\n",
    "y = df[target]"
   ]
  },
  {
   "cell_type": "code",
   "execution_count": 10,
   "id": "480e8909",
   "metadata": {},
   "outputs": [],
   "source": [
    "X_train, X_test, y_train, y_test = train_test_split(X, y, test_size=0.2, random_state=3)"
   ]
  },
  {
   "cell_type": "code",
   "execution_count": 11,
   "id": "5d580da2",
   "metadata": {},
   "outputs": [
    {
     "data": {
      "text/html": [
       "<div>\n",
       "<style scoped>\n",
       "    .dataframe tbody tr th:only-of-type {\n",
       "        vertical-align: middle;\n",
       "    }\n",
       "\n",
       "    .dataframe tbody tr th {\n",
       "        vertical-align: top;\n",
       "    }\n",
       "\n",
       "    .dataframe thead th {\n",
       "        text-align: right;\n",
       "    }\n",
       "</style>\n",
       "<table border=\"1\" class=\"dataframe\">\n",
       "  <thead>\n",
       "    <tr style=\"text-align: right;\">\n",
       "      <th></th>\n",
       "      <th>germination rate</th>\n",
       "    </tr>\n",
       "  </thead>\n",
       "  <tbody>\n",
       "    <tr>\n",
       "      <th>12</th>\n",
       "      <td>92.38</td>\n",
       "    </tr>\n",
       "    <tr>\n",
       "      <th>14</th>\n",
       "      <td>96.00</td>\n",
       "    </tr>\n",
       "    <tr>\n",
       "      <th>24</th>\n",
       "      <td>94.63</td>\n",
       "    </tr>\n",
       "    <tr>\n",
       "      <th>92</th>\n",
       "      <td>10.35</td>\n",
       "    </tr>\n",
       "    <tr>\n",
       "      <th>73</th>\n",
       "      <td>83.72</td>\n",
       "    </tr>\n",
       "  </tbody>\n",
       "</table>\n",
       "</div>"
      ],
      "text/plain": [
       "    germination rate\n",
       "12             92.38\n",
       "14             96.00\n",
       "24             94.63\n",
       "92             10.35\n",
       "73             83.72"
      ]
     },
     "execution_count": 11,
     "metadata": {},
     "output_type": "execute_result"
    }
   ],
   "source": [
    "y_train.head()"
   ]
  },
  {
   "cell_type": "code",
   "execution_count": 12,
   "id": "755d2a67",
   "metadata": {},
   "outputs": [
    {
     "name": "stdout",
     "output_type": "stream",
     "text": [
      "n_estimators: 50\n",
      "n_estimators: 100\n",
      "n_estimators: 200\n",
      "n_estimators: 300\n"
     ]
    }
   ],
   "source": [
    "estimators = [50,100,200,300]\n",
    "xgb_model = {}\n",
    "\n",
    "for n_estimators in estimators:\n",
    "    xgb = XGBRegressor(n_estimators=n_estimators, random_state=3)\n",
    "    xgb.fit(X_train, y_train)\n",
    "    xgb_model[str(n_estimators)] = xgb\n",
    "    print(f\"n_estimators: {n_estimators}\")\n",
    "    "
   ]
  },
  {
   "cell_type": "code",
   "execution_count": 13,
   "id": "97318bae",
   "metadata": {},
   "outputs": [
    {
     "name": "stdout",
     "output_type": "stream",
     "text": [
      "\n",
      "All trained models:\n",
      "n_estimators: 50 -> Model: XGBRegressor(base_score=None, booster=None, callbacks=None,\n",
      "             colsample_bylevel=None, colsample_bynode=None,\n",
      "             colsample_bytree=None, device=None, early_stopping_rounds=None,\n",
      "             enable_categorical=False, eval_metric=None, feature_types=None,\n",
      "             feature_weights=None, gamma=None, grow_policy=None,\n",
      "             importance_type=None, interaction_constraints=None,\n",
      "             learning_rate=None, max_bin=None, max_cat_threshold=None,\n",
      "             max_cat_to_onehot=None, max_delta_step=None, max_depth=None,\n",
      "             max_leaves=None, min_child_weight=None, missing=nan,\n",
      "             monotone_constraints=None, multi_strategy=None, n_estimators=50,\n",
      "             n_jobs=None, num_parallel_tree=None, ...)\n",
      "n_estimators: 100 -> Model: XGBRegressor(base_score=None, booster=None, callbacks=None,\n",
      "             colsample_bylevel=None, colsample_bynode=None,\n",
      "             colsample_bytree=None, device=None, early_stopping_rounds=None,\n",
      "             enable_categorical=False, eval_metric=None, feature_types=None,\n",
      "             feature_weights=None, gamma=None, grow_policy=None,\n",
      "             importance_type=None, interaction_constraints=None,\n",
      "             learning_rate=None, max_bin=None, max_cat_threshold=None,\n",
      "             max_cat_to_onehot=None, max_delta_step=None, max_depth=None,\n",
      "             max_leaves=None, min_child_weight=None, missing=nan,\n",
      "             monotone_constraints=None, multi_strategy=None, n_estimators=100,\n",
      "             n_jobs=None, num_parallel_tree=None, ...)\n",
      "n_estimators: 200 -> Model: XGBRegressor(base_score=None, booster=None, callbacks=None,\n",
      "             colsample_bylevel=None, colsample_bynode=None,\n",
      "             colsample_bytree=None, device=None, early_stopping_rounds=None,\n",
      "             enable_categorical=False, eval_metric=None, feature_types=None,\n",
      "             feature_weights=None, gamma=None, grow_policy=None,\n",
      "             importance_type=None, interaction_constraints=None,\n",
      "             learning_rate=None, max_bin=None, max_cat_threshold=None,\n",
      "             max_cat_to_onehot=None, max_delta_step=None, max_depth=None,\n",
      "             max_leaves=None, min_child_weight=None, missing=nan,\n",
      "             monotone_constraints=None, multi_strategy=None, n_estimators=200,\n",
      "             n_jobs=None, num_parallel_tree=None, ...)\n",
      "n_estimators: 300 -> Model: XGBRegressor(base_score=None, booster=None, callbacks=None,\n",
      "             colsample_bylevel=None, colsample_bynode=None,\n",
      "             colsample_bytree=None, device=None, early_stopping_rounds=None,\n",
      "             enable_categorical=False, eval_metric=None, feature_types=None,\n",
      "             feature_weights=None, gamma=None, grow_policy=None,\n",
      "             importance_type=None, interaction_constraints=None,\n",
      "             learning_rate=None, max_bin=None, max_cat_threshold=None,\n",
      "             max_cat_to_onehot=None, max_delta_step=None, max_depth=None,\n",
      "             max_leaves=None, min_child_weight=None, missing=nan,\n",
      "             monotone_constraints=None, multi_strategy=None, n_estimators=300,\n",
      "             n_jobs=None, num_parallel_tree=None, ...)\n"
     ]
    }
   ],
   "source": [
    "# To print all models at the end\n",
    "print(\"\\nAll trained models:\")\n",
    "for n_est, model in xgb_model.items():\n",
    "    print(f\"n_estimators: {n_est} -> Model: {model}\")"
   ]
  },
  {
   "cell_type": "code",
   "execution_count": 14,
   "id": "5518066c",
   "metadata": {},
   "outputs": [],
   "source": [
    "feature_names = X.columns.tolist()"
   ]
  },
  {
   "cell_type": "code",
   "execution_count": 15,
   "id": "085a1c84",
   "metadata": {},
   "outputs": [
    {
     "name": "stdout",
     "output_type": "stream",
     "text": [
      "    size of each seed (mm)  germination days  base germination rate  \\\n",
      "51                    3.50               4.0                  88.00   \n",
      "3                     5.05               7.0                  86.76   \n",
      "40                    4.55               7.0                  92.75   \n",
      "31                    4.25               7.0                  94.13   \n",
      "70                    7.08               4.0                  69.23   \n",
      "\n",
      "    base germination potential  base germination index  voltage (kV)  \\\n",
      "51                       62.50                   36.70          13.0   \n",
      "3                        79.50                   50.61           5.0   \n",
      "40                       85.50                   57.12           5.0   \n",
      "31                       88.25                   58.34           5.0   \n",
      "70                       39.74                   25.83           9.0   \n",
      "\n",
      "    power (w)  gas flow rate (L/min)  target  \n",
      "51       1.50                    1.5   95.30  \n",
      "3      100.00                    2.0   92.25  \n",
      "40     100.00                    2.0   97.13  \n",
      "31     100.00                    2.0   97.25  \n",
      "70       1.06                   50.0   93.59  \n"
     ]
    }
   ],
   "source": [
    "import pandas as pd\n",
    "\n",
    "# If X_test is a pandas DataFrame and y_test is a Series\n",
    "test = X_test.copy()\n",
    "test['target'] = y_test\n",
    "\n",
    "# Verify the first few rows\n",
    "print(test.head())"
   ]
  },
  {
   "cell_type": "code",
   "execution_count": 16,
   "id": "3755338f",
   "metadata": {},
   "outputs": [
    {
     "data": {
      "text/html": [
       "<div>\n",
       "<style scoped>\n",
       "    .dataframe tbody tr th:only-of-type {\n",
       "        vertical-align: middle;\n",
       "    }\n",
       "\n",
       "    .dataframe tbody tr th {\n",
       "        vertical-align: top;\n",
       "    }\n",
       "\n",
       "    .dataframe thead th {\n",
       "        text-align: right;\n",
       "    }\n",
       "</style>\n",
       "<table border=\"1\" class=\"dataframe\">\n",
       "  <thead>\n",
       "    <tr style=\"text-align: right;\">\n",
       "      <th></th>\n",
       "      <th>size of each seed (mm)</th>\n",
       "      <th>germination days</th>\n",
       "      <th>base germination rate</th>\n",
       "      <th>base germination potential</th>\n",
       "      <th>base germination index</th>\n",
       "      <th>voltage (kV)</th>\n",
       "      <th>power (w)</th>\n",
       "      <th>gas flow rate (L/min)</th>\n",
       "      <th>target</th>\n",
       "    </tr>\n",
       "  </thead>\n",
       "  <tbody>\n",
       "    <tr>\n",
       "      <th>51</th>\n",
       "      <td>3.50</td>\n",
       "      <td>4.0</td>\n",
       "      <td>88.00</td>\n",
       "      <td>62.50</td>\n",
       "      <td>36.70</td>\n",
       "      <td>13.0</td>\n",
       "      <td>1.50</td>\n",
       "      <td>1.5</td>\n",
       "      <td>95.30</td>\n",
       "    </tr>\n",
       "    <tr>\n",
       "      <th>3</th>\n",
       "      <td>5.05</td>\n",
       "      <td>7.0</td>\n",
       "      <td>86.76</td>\n",
       "      <td>79.50</td>\n",
       "      <td>50.61</td>\n",
       "      <td>5.0</td>\n",
       "      <td>100.00</td>\n",
       "      <td>2.0</td>\n",
       "      <td>92.25</td>\n",
       "    </tr>\n",
       "    <tr>\n",
       "      <th>40</th>\n",
       "      <td>4.55</td>\n",
       "      <td>7.0</td>\n",
       "      <td>92.75</td>\n",
       "      <td>85.50</td>\n",
       "      <td>57.12</td>\n",
       "      <td>5.0</td>\n",
       "      <td>100.00</td>\n",
       "      <td>2.0</td>\n",
       "      <td>97.13</td>\n",
       "    </tr>\n",
       "    <tr>\n",
       "      <th>31</th>\n",
       "      <td>4.25</td>\n",
       "      <td>7.0</td>\n",
       "      <td>94.13</td>\n",
       "      <td>88.25</td>\n",
       "      <td>58.34</td>\n",
       "      <td>5.0</td>\n",
       "      <td>100.00</td>\n",
       "      <td>2.0</td>\n",
       "      <td>97.25</td>\n",
       "    </tr>\n",
       "    <tr>\n",
       "      <th>70</th>\n",
       "      <td>7.08</td>\n",
       "      <td>4.0</td>\n",
       "      <td>69.23</td>\n",
       "      <td>39.74</td>\n",
       "      <td>25.83</td>\n",
       "      <td>9.0</td>\n",
       "      <td>1.06</td>\n",
       "      <td>50.0</td>\n",
       "      <td>93.59</td>\n",
       "    </tr>\n",
       "  </tbody>\n",
       "</table>\n",
       "</div>"
      ],
      "text/plain": [
       "    size of each seed (mm)  germination days  base germination rate  \\\n",
       "51                    3.50               4.0                  88.00   \n",
       "3                     5.05               7.0                  86.76   \n",
       "40                    4.55               7.0                  92.75   \n",
       "31                    4.25               7.0                  94.13   \n",
       "70                    7.08               4.0                  69.23   \n",
       "\n",
       "    base germination potential  base germination index  voltage (kV)  \\\n",
       "51                       62.50                   36.70          13.0   \n",
       "3                        79.50                   50.61           5.0   \n",
       "40                       85.50                   57.12           5.0   \n",
       "31                       88.25                   58.34           5.0   \n",
       "70                       39.74                   25.83           9.0   \n",
       "\n",
       "    power (w)  gas flow rate (L/min)  target  \n",
       "51       1.50                    1.5   95.30  \n",
       "3      100.00                    2.0   92.25  \n",
       "40     100.00                    2.0   97.13  \n",
       "31     100.00                    2.0   97.25  \n",
       "70       1.06                   50.0   93.59  "
      ]
     },
     "execution_count": 16,
     "metadata": {},
     "output_type": "execute_result"
    }
   ],
   "source": [
    "test.head()"
   ]
  },
  {
   "cell_type": "code",
   "execution_count": 28,
   "id": "332a8050",
   "metadata": {},
   "outputs": [
    {
     "name": "stderr",
     "output_type": "stream",
     "text": [
      "2025/09/14 21:36:47 INFO mlflow.tracking.fluent: Experiment with name 'seed germination_2' does not exist. Creating a new experiment.\n"
     ]
    },
    {
     "data": {
      "text/plain": [
       "<Experiment: artifact_location='file:///d:/Mlflow/mlruns/965347835254305693', creation_time=1757864207312, experiment_id='965347835254305693', last_update_time=1757864207312, lifecycle_stage='active', name='seed germination_2', tags={}>"
      ]
     },
     "execution_count": 28,
     "metadata": {},
     "output_type": "execute_result"
    }
   ],
   "source": [
    "mlflow.set_experiment(experiment_name = \"seed germination_2\")"
   ]
  },
  {
   "cell_type": "code",
   "execution_count": 27,
   "id": "e497f2e7",
   "metadata": {},
   "outputs": [
    {
     "name": "stdout",
     "output_type": "stream",
     "text": [
      "n_estimators: 50\n",
      "n_estimators: 100\n",
      "n_estimators: 200\n",
      "n_estimators: 300\n",
      "Parent Run ID: 5df04157d68140fab4fb4813b1efc952\n",
      "  Child Run ID: 2c0ad4efa78c484fb8b285e192e8917f\n"
     ]
    },
    {
     "name": "stderr",
     "output_type": "stream",
     "text": [
      "2025/09/14 21:34:06 WARNING mlflow.models.model: Model logged without a signature and input example. Please set `input_example` parameter when logging the model to auto infer the model signature.\n",
      "2025/09/14 21:34:07 INFO mlflow.models.evaluation.default_evaluator: Testing metrics on first row...\n",
      "2025/09/14 21:34:07 INFO mlflow.models.evaluation.evaluators.shap: Shap explainer ExactExplainer is used.\n",
      "c:\\Users\\saqli\\anaconda3\\Lib\\site-packages\\mlflow\\shap\\__init__.py:436: UserWarning: Unable to serialize underlying model using MLflow, will use SHAP serialization\n",
      "  warnings.warn(\n",
      "2025/09/14 21:34:31 WARNING mlflow.models.model: Model logged without a signature and input example. Please set `input_example` parameter when logging the model to auto infer the model signature.\n"
     ]
    },
    {
     "name": "stdout",
     "output_type": "stream",
     "text": [
      "  Child Run ID: 7372d4ae11fe468b9dcf7fb2b0b2aeef\n"
     ]
    },
    {
     "name": "stderr",
     "output_type": "stream",
     "text": [
      "2025/09/14 21:34:57 WARNING mlflow.models.model: Model logged without a signature and input example. Please set `input_example` parameter when logging the model to auto infer the model signature.\n",
      "2025/09/14 21:34:59 INFO mlflow.models.evaluation.default_evaluator: Testing metrics on first row...\n",
      "2025/09/14 21:34:59 INFO mlflow.models.evaluation.evaluators.shap: Shap explainer ExactExplainer is used.\n",
      "c:\\Users\\saqli\\anaconda3\\Lib\\site-packages\\mlflow\\shap\\__init__.py:436: UserWarning: Unable to serialize underlying model using MLflow, will use SHAP serialization\n",
      "  warnings.warn(\n",
      "2025/09/14 21:35:23 WARNING mlflow.models.model: Model logged without a signature and input example. Please set `input_example` parameter when logging the model to auto infer the model signature.\n"
     ]
    },
    {
     "name": "stdout",
     "output_type": "stream",
     "text": [
      "  Child Run ID: e9f9098d1a594108bfb82fd3e3bf2ba4\n"
     ]
    },
    {
     "name": "stderr",
     "output_type": "stream",
     "text": [
      "2025/09/14 21:35:44 WARNING mlflow.models.model: Model logged without a signature and input example. Please set `input_example` parameter when logging the model to auto infer the model signature.\n",
      "2025/09/14 21:35:45 INFO mlflow.models.evaluation.default_evaluator: Testing metrics on first row...\n",
      "2025/09/14 21:35:45 INFO mlflow.models.evaluation.evaluators.shap: Shap explainer ExactExplainer is used.\n",
      "c:\\Users\\saqli\\anaconda3\\Lib\\site-packages\\mlflow\\shap\\__init__.py:436: UserWarning: Unable to serialize underlying model using MLflow, will use SHAP serialization\n",
      "  warnings.warn(\n",
      "2025/09/14 21:36:03 WARNING mlflow.models.model: Model logged without a signature and input example. Please set `input_example` parameter when logging the model to auto infer the model signature.\n"
     ]
    },
    {
     "name": "stdout",
     "output_type": "stream",
     "text": [
      "  Child Run ID: 4c080a24256d4decb8a38e73b6057895\n"
     ]
    },
    {
     "name": "stderr",
     "output_type": "stream",
     "text": [
      "2025/09/14 21:36:19 WARNING mlflow.models.model: Model logged without a signature and input example. Please set `input_example` parameter when logging the model to auto infer the model signature.\n",
      "2025/09/14 21:36:20 INFO mlflow.models.evaluation.default_evaluator: Testing metrics on first row...\n",
      "2025/09/14 21:36:20 INFO mlflow.models.evaluation.evaluators.shap: Shap explainer ExactExplainer is used.\n",
      "c:\\Users\\saqli\\anaconda3\\Lib\\site-packages\\mlflow\\shap\\__init__.py:436: UserWarning: Unable to serialize underlying model using MLflow, will use SHAP serialization\n",
      "  warnings.warn(\n",
      "2025/09/14 21:36:42 WARNING mlflow.models.model: Model logged without a signature and input example. Please set `input_example` parameter when logging the model to auto infer the model signature.\n"
     ]
    }
   ],
   "source": [
    "import mlflow\n",
    "from xgboost import XGBRegressor\n",
    "\n",
    "# Train models\n",
    "estimators = [50, 100, 200, 300]\n",
    "xgb_model = {}\n",
    "\n",
    "for n_estimators in estimators:\n",
    "    xgb = XGBRegressor(n_estimators=n_estimators, random_state=3)\n",
    "    xgb.fit(X_train, y_train)\n",
    "    xgb_model[str(n_estimators)] = xgb\n",
    "    print(f\"n_estimators: {n_estimators}\")\n",
    "\n",
    "# Prepare test data\n",
    "test = X_test.copy()\n",
    "test['target'] = y_test\n",
    "feature_names = X_test.columns.tolist()  # Get feature names from X_test\n",
    "\n",
    "# Start parent run\n",
    "with mlflow.start_run(run_name=\"germination_rate_parent\") as parent_run:\n",
    "    mlflow.log_param(\"parent_run\", True)\n",
    "    \n",
    "    # Log parent run ID for reference\n",
    "    print(f\"Parent Run ID: {parent_run.info.run_id}\")\n",
    "    \n",
    "    # Create child runs\n",
    "    for n_estimators, model in xgb_model.items():\n",
    "        with mlflow.start_run(\n",
    "            run_name=f\"xgb_{n_estimators}\",\n",
    "            parent_run_id = parent_run.info.run_id,\n",
    "            nested=True\n",
    "        ) as child_run:\n",
    "            print(f\"  Child Run ID: {child_run.info.run_id}\")\n",
    "            \n",
    "            artifact_path = \"xgb_model\"\n",
    "            mlflow.sklearn.log_model(model, artifact_path)\n",
    "            mlflow.log_param(\"n_estimators\", int(n_estimators))\n",
    "            \n",
    "            try:\n",
    "                result = mlflow.evaluate(\n",
    "                    model=f\"runs:/{child_run.info.run_id}/{artifact_path}\",\n",
    "                    data=test,\n",
    "                    targets=\"target\",\n",
    "                    feature_names=feature_names,\n",
    "                    model_type=\"regressor\"\n",
    "                )\n",
    "                mlflow.log_metrics(result.metrics)\n",
    "            except Exception as e:\n",
    "                print(f\"Error in evaluation for n_estimators={n_estimators}: {str(e)}\")"
   ]
  },
  {
   "cell_type": "code",
   "execution_count": 49,
   "id": "2153963e",
   "metadata": {},
   "outputs": [],
   "source": [
    "mlflow.end_run()"
   ]
  },
  {
   "cell_type": "code",
   "execution_count": null,
   "id": "afe007da",
   "metadata": {},
   "outputs": [],
   "source": []
  }
 ],
 "metadata": {
  "kernelspec": {
   "display_name": "base",
   "language": "python",
   "name": "python3"
  },
  "language_info": {
   "codemirror_mode": {
    "name": "ipython",
    "version": 3
   },
   "file_extension": ".py",
   "mimetype": "text/x-python",
   "name": "python",
   "nbconvert_exporter": "python",
   "pygments_lexer": "ipython3",
   "version": "3.12.3"
  }
 },
 "nbformat": 4,
 "nbformat_minor": 5
}
