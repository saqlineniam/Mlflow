{
 "cells": [
  {
   "cell_type": "code",
   "execution_count": 8,
   "id": "c02cb7d0",
   "metadata": {},
   "outputs": [],
   "source": [
    "import mlflow\n",
    "from mlflow.types.schema import Schema\n",
    "from mlflow.types.schema import ColSpec\n",
    "from mlflow.types.schema import ParamSchema\n",
    "from mlflow.models import ModelSignature\n",
    "from mlflow.types.schema import ParamSpec"
   ]
  },
  {
   "cell_type": "code",
   "execution_count": 9,
   "id": "957628c3",
   "metadata": {},
   "outputs": [],
   "source": [
    "model_input = Schema([ColSpec(type = \"double\", name = \"input\", required = True)])\n",
    "model_output = Schema([ColSpec(type = \"double\", name = \"output\", required = True)])\n",
    "param = ParamSchema([ParamSpec(name= \"factor\", dtype = \"integer\", default = 1)])\n",
    "\n",
    "model_signature = ModelSignature(inputs = model_input, outputs = model_output, params = param)"
   ]
  },
  {
   "cell_type": "code",
   "execution_count": 10,
   "id": "30e290be",
   "metadata": {},
   "outputs": [
    {
     "name": "stderr",
     "output_type": "stream",
     "text": [
      "c:\\Users\\saqli\\anaconda3\\Lib\\site-packages\\mlflow\\pyfunc\\utils\\data_validation.py:186: UserWarning: \u001b[33mAdd type hints to the `predict` method to enable data validation and automatic signature inference during model logging. Check https://mlflow.org/docs/latest/model/python_model.html#type-hint-usage-in-pythonmodel for more details.\u001b[0m\n",
      "  color_warning(\n"
     ]
    }
   ],
   "source": [
    "class CustomModel(mlflow.pyfunc.PythonModel):\n",
    "    def __init(self):\n",
    "        pass\n",
    "\n",
    "    def predict(self, context, model_input, params = None):\n",
    "        print(\"context Artifacts\", context.atrifacts)\n",
    "        self._preprocess(model_input)\n",
    "        self.__preprocess_params(params)\n",
    "        factor = params.get(\"factor\", 1)\n",
    "        return model_input.apply(lambda x: x* factor)\n",
    "\n",
    "    def __preprocess_params(self, params):\n",
    "        if params:\n",
    "            print(\"processing params\")\n",
    "            print(params)\n",
    "        else:\n",
    "            print(\"no params\")\n",
    "\n",
    "    def _preProcess(self, model_input):\n",
    "        print(\"pre procesing input.....\")\n",
    "        print(\"input length\", len(model_input))\n",
    "\n",
    "    def additional_method(self):\n",
    "        print(\"running an additional method\")"
   ]
  },
  {
   "cell_type": "code",
   "execution_count": 25,
   "id": "26c0ed18",
   "metadata": {},
   "outputs": [
    {
     "name": "stdout",
     "output_type": "stream",
     "text": [
      "run_id =  415de767552f43579348fae6dea8913e\n"
     ]
    },
    {
     "name": "stderr",
     "output_type": "stream",
     "text": [
      "2025/09/13 02:35:21 WARNING mlflow.models.model: Model logged without a signature and input example. Please set `input_example` parameter when logging the model to auto infer the model signature.\n"
     ]
    }
   ],
   "source": [
    "with mlflow.start_run(run_name = \"Model Context\") as run:\n",
    "    print(\"run_id = \", run.info.run_id)\n",
    "    mlflow.pyfunc.log_model(\"model\", python_model = CustomModel())"
   ]
  },
  {
   "cell_type": "code",
   "execution_count": null,
   "id": "1d9faab5",
   "metadata": {},
   "outputs": [],
   "source": []
  },
  {
   "cell_type": "code",
   "execution_count": 26,
   "id": "8d8c802e",
   "metadata": {},
   "outputs": [],
   "source": [
    "\n",
    "loaded_model = mlflow.pyfunc.load_model(model_uri = f\"runs:/{run.info.run_id}/model\")"
   ]
  },
  {
   "cell_type": "code",
   "execution_count": 28,
   "id": "b94c0011",
   "metadata": {},
   "outputs": [],
   "source": [
    "import pandas as pd"
   ]
  },
  {
   "cell_type": "code",
   "execution_count": 29,
   "id": "a1aa0cb8",
   "metadata": {},
   "outputs": [
    {
     "ename": "AttributeError",
     "evalue": "'PythonModelContext' object has no attribute 'atrifacts'",
     "output_type": "error",
     "traceback": [
      "\u001b[1;31m---------------------------------------------------------------------------\u001b[0m",
      "\u001b[1;31mAttributeError\u001b[0m                            Traceback (most recent call last)",
      "Cell \u001b[1;32mIn[29], line 2\u001b[0m\n\u001b[0;32m      1\u001b[0m x_new \u001b[38;5;241m=\u001b[39m pd\u001b[38;5;241m.\u001b[39mDataFrame([\u001b[38;5;241m1\u001b[39m,\u001b[38;5;241m2\u001b[39m,\u001b[38;5;241m3\u001b[39m])\n\u001b[1;32m----> 2\u001b[0m prediction \u001b[38;5;241m=\u001b[39m loaded_model\u001b[38;5;241m.\u001b[39mpredict(x_new)\n",
      "File \u001b[1;32mc:\\Users\\saqli\\anaconda3\\Lib\\site-packages\\mlflow\\pyfunc\\__init__.py:812\u001b[0m, in \u001b[0;36mPyFuncModel.predict\u001b[1;34m(self, data, params)\u001b[0m\n\u001b[0;32m    810\u001b[0m \u001b[38;5;28;01mif\u001b[39;00m schema \u001b[38;5;241m:=\u001b[39m _get_dependencies_schema_from_model(\u001b[38;5;28mself\u001b[39m\u001b[38;5;241m.\u001b[39m_model_meta):\n\u001b[0;32m    811\u001b[0m     context\u001b[38;5;241m.\u001b[39mupdate(\u001b[38;5;241m*\u001b[39m\u001b[38;5;241m*\u001b[39mschema)\n\u001b[1;32m--> 812\u001b[0m \u001b[38;5;28;01mreturn\u001b[39;00m \u001b[38;5;28mself\u001b[39m\u001b[38;5;241m.\u001b[39m_predict(data, params)\n",
      "File \u001b[1;32mc:\\Users\\saqli\\anaconda3\\Lib\\site-packages\\mlflow\\pyfunc\\__init__.py:862\u001b[0m, in \u001b[0;36mPyFuncModel._predict\u001b[1;34m(self, data, params)\u001b[0m\n\u001b[0;32m    860\u001b[0m params_arg \u001b[38;5;241m=\u001b[39m inspect\u001b[38;5;241m.\u001b[39msignature(\u001b[38;5;28mself\u001b[39m\u001b[38;5;241m.\u001b[39m_predict_fn)\u001b[38;5;241m.\u001b[39mparameters\u001b[38;5;241m.\u001b[39mget(\u001b[38;5;124m\"\u001b[39m\u001b[38;5;124mparams\u001b[39m\u001b[38;5;124m\"\u001b[39m)\n\u001b[0;32m    861\u001b[0m \u001b[38;5;28;01mif\u001b[39;00m params_arg \u001b[38;5;129;01mand\u001b[39;00m params_arg\u001b[38;5;241m.\u001b[39mkind \u001b[38;5;241m!=\u001b[39m inspect\u001b[38;5;241m.\u001b[39mParameter\u001b[38;5;241m.\u001b[39mVAR_KEYWORD:\n\u001b[1;32m--> 862\u001b[0m     \u001b[38;5;28;01mreturn\u001b[39;00m \u001b[38;5;28mself\u001b[39m\u001b[38;5;241m.\u001b[39m_predict_fn(data, params\u001b[38;5;241m=\u001b[39mparams)\n\u001b[0;32m    864\u001b[0m _log_warning_if_params_not_in_predict_signature(_logger, params)\n\u001b[0;32m    865\u001b[0m \u001b[38;5;28;01mreturn\u001b[39;00m \u001b[38;5;28mself\u001b[39m\u001b[38;5;241m.\u001b[39m_predict_fn(data)\n",
      "File \u001b[1;32mc:\\Users\\saqli\\anaconda3\\Lib\\site-packages\\mlflow\\pyfunc\\model.py:1175\u001b[0m, in \u001b[0;36m_PythonModelPyfuncWrapper.predict\u001b[1;34m(self, model_input, params)\u001b[0m\n\u001b[0;32m   1173\u001b[0m     _log_warning_if_params_not_in_predict_signature(_logger, params)\n\u001b[0;32m   1174\u001b[0m \u001b[38;5;28;01mif\u001b[39;00m _is_context_in_predict_function_signature(parameters\u001b[38;5;241m=\u001b[39mparameters):\n\u001b[1;32m-> 1175\u001b[0m     \u001b[38;5;28;01mreturn\u001b[39;00m \u001b[38;5;28mself\u001b[39m\u001b[38;5;241m.\u001b[39mpython_model\u001b[38;5;241m.\u001b[39mpredict(\n\u001b[0;32m   1176\u001b[0m         \u001b[38;5;28mself\u001b[39m\u001b[38;5;241m.\u001b[39mcontext, \u001b[38;5;28mself\u001b[39m\u001b[38;5;241m.\u001b[39m_convert_input(model_input), \u001b[38;5;241m*\u001b[39m\u001b[38;5;241m*\u001b[39mkwargs\n\u001b[0;32m   1177\u001b[0m     )\n\u001b[0;32m   1178\u001b[0m \u001b[38;5;28;01melse\u001b[39;00m:\n\u001b[0;32m   1179\u001b[0m     \u001b[38;5;28;01mreturn\u001b[39;00m \u001b[38;5;28mself\u001b[39m\u001b[38;5;241m.\u001b[39mpython_model\u001b[38;5;241m.\u001b[39mpredict(\u001b[38;5;28mself\u001b[39m\u001b[38;5;241m.\u001b[39m_convert_input(model_input), \u001b[38;5;241m*\u001b[39m\u001b[38;5;241m*\u001b[39mkwargs)\n",
      "File \u001b[1;32mc:\\Users\\saqli\\anaconda3\\Lib\\site-packages\\mlflow\\pyfunc\\utils\\data_validation.py:77\u001b[0m, in \u001b[0;36m_wrap_predict_with_pyfunc.<locals>.wrapper\u001b[1;34m(*args, **kwargs)\u001b[0m\n\u001b[0;32m     75\u001b[0m \u001b[38;5;129m@wraps\u001b[39m(func)\n\u001b[0;32m     76\u001b[0m \u001b[38;5;28;01mdef\u001b[39;00m \u001b[38;5;21mwrapper\u001b[39m(\u001b[38;5;241m*\u001b[39margs, \u001b[38;5;241m*\u001b[39m\u001b[38;5;241m*\u001b[39mkwargs):\n\u001b[1;32m---> 77\u001b[0m     \u001b[38;5;28;01mreturn\u001b[39;00m func(\u001b[38;5;241m*\u001b[39margs, \u001b[38;5;241m*\u001b[39m\u001b[38;5;241m*\u001b[39mkwargs)\n",
      "Cell \u001b[1;32mIn[10], line 6\u001b[0m, in \u001b[0;36mCustomModel.predict\u001b[1;34m(self, context, model_input, params)\u001b[0m\n\u001b[0;32m      5\u001b[0m \u001b[38;5;28;01mdef\u001b[39;00m \u001b[38;5;21mpredict\u001b[39m(\u001b[38;5;28mself\u001b[39m, context, model_input, params \u001b[38;5;241m=\u001b[39m \u001b[38;5;28;01mNone\u001b[39;00m):\n\u001b[1;32m----> 6\u001b[0m     \u001b[38;5;28mprint\u001b[39m(\u001b[38;5;124m\"\u001b[39m\u001b[38;5;124mcontext Artifacts\u001b[39m\u001b[38;5;124m\"\u001b[39m, context\u001b[38;5;241m.\u001b[39matrifacts)\n\u001b[0;32m      7\u001b[0m     \u001b[38;5;28mself\u001b[39m\u001b[38;5;241m.\u001b[39m_preprocess(model_input)\n\u001b[0;32m      8\u001b[0m     \u001b[38;5;28mself\u001b[39m\u001b[38;5;241m.\u001b[39m__preprocess_params(params)\n",
      "\u001b[1;31mAttributeError\u001b[0m: 'PythonModelContext' object has no attribute 'atrifacts'"
     ]
    }
   ],
   "source": [
    "x_new = pd.DataFrame([1,2,3])\n",
    "prediction = loaded_model.predict(x_new)"
   ]
  },
  {
   "cell_type": "markdown",
   "id": "5ff00817",
   "metadata": {},
   "source": [
    "Model Artifacts"
   ]
  },
  {
   "cell_type": "code",
   "execution_count": null,
   "id": "85fc25de",
   "metadata": {},
   "outputs": [],
   "source": [
    "with mlflow.start_run(run_name = \"class model context\") as run:\n",
    "    print(\"run_id = \", run.info.run_id)\n",
    "    mlflow.pyfunc.log_model(\"model\", python_model = CustomModel()\n",
    "    artifacts = \n",
    "    )"
   ]
  },
  {
   "cell_type": "markdown",
   "id": "4a373011",
   "metadata": {},
   "source": [
    "Model Configurations"
   ]
  },
  {
   "cell_type": "code",
   "execution_count": 30,
   "id": "c22549f4",
   "metadata": {},
   "outputs": [
    {
     "name": "stdout",
     "output_type": "stream",
     "text": [
      "run_id =  e7f22cee60e34549aebaaac593f5a77b\n"
     ]
    },
    {
     "name": "stderr",
     "output_type": "stream",
     "text": [
      "2025/09/13 02:45:46 WARNING mlflow.models.model: Model logged without a signature and input example. Please set `input_example` parameter when logging the model to auto infer the model signature.\n"
     ]
    }
   ],
   "source": [
    "with mlflow.start_run(run_name = \"class model context\") as run:\n",
    "    print(\"run_id = \", run.info.run_id)\n",
    "    mlflow.pyfunc.log_model(\"model\", python_model = CustomModel(), model_config = {\"model_name\" : \"custom_model\"} \n",
    "    )"
   ]
  },
  {
   "cell_type": "markdown",
   "id": "ae29850c",
   "metadata": {},
   "source": [
    "Load Context"
   ]
  },
  {
   "cell_type": "code",
   "execution_count": 38,
   "id": "1164054a",
   "metadata": {},
   "outputs": [
    {
     "name": "stderr",
     "output_type": "stream",
     "text": [
      "c:\\Users\\saqli\\anaconda3\\Lib\\site-packages\\mlflow\\pyfunc\\utils\\data_validation.py:186: UserWarning: \u001b[33mAdd type hints to the `predict` method to enable data validation and automatic signature inference during model logging. Check https://mlflow.org/docs/latest/model/python_model.html#type-hint-usage-in-pythonmodel for more details.\u001b[0m\n",
      "  color_warning(\n"
     ]
    }
   ],
   "source": [
    "class CustomModel(mlflow.pyfunc.PythonModel):\n",
    "    def __init(self):\n",
    "        pass\n",
    "\n",
    "    def predict(self, context, model_input, params = None):\n",
    "        model_name = context.model_config.get(\"model_name\", \"deafult\")\n",
    "        print(\"getting predictions from the model {}\".format(model_name))\n",
    "        print(\"additional inputs:\")\n",
    "        print(self.df.head())\n",
    "        return model_input.apply(lambda x: x*2)\n",
    "\n",
    "    def additional_method(self):\n",
    "        print(\"running an additional method\")\n",
    "    \n",
    "    def load_context(self, context):\n",
    "        print(\"loading context....\")\n",
    "        artifact = context.artifacts.get(\"predictions\")\n",
    "        self.df = pd.read_excel(artifact)"
   ]
  },
  {
   "cell_type": "code",
   "execution_count": 39,
   "id": "9934ea9c",
   "metadata": {},
   "outputs": [
    {
     "name": "stdout",
     "output_type": "stream",
     "text": [
      "run_id =  e5575014b3d94090890e3069ffeac826\n",
      "loading context....\n"
     ]
    },
    {
     "data": {
      "application/vnd.jupyter.widget-view+json": {
       "model_id": "eb79e357c5954e10915f2a2fa5568475",
       "version_major": 2,
       "version_minor": 0
      },
      "text/plain": [
       "Downloading artifacts:   0%|          | 0/1 [00:00<?, ?it/s]"
      ]
     },
     "metadata": {},
     "output_type": "display_data"
    },
    {
     "name": "stderr",
     "output_type": "stream",
     "text": [
      "2025/09/13 03:01:00 WARNING mlflow.models.model: Model logged without a signature and input example. Please set `input_example` parameter when logging the model to auto infer the model signature.\n"
     ]
    }
   ],
   "source": [
    "with mlflow.start_run(run_name = \"class model context\") as run:\n",
    "    print(\"run_id = \", run.info.run_id)\n",
    "    mlflow.pyfunc.log_model(\"model\", python_model = CustomModel(), artifacts = {\"predictions\" : r\"C:\\Users\\saqli\\Desktop\\New_dataset.xlsx\"}, model_config = {\"model_name\" : \"classifier\"} )"
   ]
  },
  {
   "cell_type": "code",
   "execution_count": 41,
   "id": "0a165cf8",
   "metadata": {},
   "outputs": [
    {
     "name": "stdout",
     "output_type": "stream",
     "text": [
      "loading context....\n"
     ]
    }
   ],
   "source": [
    "load_model = mlflow.pyfunc.load_model(model_uri = \"mlruns/0/e5575014b3d94090890e3069ffeac826/artifacts/model\")"
   ]
  },
  {
   "cell_type": "code",
   "execution_count": 43,
   "id": "deb97a38",
   "metadata": {},
   "outputs": [
    {
     "name": "stdout",
     "output_type": "stream",
     "text": [
      "getting predictions from the model classifier\n",
      "additional inputs:\n",
      "      seed cultivar  size of each seed (mm)  weight of each seed (gr)  \\\n",
      "0  Soybean     Sari                    4.55                     0.196   \n",
      "1  Soybean     Sari                    4.25                     0.175   \n",
      "2  Soybean     Saba                    5.25                     0.165   \n",
      "3  Soybean     Saba                    5.05                     0.146   \n",
      "4  Soybean    Arian                    5.35                     0.249   \n",
      "\n",
      "   baseline SOD (u g-1)  germination days  base germination rate  \\\n",
      "0                 17.99               7.0                  92.75   \n",
      "1                 10.65               7.0                  94.13   \n",
      "2                 20.00               7.0                  82.38   \n",
      "3                 24.00               7.0                  86.76   \n",
      "4                 17.06               7.0                  90.25   \n",
      "\n",
      "   potential time  base germination potential  base germination index  ...  \\\n",
      "0             3.0                       85.50                   57.12  ...   \n",
      "1             3.0                       88.25                   58.34  ...   \n",
      "2             3.0                       72.75                   63.39  ...   \n",
      "3             3.0                       79.50                   50.61  ...   \n",
      "4             3.0                       84.50                   54.05  ...   \n",
      "\n",
      "  power (w) pressure (kPa)  gas flow rate (L/min)  plasma time  seed number  \\\n",
      "0     100.0        101.325                    2.0           30           25   \n",
      "1     100.0        101.325                    2.0           30           25   \n",
      "2     100.0        101.325                    2.0           30           25   \n",
      "3     100.0        101.325                    2.0           30           25   \n",
      "4     100.0        101.325                    2.0           30           25   \n",
      "\n",
      "   water soaking time (h)  water (ml)  growing temp  germination rate  \\\n",
      "0                     NaN         5.0            25             98.13   \n",
      "1                     NaN         5.0            25             97.25   \n",
      "2                     NaN         5.0            25             88.88   \n",
      "3                     NaN         5.0            25             92.25   \n",
      "4                     NaN         5.0            25             93.88   \n",
      "\n",
      "   Unnamed: 28  \n",
      "0          NaN  \n",
      "1          NaN  \n",
      "2          NaN  \n",
      "3          NaN  \n",
      "4          NaN  \n",
      "\n",
      "[5 rows x 29 columns]\n"
     ]
    }
   ],
   "source": [
    "x_new = pd.DataFrame([1,2,3])\n",
    "prediction = load_model.predict(x_new)"
   ]
  },
  {
   "cell_type": "code",
   "execution_count": null,
   "id": "4a7c24d4",
   "metadata": {},
   "outputs": [],
   "source": []
  }
 ],
 "metadata": {
  "kernelspec": {
   "display_name": "base",
   "language": "python",
   "name": "python3"
  },
  "language_info": {
   "codemirror_mode": {
    "name": "ipython",
    "version": 3
   },
   "file_extension": ".py",
   "mimetype": "text/x-python",
   "name": "python",
   "nbconvert_exporter": "python",
   "pygments_lexer": "ipython3",
   "version": "3.12.3"
  }
 },
 "nbformat": 4,
 "nbformat_minor": 5
}
