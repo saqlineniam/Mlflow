{
 "cells": [
  {
   "cell_type": "code",
   "execution_count": 1,
   "id": "3595ffd7",
   "metadata": {},
   "outputs": [],
   "source": [
    "import mlflow"
   ]
  },
  {
   "cell_type": "code",
   "execution_count": 2,
   "id": "53a0ec38",
   "metadata": {},
   "outputs": [
    {
     "name": "stdout",
     "output_type": "stream",
     "text": [
      "{'metrics': {'metric1': 10.0}, 'params': {'param1': '5'}, 'tags': {'mlflow.runName': 'bouncy-shrimp-606'}}\n",
      "run_uuid: \"392b2efd8f5b40219ffd5aaf105dc2ae\"\n",
      "experiment_id: \"335732615809876110\"\n",
      "run_name: \"bouncy-shrimp-606\"\n",
      "user_id: \"unknown\"\n",
      "status: FINISHED\n",
      "start_time: 1757593456252\n",
      "end_time: 1757593456358\n",
      "artifact_uri: \"file:///d:/Mlflow/mlruns/335732615809876110/392b2efd8f5b40219ffd5aaf105dc2ae/artifacts\"\n",
      "lifecycle_stage: \"active\"\n",
      "run_id: \"392b2efd8f5b40219ffd5aaf105dc2ae\"\n",
      "\n"
     ]
    }
   ],
   "source": [
    "client = mlflow.MlflowClient()\n",
    "\n",
    "run_id = \"392b2efd8f5b40219ffd5aaf105dc2ae\"\n",
    "run = client.get_run(run_id)\n",
    "print(run.data.to_dictionary())\n",
    "print(run.info.to_proto())"
   ]
  },
  {
   "cell_type": "code",
   "execution_count": 3,
   "id": "057054e6",
   "metadata": {},
   "outputs": [
    {
     "name": "stdout",
     "output_type": "stream",
     "text": [
      "None\n"
     ]
    }
   ],
   "source": [
    "run = mlflow.active_run()\n",
    "\n",
    "print(run)"
   ]
  },
  {
   "cell_type": "code",
   "execution_count": 4,
   "id": "7c83f48f",
   "metadata": {},
   "outputs": [
    {
     "data": {
      "text/plain": [
       "<Experiment: artifact_location='file:///d:/Mlflow/mlruns/325944852318647122', creation_time=1757588755056, experiment_id='325944852318647122', last_update_time=1757590356366, lifecycle_stage='active', name='Seed Germination Rate', tags={'mlflow.note.content': 'This is the description for the experiment',\n",
       " 'new-tags': 'new_tag_updated_with_client',\n",
       " 'new_tags': 'v1'}>"
      ]
     },
     "execution_count": 4,
     "metadata": {},
     "output_type": "execute_result"
    }
   ],
   "source": [
    "mlflow.set_experiment(experiment_name = \"Seed Germination Rate\")\n"
   ]
  },
  {
   "cell_type": "code",
   "execution_count": 5,
   "id": "d97d260c",
   "metadata": {},
   "outputs": [
    {
     "data": {
      "text/plain": [
       "<ActiveRun: >"
      ]
     },
     "execution_count": 5,
     "metadata": {},
     "output_type": "execute_result"
    }
   ],
   "source": [
    "mlflow.start_run()"
   ]
  },
  {
   "cell_type": "code",
   "execution_count": 6,
   "id": "f9b49f44",
   "metadata": {},
   "outputs": [
    {
     "name": "stdout",
     "output_type": "stream",
     "text": [
      "<ActiveRun: >\n"
     ]
    }
   ],
   "source": [
    "run = mlflow.active_run()\n",
    "print(run)"
   ]
  },
  {
   "cell_type": "code",
   "execution_count": 7,
   "id": "d34f0f4a",
   "metadata": {},
   "outputs": [],
   "source": [
    "mlflow.end_run()"
   ]
  },
  {
   "cell_type": "code",
   "execution_count": 8,
   "id": "7693db81",
   "metadata": {},
   "outputs": [
    {
     "name": "stdout",
     "output_type": "stream",
     "text": [
      "None\n"
     ]
    }
   ],
   "source": [
    "run = mlflow.active_run()\n",
    "print(run)"
   ]
  },
  {
   "cell_type": "code",
   "execution_count": 9,
   "id": "65bc3bee",
   "metadata": {},
   "outputs": [],
   "source": [
    "run = mlflow.last_active_run()"
   ]
  },
  {
   "cell_type": "code",
   "execution_count": 10,
   "id": "dbaf60e5",
   "metadata": {},
   "outputs": [
    {
     "name": "stdout",
     "output_type": "stream",
     "text": [
      "<Run: data=<RunData: metrics={}, params={}, tags={'mlflow.runName': 'glamorous-goose-99',\n",
      " 'mlflow.source.name': 'c:\\\\Users\\\\saqli\\\\anaconda3\\\\Lib\\\\site-packages\\\\ipykernel_launcher.py',\n",
      " 'mlflow.source.type': 'LOCAL',\n",
      " 'mlflow.user': 'saqli'}>, info=<RunInfo: artifact_uri='file:///d:/Mlflow/mlruns/325944852318647122/02bc269326864a14ba7c86072807b7c2/artifacts', end_time=1757596152133, experiment_id='325944852318647122', lifecycle_stage='active', run_id='02bc269326864a14ba7c86072807b7c2', run_name='glamorous-goose-99', run_uuid='02bc269326864a14ba7c86072807b7c2', start_time=1757596101306, status='FINISHED', user_id='saqli'>, inputs=<RunInputs: dataset_inputs=[]>>\n"
     ]
    }
   ],
   "source": [
    "print(run)"
   ]
  },
  {
   "cell_type": "code",
   "execution_count": 11,
   "id": "e998fa3b",
   "metadata": {},
   "outputs": [
    {
     "name": "stdout",
     "output_type": "stream",
     "text": [
      "WITHIN RUN CONTEXT\n",
      "OUTSIDE RUN CONTEXT\n"
     ]
    }
   ],
   "source": [
    "with mlflow.start_run(run_name = \"first-run\") as run:\n",
    "    print(\"WITHIN RUN CONTEXT\")\n",
    "print(\"OUTSIDE RUN CONTEXT\")\n",
    "\n",
    "run1= mlflow.start_run()\n",
    "run2 = mlflow.last_active_run()"
   ]
  },
  {
   "cell_type": "code",
   "execution_count": 13,
   "id": "a0872782",
   "metadata": {},
   "outputs": [
    {
     "name": "stdout",
     "output_type": "stream",
     "text": [
      "info {\n",
      "  run_uuid: \"2cbd89ad08cf40cfa966e7bcc15300f5\"\n",
      "  experiment_id: \"325944852318647122\"\n",
      "  run_name: \"dazzling-trout-151\"\n",
      "  user_id: \"saqli\"\n",
      "  status: RUNNING\n",
      "  start_time: 1757596384613\n",
      "  artifact_uri: \"file:///d:/Mlflow/mlruns/325944852318647122/2cbd89ad08cf40cfa966e7bcc15300f5/artifacts\"\n",
      "  lifecycle_stage: \"active\"\n",
      "  run_id: \"2cbd89ad08cf40cfa966e7bcc15300f5\"\n",
      "}\n",
      "data {\n",
      "  tags {\n",
      "    key: \"mlflow.runName\"\n",
      "    value: \"dazzling-trout-151\"\n",
      "  }\n",
      "  tags {\n",
      "    key: \"mlflow.source.name\"\n",
      "    value: \"c:\\\\Users\\\\saqli\\\\anaconda3\\\\Lib\\\\site-packages\\\\ipykernel_launcher.py\"\n",
      "  }\n",
      "  tags {\n",
      "    key: \"mlflow.source.type\"\n",
      "    value: \"LOCAL\"\n",
      "  }\n",
      "  tags {\n",
      "    key: \"mlflow.user\"\n",
      "    value: \"saqli\"\n",
      "  }\n",
      "}\n",
      "\n"
     ]
    }
   ],
   "source": [
    "print(run1.to_proto())"
   ]
  },
  {
   "cell_type": "code",
   "execution_count": null,
   "id": "12294b93",
   "metadata": {},
   "outputs": [],
   "source": []
  }
 ],
 "metadata": {
  "kernelspec": {
   "display_name": "base",
   "language": "python",
   "name": "python3"
  },
  "language_info": {
   "codemirror_mode": {
    "name": "ipython",
    "version": 3
   },
   "file_extension": ".py",
   "mimetype": "text/x-python",
   "name": "python",
   "nbconvert_exporter": "python",
   "pygments_lexer": "ipython3",
   "version": "3.12.3"
  }
 },
 "nbformat": 4,
 "nbformat_minor": 5
}
