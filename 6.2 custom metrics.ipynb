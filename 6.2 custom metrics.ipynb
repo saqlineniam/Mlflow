{
 "cells": [
  {
   "cell_type": "code",
   "execution_count": 1,
   "id": "27911cae",
   "metadata": {},
   "outputs": [],
   "source": [
    "import mlflow\n",
    "from mlflow.metrics import EvaluationMetric\n",
    "from mlflow.metrics import MetricValue\n",
    "import pandas as pd\n",
    "from typing import Dict\n",
    "from typing import Union\n",
    "import random"
   ]
  },
  {
   "cell_type": "code",
   "execution_count": 2,
   "id": "9d895457",
   "metadata": {},
   "outputs": [],
   "source": [
    "experiment_name = \"custom-metrics\"\n",
    "try:\n",
    "    _= mlflow.create_experiment(experiment_name)\n",
    "except:\n",
    "    experiment = mlflow.get_experiment_by_name(experiment_name)\n",
    "\n",
    "experiment = mlflow.set_experiment(experiment_name)"
   ]
  },
  {
   "cell_type": "code",
   "execution_count": null,
   "id": "bbae2b93",
   "metadata": {},
   "outputs": [
    {
     "ename": "SyntaxError",
     "evalue": "incomplete input (1704088905.py, line 1)",
     "output_type": "error",
     "traceback": [
      "\u001b[1;36m  Cell \u001b[1;32mIn[4], line 1\u001b[1;36m\u001b[0m\n\u001b[1;33m    def custom_accuracy(predictions: pd.Series, targets: pd.Series, metrics: Dict[str, MetricValue] = None) -> Union[float, MetricValue]:\u001b[0m\n\u001b[1;37m                                                                                                                                         ^\u001b[0m\n\u001b[1;31mSyntaxError\u001b[0m\u001b[1;31m:\u001b[0m incomplete input\n"
     ]
    }
   ],
   "source": [
    "def custom_accuracy(predictions: pd.Series, targets: pd.Series, metrics: Dict[str, MetricValue] = None) -> Union[float, MetricValue]:\n",
    "    "
   ]
  },
  {
   "cell_type": "code",
   "execution_count": 3,
   "id": "4127cb09",
   "metadata": {},
   "outputs": [],
   "source": [
    "def custom_accuracy(predictions: pd.Series, targets: pd.Series, metrics: Dict[str, MetricValue]) -> Union[float, MetricValue]:\n",
    "    custom_accuracy = (predictions == targets).sum() / len(targets)\n",
    "    return custom_accuracy"
   ]
  },
  {
   "cell_type": "code",
   "execution_count": 4,
   "id": "11849c7f",
   "metadata": {},
   "outputs": [
    {
     "data": {
      "text/html": [
       "<div>\n",
       "<style scoped>\n",
       "    .dataframe tbody tr th:only-of-type {\n",
       "        vertical-align: middle;\n",
       "    }\n",
       "\n",
       "    .dataframe tbody tr th {\n",
       "        vertical-align: top;\n",
       "    }\n",
       "\n",
       "    .dataframe thead th {\n",
       "        text-align: right;\n",
       "    }\n",
       "</style>\n",
       "<table border=\"1\" class=\"dataframe\">\n",
       "  <thead>\n",
       "    <tr style=\"text-align: right;\">\n",
       "      <th></th>\n",
       "      <th>predictions</th>\n",
       "      <th>targets</th>\n",
       "    </tr>\n",
       "  </thead>\n",
       "  <tbody>\n",
       "    <tr>\n",
       "      <th>0</th>\n",
       "      <td>1</td>\n",
       "      <td>1</td>\n",
       "    </tr>\n",
       "    <tr>\n",
       "      <th>1</th>\n",
       "      <td>1</td>\n",
       "      <td>1</td>\n",
       "    </tr>\n",
       "    <tr>\n",
       "      <th>2</th>\n",
       "      <td>0</td>\n",
       "      <td>1</td>\n",
       "    </tr>\n",
       "    <tr>\n",
       "      <th>3</th>\n",
       "      <td>1</td>\n",
       "      <td>0</td>\n",
       "    </tr>\n",
       "    <tr>\n",
       "      <th>4</th>\n",
       "      <td>1</td>\n",
       "      <td>0</td>\n",
       "    </tr>\n",
       "  </tbody>\n",
       "</table>\n",
       "</div>"
      ],
      "text/plain": [
       "   predictions  targets\n",
       "0            1        1\n",
       "1            1        1\n",
       "2            0        1\n",
       "3            1        0\n",
       "4            1        0"
      ]
     },
     "execution_count": 4,
     "metadata": {},
     "output_type": "execute_result"
    }
   ],
   "source": [
    "test_df = pd.DataFrame({\n",
    "    \"predictions\": [random.randint(0,1) for _ in range(100)],\n",
    "    \"targets\": [random.randint(0,1) for _ in range(100)]\n",
    "})\n",
    "test_df.head()"
   ]
  },
  {
   "cell_type": "code",
   "execution_count": 5,
   "id": "b4b4270e",
   "metadata": {},
   "outputs": [
    {
     "data": {
      "text/plain": [
       "0.48"
      ]
     },
     "execution_count": 5,
     "metadata": {},
     "output_type": "execute_result"
    }
   ],
   "source": [
    "custom_accuracy(test_df[\"predictions\"], test_df[\"targets\"], {})"
   ]
  },
  {
   "cell_type": "markdown",
   "id": "415df998",
   "metadata": {},
   "source": [
    "Evaluatiometric implements the logic of my function"
   ]
  },
  {
   "cell_type": "code",
   "execution_count": 6,
   "id": "4654c2fa",
   "metadata": {},
   "outputs": [],
   "source": [
    "my_accuracy = EvaluationMetric(\n",
    "    eval_fn = custom_accuracy,\n",
    "    name = \"custom_accuracy\",\n",
    "    greater_is_better = True,\n",
    "    metric_details = \"Custom accuracy metric\",\n",
    "    metric_metadata = {\"version\":\"0.0.1\", \"type\": \"custom\"},\n",
    "    version = \"v0.0.1\"\n",
    ")"
   ]
  },
  {
   "cell_type": "code",
   "execution_count": 7,
   "id": "cf895a18",
   "metadata": {},
   "outputs": [
    {
     "name": "stderr",
     "output_type": "stream",
     "text": [
      "c:\\Users\\saqli\\anaconda3\\Lib\\site-packages\\mlflow\\types\\utils.py:452: UserWarning: Hint: Inferred schema contains integer column(s). Integer columns in Python cannot represent missing values. If your input data contains missing values at inference time, it will be encoded as floats and will cause a schema enforcement error. The best way to avoid this problem is to infer the model schema based on a realistic data sample (training dataset) that includes missing values. Alternatively, you can declare integer columns as doubles (float64) whenever these columns may have missing values. See `Handling Integers With Missing Values <https://www.mlflow.org/docs/latest/models.html#handling-integers-with-missing-values>`_ for more details.\n",
      "  warnings.warn(\n",
      "2025/09/16 14:42:44 WARNING mlflow.models.evaluation.evaluators.classifier: According to the evaluation dataset label values, the model type looks like None, but you specified model type 'classifier'. Please verify that you set the `model_type` and `dataset` arguments correctly.\n",
      "2025/09/16 14:42:44 INFO mlflow.models.evaluation.evaluators.classifier: The evaluation dataset is inferred as binary dataset, positive label is 1, negative label is 0.\n",
      "2025/09/16 14:42:44 INFO mlflow.models.evaluation.default_evaluator: Testing metrics on first row...\n",
      "2025/09/16 14:42:51 INFO mlflow.models.evaluation.evaluators.shap: Shap explainer ExactExplainer is used.\n",
      "2025/09/16 14:42:51 WARNING mlflow.models.evaluation.evaluators.shap: Shap evaluation failed. Reason: IndexError('list index out of range'). Set logging level to DEBUG to see the full traceback.\n"
     ]
    },
    {
     "data": {
      "text/plain": [
       "<Figure size 1050x700 with 0 Axes>"
      ]
     },
     "metadata": {},
     "output_type": "display_data"
    }
   ],
   "source": [
    "results = mlflow.evaluate(\n",
    "    data = test_df,\n",
    "    model_type = \"classifier\",\n",
    "    targets = \"targets\",\n",
    "    predictions = \"predictions\",\n",
    "    extra_metrics = [my_accuracy]\n",
    ")"
   ]
  },
  {
   "cell_type": "code",
   "execution_count": 8,
   "id": "fba2ff3c",
   "metadata": {},
   "outputs": [
    {
     "data": {
      "text/plain": [
       "{'true_negatives': 27,\n",
       " 'false_positives': 24,\n",
       " 'false_negatives': 28,\n",
       " 'true_positives': 21,\n",
       " 'example_count': 100,\n",
       " 'accuracy_score': 0.48,\n",
       " 'recall_score': 0.42857142857142855,\n",
       " 'precision_score': 0.4666666666666667,\n",
       " 'f1_score': 0.44680851063829785,\n",
       " 'custom_accuracy/v0.0.1': 0.48}"
      ]
     },
     "execution_count": 8,
     "metadata": {},
     "output_type": "execute_result"
    }
   ],
   "source": [
    "results.metrics"
   ]
  },
  {
   "cell_type": "markdown",
   "id": "17e7b687",
   "metadata": {},
   "source": [
    "calculate metrics from other metrics"
   ]
  },
  {
   "cell_type": "code",
   "execution_count": 11,
   "id": "84b26a8e",
   "metadata": {},
   "outputs": [],
   "source": [
    "def good_enough(predictions:pd.Series, targets:pd.Series, metrics:Dict[str, MetricValue]) -> Union[float, MetricValue]:\n",
    "    custom_accuracy = metrics[\"custom_accuracy/v0.0.1\"].aggregate_results.get(\"custom_accuracy\")\n",
    "    if custom_accuracy >= 0.5:\n",
    "        return 1\n",
    "    else:\n",
    "        return 0\n",
    "good_enough_metric = EvaluationMetric(\n",
    "    eval_fn = good_enough,\n",
    "    name = \"good_enough\",\n",
    "    greater_is_better = True,\n",
    "    metric_details = \"good enough metric\",\n",
    "    metric_metadata = {\"version\": \"0.0.1\", \"type\":\"custom\"},\n",
    "    version = \"v0.0.1\"\n",
    ")\n"
   ]
  },
  {
   "cell_type": "code",
   "execution_count": 14,
   "id": "c4936556",
   "metadata": {},
   "outputs": [
    {
     "name": "stderr",
     "output_type": "stream",
     "text": [
      "c:\\Users\\saqli\\anaconda3\\Lib\\site-packages\\mlflow\\types\\utils.py:452: UserWarning: Hint: Inferred schema contains integer column(s). Integer columns in Python cannot represent missing values. If your input data contains missing values at inference time, it will be encoded as floats and will cause a schema enforcement error. The best way to avoid this problem is to infer the model schema based on a realistic data sample (training dataset) that includes missing values. Alternatively, you can declare integer columns as doubles (float64) whenever these columns may have missing values. See `Handling Integers With Missing Values <https://www.mlflow.org/docs/latest/models.html#handling-integers-with-missing-values>`_ for more details.\n",
      "  warnings.warn(\n",
      "2025/09/16 14:51:36 WARNING mlflow.models.evaluation.evaluators.classifier: According to the evaluation dataset label values, the model type looks like None, but you specified model type 'classifier'. Please verify that you set the `model_type` and `dataset` arguments correctly.\n",
      "2025/09/16 14:51:36 INFO mlflow.models.evaluation.evaluators.classifier: The evaluation dataset is inferred as binary dataset, positive label is 1, negative label is 0.\n",
      "2025/09/16 14:51:36 INFO mlflow.models.evaluation.default_evaluator: Testing metrics on first row...\n",
      "2025/09/16 14:51:37 INFO mlflow.models.evaluation.evaluators.shap: Shap explainer ExactExplainer is used.\n",
      "2025/09/16 14:51:37 WARNING mlflow.models.evaluation.evaluators.shap: Shap evaluation failed. Reason: IndexError('list index out of range'). Set logging level to DEBUG to see the full traceback.\n"
     ]
    }
   ],
   "source": [
    "results = mlflow.evaluate(\n",
    "    data = test_df,\n",
    "    model_type = \"classifier\",\n",
    "    targets = \"targets\",\n",
    "    predictions = \"predictions\",\n",
    "    extra_metrics = [my_accuracy, good_enough_metric]\n",
    "    \n",
    ")"
   ]
  },
  {
   "cell_type": "code",
   "execution_count": 15,
   "id": "bda3e640",
   "metadata": {},
   "outputs": [
    {
     "data": {
      "text/plain": [
       "{'true_negatives': 27,\n",
       " 'false_positives': 24,\n",
       " 'false_negatives': 28,\n",
       " 'true_positives': 21,\n",
       " 'example_count': 100,\n",
       " 'accuracy_score': 0.48,\n",
       " 'recall_score': 0.42857142857142855,\n",
       " 'precision_score': 0.4666666666666667,\n",
       " 'f1_score': 0.44680851063829785,\n",
       " 'custom_accuracy/v0.0.1': 0.48,\n",
       " 'good_enough/v0.0.1': 0}"
      ]
     },
     "execution_count": 15,
     "metadata": {},
     "output_type": "execute_result"
    }
   ],
   "source": [
    "results.metrics"
   ]
  },
  {
   "cell_type": "markdown",
   "id": "62095821",
   "metadata": {},
   "source": [
    "Using make_metric"
   ]
  },
  {
   "cell_type": "code",
   "execution_count": 16,
   "id": "05e9f443",
   "metadata": {},
   "outputs": [],
   "source": [
    "import random\n",
    "def random_metric(predictions:pd.Series, targets:pd.Series, metrics:Dict[str, MetricValue]) -> Union[float, MetricValue]:\n",
    "    return random.random()"
   ]
  },
  {
   "cell_type": "code",
   "execution_count": 18,
   "id": "67d668b0",
   "metadata": {},
   "outputs": [],
   "source": [
    "my_random_metric = mlflow.metrics.make_metric(\n",
    "    eval_fn = random_metric,\n",
    "    name = \"random_metric\",\n",
    "    metric_details = \"random metric\",\n",
    "    greater_is_better = False,\n",
    "    metric_metadata = {\"version\": \"0.0.1\", \"type\":\"custom\"},\n",
    "    version = \"0.0.1\"\n",
    ")"
   ]
  },
  {
   "cell_type": "code",
   "execution_count": 20,
   "id": "d7ebaadd",
   "metadata": {},
   "outputs": [
    {
     "name": "stderr",
     "output_type": "stream",
     "text": [
      "c:\\Users\\saqli\\anaconda3\\Lib\\site-packages\\mlflow\\types\\utils.py:452: UserWarning: Hint: Inferred schema contains integer column(s). Integer columns in Python cannot represent missing values. If your input data contains missing values at inference time, it will be encoded as floats and will cause a schema enforcement error. The best way to avoid this problem is to infer the model schema based on a realistic data sample (training dataset) that includes missing values. Alternatively, you can declare integer columns as doubles (float64) whenever these columns may have missing values. See `Handling Integers With Missing Values <https://www.mlflow.org/docs/latest/models.html#handling-integers-with-missing-values>`_ for more details.\n",
      "  warnings.warn(\n",
      "2025/09/16 15:42:26 WARNING mlflow.models.evaluation.evaluators.classifier: According to the evaluation dataset label values, the model type looks like None, but you specified model type 'classifier'. Please verify that you set the `model_type` and `dataset` arguments correctly.\n",
      "2025/09/16 15:42:26 INFO mlflow.models.evaluation.evaluators.classifier: The evaluation dataset is inferred as binary dataset, positive label is 1, negative label is 0.\n",
      "2025/09/16 15:42:26 INFO mlflow.models.evaluation.default_evaluator: Testing metrics on first row...\n",
      "2025/09/16 15:42:28 INFO mlflow.models.evaluation.evaluators.shap: Shap explainer ExactExplainer is used.\n",
      "2025/09/16 15:42:28 WARNING mlflow.models.evaluation.evaluators.shap: Shap evaluation failed. Reason: IndexError('list index out of range'). Set logging level to DEBUG to see the full traceback.\n"
     ]
    }
   ],
   "source": [
    "result = mlflow.evaluate(\n",
    "    data = test_df,\n",
    "    model_type = \"classifier\",\n",
    "    targets = \"targets\",\n",
    "    predictions = \"predictions\",\n",
    "    extra_metrics = [my_accuracy, good_enough_metric, my_random_metric]\n",
    ")"
   ]
  },
  {
   "cell_type": "code",
   "execution_count": 21,
   "id": "e672613d",
   "metadata": {},
   "outputs": [
    {
     "data": {
      "text/plain": [
       "{'true_negatives': 27,\n",
       " 'false_positives': 24,\n",
       " 'false_negatives': 28,\n",
       " 'true_positives': 21,\n",
       " 'example_count': 100,\n",
       " 'accuracy_score': 0.48,\n",
       " 'recall_score': 0.42857142857142855,\n",
       " 'precision_score': 0.4666666666666667,\n",
       " 'f1_score': 0.44680851063829785,\n",
       " 'custom_accuracy/v0.0.1': 0.48,\n",
       " 'good_enough/v0.0.1': 0,\n",
       " 'random_metric/0.0.1': 0.81107985565389}"
      ]
     },
     "execution_count": 21,
     "metadata": {},
     "output_type": "execute_result"
    }
   ],
   "source": [
    "result.metrics"
   ]
  },
  {
   "cell_type": "code",
   "execution_count": null,
   "id": "cb40e3e2",
   "metadata": {},
   "outputs": [],
   "source": []
  }
 ],
 "metadata": {
  "kernelspec": {
   "display_name": "base",
   "language": "python",
   "name": "python3"
  },
  "language_info": {
   "codemirror_mode": {
    "name": "ipython",
    "version": 3
   },
   "file_extension": ".py",
   "mimetype": "text/x-python",
   "name": "python",
   "nbconvert_exporter": "python",
   "pygments_lexer": "ipython3",
   "version": "3.12.3"
  }
 },
 "nbformat": 4,
 "nbformat_minor": 5
}
