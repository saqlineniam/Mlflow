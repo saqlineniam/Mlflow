{
 "cells": [
  {
   "cell_type": "code",
   "execution_count": 1,
   "id": "dc3cf68d",
   "metadata": {},
   "outputs": [],
   "source": [
    "import mlflow"
   ]
  },
  {
   "cell_type": "code",
   "execution_count": 7,
   "id": "44c89c58",
   "metadata": {},
   "outputs": [],
   "source": [
    "from sklearn.ensemble import RandomForestClassifier"
   ]
  },
  {
   "cell_type": "code",
   "execution_count": 8,
   "id": "7ec05a6b",
   "metadata": {},
   "outputs": [],
   "source": [
    "client = mlflow.MlflowClient()"
   ]
  },
  {
   "cell_type": "code",
   "execution_count": 9,
   "id": "06ef9188",
   "metadata": {},
   "outputs": [],
   "source": [
    "rfc = RandomForestClassifier()"
   ]
  },
  {
   "cell_type": "code",
   "execution_count": 11,
   "id": "8d87aa70",
   "metadata": {},
   "outputs": [
    {
     "name": "stderr",
     "output_type": "stream",
     "text": [
      "2025/09/13 03:19:23 WARNING mlflow.models.model: Model logged without a signature and input example. Please set `input_example` parameter when logging the model to auto infer the model signature.\n"
     ]
    }
   ],
   "source": [
    "with mlflow.start_run(run_name=\"logging model\") as run:\n",
    "    mlflow.sklearn.log_model(sk_model=rfc, artifact_path=rfc.__class__.__name__)"
   ]
  },
  {
   "cell_type": "markdown",
   "id": "331d4582",
   "metadata": {},
   "source": [
    "Register model using python SDK"
   ]
  },
  {
   "cell_type": "code",
   "execution_count": 15,
   "id": "288cca1c",
   "metadata": {},
   "outputs": [
    {
     "name": "stderr",
     "output_type": "stream",
     "text": [
      "2025/09/13 03:30:59 WARNING mlflow.models.model: Model logged without a signature and input example. Please set `input_example` parameter when logging the model to auto infer the model signature.\n",
      "Registered model 'registered_model_sdk' already exists. Creating a new version of this model...\n",
      "Created version '2' of model 'registered_model_sdk'.\n"
     ]
    }
   ],
   "source": [
    "rfc = RandomForestClassifier(n_estimators= 1)\n",
    "\n",
    "with mlflow.start_run(run_name=\"logging model\") as run:\n",
    "    mlflow.sklearn.log_model(sk_model=rfc, artifact_path=rfc.__class__.__name__, registered_model_name = \"registered_model_sdk\")\n"
   ]
  },
  {
   "cell_type": "code",
   "execution_count": 20,
   "id": "ef129841",
   "metadata": {},
   "outputs": [
    {
     "name": "stdout",
     "output_type": "stream",
     "text": [
      "Registered Model (name=registered_model_via_client) already exists.\n",
      "model registered_model_via_client created\n",
      "model descriptionL None\n",
      "Model creation timestap: 1757712845783\n",
      "model tags: {}\n",
      "model aliases: {}\n"
     ]
    }
   ],
   "source": [
    "model_name = \"registered_model_via_client\"\n",
    "\n",
    "try:\n",
    "    result = client.create_registered_model(name = model_name)\n",
    "except Exception as e:\n",
    "    print(e)\n",
    "\n",
    "print(f\"model {result.name} created\")\n",
    "print(f\"model descriptionL {result.description}\")\n",
    "print(f\"Model creation timestap: {result.creation_timestamp}\")\n",
    "print(f\"model tags: {result.tags}\")\n",
    "print(f\"model aliases: {result.aliases}\")"
   ]
  },
  {
   "cell_type": "markdown",
   "id": "7773198f",
   "metadata": {},
   "source": [
    "creating model version"
   ]
  },
  {
   "cell_type": "code",
   "execution_count": 27,
   "id": "4c85be38",
   "metadata": {},
   "outputs": [
    {
     "name": "stdout",
     "output_type": "stream",
     "text": [
      "model version 5 created\n",
      "model version description: model version created using Mlflow Client\n",
      "model version status: READY\n",
      "model source: file:///d:/Mlflow/mlruns/0/b429026e2064414882422e6ab2e4a5b2/artifacts\n"
     ]
    }
   ],
   "source": [
    "try:\n",
    "    model_version = client.create_model_version(\n",
    "        name = model_name,\n",
    "        source = run.info.artifact_uri,\n",
    "        run_id = run.info.run_id,\n",
    "        description = \"model version created using Mlflow Client\"\n",
    "    )\n",
    "except Exception as e:\n",
    "    print(e)\n",
    "\n",
    "print(f\"model version {model_version.version} created\")\n",
    "print(f\"model version description: {model_version.description}\")\n",
    "print(f\"model version status: {model_version.status}\")\n",
    "print(f\"model source: {model_version.source}\")"
   ]
  },
  {
   "cell_type": "code",
   "execution_count": null,
   "id": "bec292cd",
   "metadata": {},
   "outputs": [],
   "source": []
  }
 ],
 "metadata": {
  "kernelspec": {
   "display_name": "base",
   "language": "python",
   "name": "python3"
  },
  "language_info": {
   "codemirror_mode": {
    "name": "ipython",
    "version": 3
   },
   "file_extension": ".py",
   "mimetype": "text/x-python",
   "name": "python",
   "nbconvert_exporter": "python",
   "pygments_lexer": "ipython3",
   "version": "3.12.3"
  }
 },
 "nbformat": 4,
 "nbformat_minor": 5
}
