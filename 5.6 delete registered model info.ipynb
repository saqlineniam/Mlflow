{
 "cells": [
  {
   "cell_type": "code",
   "execution_count": 1,
   "id": "a858d736",
   "metadata": {},
   "outputs": [],
   "source": [
    "import mlflow"
   ]
  },
  {
   "cell_type": "code",
   "execution_count": 2,
   "id": "148d3b57",
   "metadata": {},
   "outputs": [],
   "source": [
    "client = mlflow.MlflowClient()\n",
    "model_name = \"random-forest-classifier\"\n",
    "model_version = \"1\""
   ]
  },
  {
   "cell_type": "code",
   "execution_count": 3,
   "id": "cde2e672",
   "metadata": {},
   "outputs": [],
   "source": [
    "client.delete_model_version_tag(name = model_name, version = model_version, key =\"validation_status\" )"
   ]
  },
  {
   "cell_type": "code",
   "execution_count": 4,
   "id": "cd72b559",
   "metadata": {},
   "outputs": [],
   "source": [
    "client.delete_registered_model_alias(name=model_name, alias = \"champion\" )"
   ]
  },
  {
   "cell_type": "code",
   "execution_count": 5,
   "id": "3b1912c7",
   "metadata": {},
   "outputs": [],
   "source": [
    "client.delete_model_version(name = model_name,  version = \"1\")"
   ]
  },
  {
   "cell_type": "code",
   "execution_count": 6,
   "id": "0edf89ca",
   "metadata": {},
   "outputs": [],
   "source": [
    "client.delete_registered_model(\"random-forest-classifier\")"
   ]
  },
  {
   "cell_type": "code",
   "execution_count": null,
   "id": "da0e90d6",
   "metadata": {},
   "outputs": [],
   "source": []
  }
 ],
 "metadata": {
  "kernelspec": {
   "display_name": "base",
   "language": "python",
   "name": "python3"
  },
  "language_info": {
   "codemirror_mode": {
    "name": "ipython",
    "version": 3
   },
   "file_extension": ".py",
   "mimetype": "text/x-python",
   "name": "python",
   "nbconvert_exporter": "python",
   "pygments_lexer": "ipython3",
   "version": "3.12.3"
  }
 },
 "nbformat": 4,
 "nbformat_minor": 5
}
