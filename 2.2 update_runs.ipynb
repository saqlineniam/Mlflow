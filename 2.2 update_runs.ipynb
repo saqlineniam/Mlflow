{
 "cells": [
  {
   "cell_type": "code",
   "execution_count": 1,
   "id": "b57c178d",
   "metadata": {},
   "outputs": [],
   "source": [
    "import mlflow\n",
    "from pathlib import Path"
   ]
  },
  {
   "cell_type": "code",
   "execution_count": 3,
   "id": "e9e5fe2a",
   "metadata": {},
   "outputs": [],
   "source": [
    "mlflow.set_tracking_uri(\"file:///d:/Mlflow/mlruns\")"
   ]
  },
  {
   "cell_type": "code",
   "execution_count": 7,
   "id": "bf8fcd1b",
   "metadata": {},
   "outputs": [
    {
     "name": "stdout",
     "output_type": "stream",
     "text": [
      "None\n"
     ]
    }
   ],
   "source": [
    "print(mlflow.active_run())"
   ]
  },
  {
   "cell_type": "code",
   "execution_count": 9,
   "id": "c8e64c8c",
   "metadata": {},
   "outputs": [
    {
     "data": {
      "text/plain": [
       "<Experiment: artifact_location='file:///d:/Mlflow/mlruns/325944852318647122', creation_time=1757588755056, experiment_id='325944852318647122', last_update_time=1757590356366, lifecycle_stage='active', name='Seed Germination Rate', tags={'mlflow.note.content': 'This is the description for the experiment',\n",
       " 'new-tags': 'new_tag_updated_with_client',\n",
       " 'new_tags': 'v1'}>"
      ]
     },
     "execution_count": 9,
     "metadata": {},
     "output_type": "execute_result"
    }
   ],
   "source": [
    "mlflow.set_experiment(experiment_name = \"Seed Germination Rate\")"
   ]
  },
  {
   "cell_type": "code",
   "execution_count": 10,
   "id": "c0bf24a0",
   "metadata": {},
   "outputs": [
    {
     "name": "stdout",
     "output_type": "stream",
     "text": [
      "parent run if:  e722447cda624092a027bddb056f18d9\n",
      "child run id:  760fb667671248a38b909927186214de\n",
      "grandchild run id:  68e6f77819a440c886cd68c3e268acfa\n"
     ]
    }
   ],
   "source": [
    "with mlflow.start_run(run_name = \"parent\") as parent_run:\n",
    "    print(\"parent run if: \", parent_run.info.run_id)\n",
    "    mlflow.log_param(\"parent_params1\", 2)\n",
    "\n",
    "    with mlflow.start_run(run_name = \"child\", nested = True) as child_run:\n",
    "        print(\"child run id: \", child_run.info.run_id)\n",
    "        mlflow.log_param(\"child_params1\", 3)\n",
    "        mlflow.log_metric(\"child_metric1\", 4)\n",
    "\n",
    "        with mlflow.start_run(run_name = \"grandchild\", nested = True) as grandchild_run:\n",
    "            print(\"grandchild run id: \", grandchild_run.info.run_id)\n",
    "            mlflow.log_param(\"grandchild_params1\", 5)\n",
    "            mlflow.log_metric(\"grandchild_metric1\", 6)"
   ]
  },
  {
   "cell_type": "code",
   "execution_count": 12,
   "id": "fbd72da3",
   "metadata": {},
   "outputs": [
    {
     "name": "stdout",
     "output_type": "stream",
     "text": [
      "parent run if:  787bc5fe235a45c2917e3ec54b5ea4a2\n",
      "child run id:  d0f7659313a649eebd139ce3a123a114\n",
      "grandchild run id:  125d7d5c87ec4e4985a1c95b6459e2e1\n"
     ]
    }
   ],
   "source": [
    "with mlflow.start_run(run_name = \"parent\") as parent_run:\n",
    "    print(\"parent run if: \", parent_run.info.run_id)\n",
    "    mlflow.log_param(\"parent_params1\", 2)\n",
    "\n",
    "with mlflow.start_run(run_name = \"child\", parent_run_id = parent_run.info.run_id ) as child_run:\n",
    "    print(\"child run id: \", child_run.info.run_id)\n",
    "    mlflow.log_param(\"child_params1\", 3)\n",
    "    mlflow.log_metric(\"child_metric1\", 4)\n",
    "\n",
    "with mlflow.start_run(run_name = \"grandchild\", parent_run_id = child_run.info.run_id) as grandchild_run:\n",
    "    print(\"grandchild run id: \", grandchild_run.info.run_id)\n",
    "    mlflow.log_param(\"grandchild_params1\", 5)\n",
    "    mlflow.log_metric(\"grandchild_metric1\", 6)"
   ]
  },
  {
   "cell_type": "markdown",
   "id": "ff30dd7c",
   "metadata": {},
   "source": [
    "Delete a run"
   ]
  },
  {
   "cell_type": "code",
   "execution_count": 14,
   "id": "76225cdb",
   "metadata": {},
   "outputs": [],
   "source": [
    "mlflow.delete_run(run_id = \"d0f7659313a649eebd139ce3a123a114\")"
   ]
  },
  {
   "cell_type": "markdown",
   "id": "68e20818",
   "metadata": {},
   "source": [
    "Restore a run"
   ]
  },
  {
   "cell_type": "code",
   "execution_count": null,
   "id": "679f3b6a",
   "metadata": {},
   "outputs": [],
   "source": [
    "mlflow.restore_run(run_id = \" \")"
   ]
  },
  {
   "cell_type": "code",
   "execution_count": null,
   "id": "2a0ce198",
   "metadata": {},
   "outputs": [],
   "source": []
  }
 ],
 "metadata": {
  "kernelspec": {
   "display_name": "base",
   "language": "python",
   "name": "python3"
  },
  "language_info": {
   "codemirror_mode": {
    "name": "ipython",
    "version": 3
   },
   "file_extension": ".py",
   "mimetype": "text/x-python",
   "name": "python",
   "nbconvert_exporter": "python",
   "pygments_lexer": "ipython3",
   "version": "3.12.3"
  }
 },
 "nbformat": 4,
 "nbformat_minor": 5
}
