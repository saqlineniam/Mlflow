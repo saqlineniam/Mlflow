{
 "cells": [
  {
   "cell_type": "code",
   "execution_count": 1,
   "id": "07260424",
   "metadata": {},
   "outputs": [],
   "source": [
    "import mlflow"
   ]
  },
  {
   "cell_type": "code",
   "execution_count": 2,
   "id": "66281be5",
   "metadata": {},
   "outputs": [],
   "source": [
    "registered_model_name = \"random-forest-classifier\""
   ]
  },
  {
   "cell_type": "code",
   "execution_count": null,
   "id": "50876598",
   "metadata": {},
   "outputs": [],
   "source": [
    "client = mlflow.MlflowClient()\n",
    "\n",
    "registered_model = client.get_registered_model(name = registered_model_name)"
   ]
  },
  {
   "cell_type": "code",
   "execution_count": 4,
   "id": "f0bdd7a8",
   "metadata": {},
   "outputs": [
    {
     "data": {
      "text/plain": [
       "mlflow.entities.model_registry.registered_model.RegisteredModel"
      ]
     },
     "execution_count": 4,
     "metadata": {},
     "output_type": "execute_result"
    }
   ],
   "source": [
    "type(registered_model)"
   ]
  },
  {
   "cell_type": "code",
   "execution_count": 8,
   "id": "c4520383",
   "metadata": {},
   "outputs": [],
   "source": [
    "model = registered_model"
   ]
  },
  {
   "cell_type": "code",
   "execution_count": 10,
   "id": "38dabf4a",
   "metadata": {},
   "outputs": [
    {
     "name": "stdout",
     "output_type": "stream",
     "text": [
      "model name: random-forest-classifier\n",
      "model creation time: 1757714450641\n",
      "mode tags: {'framework': 'sklearn', 'project_name': 'No name', 'task': 'toy project'}\n",
      "model description: this is a random forest classifier\n",
      "model latest version: [<ModelVersion: aliases=['champion'], creation_timestamp=1757716483742, current_stage='None', description='this version is shit', last_updated_timestamp=1757716812204, name='random-forest-classifier', run_id='6316832479c24a94a1f694cdd383afe3', run_link=None, source='file:///d:/Mlflow/mlruns/0/6316832479c24a94a1f694cdd383afe3/artifacts/RandomForestClassifier', status='READY', status_message=None, tags={}, user_id=None, version=2>]\n"
     ]
    }
   ],
   "source": [
    "print(f\"model name: {model.name}\")\n",
    "print(f\"model creation time: {model.creation_timestamp}\")\n",
    "print(f\"mode tags: {model.tags}\")\n",
    "print(f\"model description: {model.description}\")\n",
    "print(f\"model latest version: {model.latest_versions}\")"
   ]
  },
  {
   "cell_type": "markdown",
   "id": "33b43d6a",
   "metadata": {},
   "source": [
    "Get model version"
   ]
  },
  {
   "cell_type": "code",
   "execution_count": 12,
   "id": "30813cb1",
   "metadata": {},
   "outputs": [],
   "source": [
    "model_version_1 = client.get_model_version(name = registered_model_name, version = \"1\")"
   ]
  },
  {
   "cell_type": "code",
   "execution_count": 13,
   "id": "632aa3ab",
   "metadata": {},
   "outputs": [],
   "source": [
    "model = model_version_1"
   ]
  },
  {
   "cell_type": "code",
   "execution_count": 15,
   "id": "461007ab",
   "metadata": {},
   "outputs": [
    {
     "name": "stdout",
     "output_type": "stream",
     "text": [
      "model name: random-forest-classifier\n",
      "model creation time: 1757714450729\n",
      "mode tags: {'validation_status': 'Screening'}\n",
      "model description: updated model version\n",
      "model lalias: ['candidate', 'Development']\n"
     ]
    }
   ],
   "source": [
    "print(f\"model name: {model.name}\")\n",
    "print(f\"model creation time: {model.creation_timestamp}\")\n",
    "print(f\"mode tags: {model.tags}\")\n",
    "print(f\"model description: {model.description}\")\n",
    "print(f\"model lalias: {model.aliases}\")"
   ]
  },
  {
   "cell_type": "markdown",
   "id": "3afb0f2b",
   "metadata": {},
   "source": [
    "Get model version by Alias"
   ]
  },
  {
   "cell_type": "code",
   "execution_count": 20,
   "id": "131126b6",
   "metadata": {},
   "outputs": [],
   "source": [
    "model_by_aliases = client.get_model_version_by_alias(name = registered_model_name, alias = \"Champion\")"
   ]
  },
  {
   "cell_type": "code",
   "execution_count": 21,
   "id": "298445b2",
   "metadata": {},
   "outputs": [],
   "source": [
    "model = model_by_aliases"
   ]
  },
  {
   "cell_type": "code",
   "execution_count": 24,
   "id": "a6ef2ecc",
   "metadata": {},
   "outputs": [
    {
     "name": "stdout",
     "output_type": "stream",
     "text": [
      "model version: 2\n",
      "model name: random-forest-classifier\n",
      "model creation time: 1757716483742\n",
      "mode tags: {}\n",
      "moodel version status: READY\n",
      "model description: this version is shit\n",
      "model lalias: ['champion']\n"
     ]
    }
   ],
   "source": [
    "print(f\"model version: {model.version}\")\n",
    "print(f\"model name: {model.name}\")\n",
    "print(f\"model creation time: {model.creation_timestamp}\")\n",
    "print(f\"mode tags: {model.tags}\")\n",
    "print(f\"moodel version status: {model.status}\")\n",
    "print(f\"model description: {model.description}\")\n",
    "print(f\"model lalias: {model.aliases}\")"
   ]
  },
  {
   "cell_type": "code",
   "execution_count": null,
   "id": "c8753aee",
   "metadata": {},
   "outputs": [],
   "source": []
  }
 ],
 "metadata": {
  "kernelspec": {
   "display_name": "base",
   "language": "python",
   "name": "python3"
  },
  "language_info": {
   "codemirror_mode": {
    "name": "ipython",
    "version": 3
   },
   "file_extension": ".py",
   "mimetype": "text/x-python",
   "name": "python",
   "nbconvert_exporter": "python",
   "pygments_lexer": "ipython3",
   "version": "3.12.3"
  }
 },
 "nbformat": 4,
 "nbformat_minor": 5
}
