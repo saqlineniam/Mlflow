{
 "cells": [
  {
   "cell_type": "code",
   "execution_count": 1,
   "id": "e89c6f5b",
   "metadata": {},
   "outputs": [],
   "source": [
    "import pandas as pd\n",
    "import mlflow"
   ]
  },
  {
   "cell_type": "code",
   "execution_count": 12,
   "id": "b08ab513",
   "metadata": {},
   "outputs": [],
   "source": [
    "experiment = mlflow.set_experiment(experiment_name = \"seed germination rate\")"
   ]
  },
  {
   "cell_type": "code",
   "execution_count": 15,
   "id": "af11f79f",
   "metadata": {},
   "outputs": [],
   "source": [
    "run = mlflow.start_run()"
   ]
  },
  {
   "cell_type": "code",
   "execution_count": 14,
   "id": "42332abf",
   "metadata": {},
   "outputs": [],
   "source": [
    "mlflow.end_run()"
   ]
  },
  {
   "cell_type": "code",
   "execution_count": 16,
   "id": "384309ab",
   "metadata": {},
   "outputs": [
    {
     "name": "stdout",
     "output_type": "stream",
     "text": [
      "ActiveRun\n"
     ]
    }
   ],
   "source": [
    "print(type(run).__name__)"
   ]
  },
  {
   "cell_type": "code",
   "execution_count": 17,
   "id": "aaafcc33",
   "metadata": {},
   "outputs": [
    {
     "data": {
      "text/plain": [
       "run_uuid: \"01bd611cd76c46db971abd87b3594268\"\n",
       "experiment_id: \"335732615809876110\"\n",
       "run_name: \"indecisive-fawn-756\"\n",
       "user_id: \"saqli\"\n",
       "status: RUNNING\n",
       "start_time: 1757591486284\n",
       "artifact_uri: \"file:///d:/Mlflow/mlruns/335732615809876110/01bd611cd76c46db971abd87b3594268/artifacts\"\n",
       "lifecycle_stage: \"active\"\n",
       "run_id: \"01bd611cd76c46db971abd87b3594268\""
      ]
     },
     "execution_count": 17,
     "metadata": {},
     "output_type": "execute_result"
    }
   ],
   "source": [
    "run.info.to_proto()"
   ]
  },
  {
   "cell_type": "code",
   "execution_count": 18,
   "id": "5545f204",
   "metadata": {},
   "outputs": [
    {
     "data": {
      "text/plain": [
       "{'metrics': {},\n",
       " 'params': {},\n",
       " 'tags': {'mlflow.runName': 'indecisive-fawn-756',\n",
       "  'mlflow.source.name': 'c:\\\\Users\\\\saqli\\\\anaconda3\\\\Lib\\\\site-packages\\\\ipykernel_launcher.py',\n",
       "  'mlflow.source.type': 'LOCAL',\n",
       "  'mlflow.user': 'saqli'}}"
      ]
     },
     "execution_count": 18,
     "metadata": {},
     "output_type": "execute_result"
    }
   ],
   "source": [
    "run.data.to_dictionary()"
   ]
  },
  {
   "cell_type": "code",
   "execution_count": 19,
   "id": "823e2310",
   "metadata": {},
   "outputs": [
    {
     "data": {
      "text/plain": [
       "5"
      ]
     },
     "execution_count": 19,
     "metadata": {},
     "output_type": "execute_result"
    }
   ],
   "source": [
    "mlflow.log_param(\"param1\", 5)"
   ]
  },
  {
   "cell_type": "code",
   "execution_count": 20,
   "id": "a3651a2b",
   "metadata": {},
   "outputs": [],
   "source": [
    "run = mlflow.get_run(run_id = run.info.run_id)"
   ]
  },
  {
   "cell_type": "code",
   "execution_count": 22,
   "id": "d018d45f",
   "metadata": {},
   "outputs": [
    {
     "data": {
      "text/plain": [
       "run_uuid: \"01bd611cd76c46db971abd87b3594268\"\n",
       "experiment_id: \"335732615809876110\"\n",
       "run_name: \"indecisive-fawn-756\"\n",
       "user_id: \"saqli\"\n",
       "status: RUNNING\n",
       "start_time: 1757591486284\n",
       "artifact_uri: \"file:///d:/Mlflow/mlruns/335732615809876110/01bd611cd76c46db971abd87b3594268/artifacts\"\n",
       "lifecycle_stage: \"active\"\n",
       "run_id: \"01bd611cd76c46db971abd87b3594268\""
      ]
     },
     "execution_count": 22,
     "metadata": {},
     "output_type": "execute_result"
    }
   ],
   "source": [
    "run.info.to_proto()"
   ]
  },
  {
   "cell_type": "code",
   "execution_count": 23,
   "id": "ebea0b69",
   "metadata": {},
   "outputs": [
    {
     "data": {
      "text/plain": [
       "params {\n",
       "  key: \"param1\"\n",
       "  value: \"5\"\n",
       "}\n",
       "tags {\n",
       "  key: \"mlflow.runName\"\n",
       "  value: \"indecisive-fawn-756\"\n",
       "}\n",
       "tags {\n",
       "  key: \"mlflow.source.name\"\n",
       "  value: \"c:\\\\Users\\\\saqli\\\\anaconda3\\\\Lib\\\\site-packages\\\\ipykernel_launcher.py\"\n",
       "}\n",
       "tags {\n",
       "  key: \"mlflow.source.type\"\n",
       "  value: \"LOCAL\"\n",
       "}\n",
       "tags {\n",
       "  key: \"mlflow.user\"\n",
       "  value: \"saqli\"\n",
       "}"
      ]
     },
     "execution_count": 23,
     "metadata": {},
     "output_type": "execute_result"
    }
   ],
   "source": [
    "run.data.to_proto()"
   ]
  },
  {
   "cell_type": "markdown",
   "id": "6076a99f",
   "metadata": {},
   "source": [
    "Using run object as context manager"
   ]
  },
  {
   "cell_type": "code",
   "execution_count": 25,
   "id": "b123b230",
   "metadata": {},
   "outputs": [],
   "source": [
    "mlflow.end_run()"
   ]
  },
  {
   "cell_type": "code",
   "execution_count": 27,
   "id": "1f732a99",
   "metadata": {},
   "outputs": [
    {
     "name": "stdout",
     "output_type": "stream",
     "text": [
      "WITHIN RUN CONTEXT\n",
      "RUN STATUS:  RUNNING\n",
      "OUTSIDE RUN CONTEXT\n",
      "RUN STATUS:  FINISHED\n",
      "{'metrics': {'metric1': 10.0}, 'params': {'param1': '5'}, 'tags': {'mlflow.runName': 'respected-whale-455', 'mlflow.source.name': 'c:\\\\Users\\\\saqli\\\\anaconda3\\\\Lib\\\\site-packages\\\\ipykernel_launcher.py', 'mlflow.source.type': 'LOCAL', 'mlflow.user': 'saqli'}}\n"
     ]
    }
   ],
   "source": [
    "with mlflow.start_run() as run:\n",
    "    print(\"WITHIN RUN CONTEXT\")\n",
    "    print(\"RUN STATUS: \", run.info.status)\n",
    "\n",
    "    #logging random parameters\n",
    "    mlflow.log_param(\"param1\", 5)\n",
    "    mlflow.log_metric(\"metric1\", 10)\n",
    "\n",
    "\n",
    "print(\"OUTSIDE RUN CONTEXT\")\n",
    "run = mlflow.get_run(run_id = run.info.run_id)\n",
    "\n",
    "print(\"RUN STATUS: \", run.info.status)\n",
    "print(run.data.to_dictionary())"
   ]
  },
  {
   "cell_type": "markdown",
   "id": "046f6f62",
   "metadata": {},
   "source": [
    "Using Client"
   ]
  },
  {
   "cell_type": "code",
   "execution_count": 30,
   "id": "6b85458c",
   "metadata": {},
   "outputs": [
    {
     "name": "stdout",
     "output_type": "stream",
     "text": [
      "e55841ff46e14e4ca275727f0611483b\n"
     ]
    }
   ],
   "source": [
    "client = mlflow.MlflowClient()\n",
    "\n",
    "run = client.create_run(experiment_id=\"335732615809876110\")\n",
    "\n",
    "print(run.info.run_id)\n"
   ]
  },
  {
   "cell_type": "code",
   "execution_count": 31,
   "id": "bf4bff8b",
   "metadata": {},
   "outputs": [
    {
     "data": {
      "text/plain": [
       "run_uuid: \"e55841ff46e14e4ca275727f0611483b\"\n",
       "experiment_id: \"335732615809876110\"\n",
       "run_name: \"stylish-sloth-978\"\n",
       "user_id: \"unknown\"\n",
       "status: RUNNING\n",
       "start_time: 1757592370335\n",
       "artifact_uri: \"file:///d:/Mlflow/mlruns/335732615809876110/e55841ff46e14e4ca275727f0611483b/artifacts\"\n",
       "lifecycle_stage: \"active\"\n",
       "run_id: \"e55841ff46e14e4ca275727f0611483b\""
      ]
     },
     "execution_count": 31,
     "metadata": {},
     "output_type": "execute_result"
    }
   ],
   "source": [
    "run.info.to_proto()"
   ]
  },
  {
   "cell_type": "code",
   "execution_count": 37,
   "id": "3baa1294",
   "metadata": {},
   "outputs": [],
   "source": [
    "mlflow.end_run()"
   ]
  },
  {
   "cell_type": "code",
   "execution_count": 40,
   "id": "48041486",
   "metadata": {},
   "outputs": [],
   "source": [
    "client.set_terminated(run_id = run.info.run_id)"
   ]
  },
  {
   "cell_type": "code",
   "execution_count": 41,
   "id": "1b066770",
   "metadata": {},
   "outputs": [
    {
     "name": "stdout",
     "output_type": "stream",
     "text": [
      "FINISHED\n"
     ]
    }
   ],
   "source": [
    "run = mlflow.get_run(run.info.run_id)\n",
    "print(run.info.status)"
   ]
  },
  {
   "cell_type": "code",
   "execution_count": 43,
   "id": "20b3117d",
   "metadata": {},
   "outputs": [
    {
     "name": "stdout",
     "output_type": "stream",
     "text": [
      "{'metrics': {'metric1': 10.0}, 'params': {'param1': '5'}, 'tags': {'mlflow.runName': 'bouncy-shrimp-606'}}\n"
     ]
    }
   ],
   "source": [
    "run = client.create_run(experiment_id =\"335732615809876110\")\n",
    "\n",
    "with mlflow.start_run(run_id = run.info.run_id):\n",
    "    mlflow.log_param(\"param1\", 5)\n",
    "    mlflow.log_metric(\"metric1\", 10)\n",
    "\n",
    "run = client.get_run(run.info.run_id)\n",
    "print(run.data.to_dictionary())"
   ]
  },
  {
   "cell_type": "code",
   "execution_count": null,
   "id": "81f791f0",
   "metadata": {},
   "outputs": [],
   "source": []
  }
 ],
 "metadata": {
  "kernelspec": {
   "display_name": "base",
   "language": "python",
   "name": "python3"
  },
  "language_info": {
   "codemirror_mode": {
    "name": "ipython",
    "version": 3
   },
   "file_extension": ".py",
   "mimetype": "text/x-python",
   "name": "python",
   "nbconvert_exporter": "python",
   "pygments_lexer": "ipython3",
   "version": "3.12.3"
  }
 },
 "nbformat": 4,
 "nbformat_minor": 5
}
