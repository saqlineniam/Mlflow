{
 "cells": [
  {
   "cell_type": "code",
   "execution_count": 1,
   "id": "ed97aebb",
   "metadata": {},
   "outputs": [],
   "source": [
    "import mlflow"
   ]
  },
  {
   "cell_type": "code",
   "execution_count": 2,
   "id": "1a338c7a",
   "metadata": {},
   "outputs": [],
   "source": [
    "experiment_name = \"evaluation\""
   ]
  },
  {
   "cell_type": "code",
   "execution_count": 3,
   "id": "62512191",
   "metadata": {},
   "outputs": [],
   "source": [
    "from sklearn.datasets import make_classification\n",
    "from sklearn.model_selection import train_test_split\n",
    "from sklearn.ensemble import RandomForestClassifier\n",
    "import pandas as pd"
   ]
  },
  {
   "cell_type": "code",
   "execution_count": 8,
   "id": "4d373af9",
   "metadata": {},
   "outputs": [],
   "source": [
    "X, y = make_classification(n_samples=1000, n_features=4, random_state = 3, scale = 10, n_informative = 3, n_redundant = 1)\n",
    "X = pd.DataFrame(X, columns=[f\"f_{i}\" for i in range(X.shape[1])])\n",
    "y = pd.Series(y, name=\"target\")\n",
    "\n",
    "X_train, X_test, y_train, y_test = train_test_split(X, y, test_size=0.2, random_state=3)\n",
    "feature_names = X.columns.tolist()\n",
    "\n",
    "eval_data = X_test.copy()\n",
    "eval_data[\"target\"] = y_test"
   ]
  },
  {
   "cell_type": "code",
   "execution_count": null,
   "id": "a94e19cd",
   "metadata": {},
   "outputs": [
    {
     "name": "stderr",
     "output_type": "stream",
     "text": [
      "2025/09/13 18:37:20 WARNING mlflow.models.model: Model logged without a signature and input example. Please set `input_example` parameter when logging the model to auto infer the model signature.\n",
      "Registered model 'random-forest-classifier' already exists. Creating a new version of this model...\n",
      "Created version '2' of model 'random-forest-classifier'.\n",
      "c:\\Users\\saqli\\anaconda3\\Lib\\site-packages\\mlflow\\types\\utils.py:452: UserWarning: Hint: Inferred schema contains integer column(s). Integer columns in Python cannot represent missing values. If your input data contains missing values at inference time, it will be encoded as floats and will cause a schema enforcement error. The best way to avoid this problem is to infer the model schema based on a realistic data sample (training dataset) that includes missing values. Alternatively, you can declare integer columns as doubles (float64) whenever these columns may have missing values. See `Handling Integers With Missing Values <https://www.mlflow.org/docs/latest/models.html#handling-integers-with-missing-values>`_ for more details.\n",
      "  warnings.warn(\n",
      "2025/09/13 18:37:21 WARNING mlflow.models.evaluation.evaluators.classifier: According to the evaluation dataset label values, the model type looks like None, but you specified model type 'classifier'. Please verify that you set the `model_type` and `dataset` arguments correctly.\n",
      "2025/09/13 18:37:21 INFO mlflow.models.evaluation.evaluators.classifier: The evaluation dataset is inferred as binary dataset, positive label is 1, negative label is 0.\n",
      "2025/09/13 18:37:21 INFO mlflow.models.evaluation.default_evaluator: Testing metrics on first row...\n",
      "2025/09/13 18:37:28 INFO mlflow.models.evaluation.evaluators.shap: Shap explainer TreeExplainer is used.\n",
      "c:\\Users\\saqli\\anaconda3\\Lib\\site-packages\\mlflow\\shap\\__init__.py:436: UserWarning: Unable to serialize underlying model using MLflow, will use SHAP serialization\n",
      "  warnings.warn(\n",
      "2025/09/13 18:37:33 WARNING mlflow.models.evaluation.evaluators.shap: Logging explainer failed. Reason: AttributeError(\"'TreeEnsemble' object has no attribute 'save'\"). Set logging level to DEBUG to see the full traceback.\n",
      "2025/09/13 18:37:33 WARNING mlflow.models.evaluation.default_evaluator: Failed to log image artifact 'shap_beeswarm_plot': ValueError('The beeswarm plot does not support plotting explanations with instances that have more than one dimension!')\n",
      "2025/09/13 18:37:34 WARNING mlflow.models.evaluation.default_evaluator: Failed to log image artifact 'shap_feature_importance_plot': IndexError('list index out of range')\n"
     ]
    }
   ],
   "source": [
    "rfc = RandomForestClassifier()\n",
    "\n",
    "rfc.fit(X_train, y_train)\n",
    "\n",
    "artifact_path = \"random-forest-classifier\"\n",
    "\n",
    "with mlflow.start_run(run_name = \"evaluating_rfc\") as run:\n",
    "    mlflow.sklearn.log_model(rfc, artifact_path, registered_model_name = \"random-forest-classifier\")\n",
    "\n",
    "\n",
    "    result = mlflow.evaluate(\n",
    "        model = f\"runs:/{run.info.run_id}/{artifact_path}\",\n",
    "        data = eval_data,\n",
    "        model_type = \"classifier\",\n",
    "        targets = \"target\",\n",
    "        feature_names = feature_names,\n",
    "    )\n"
   ]
  },
  {
   "cell_type": "code",
   "execution_count": 12,
   "id": "23bddbe9",
   "metadata": {},
   "outputs": [
    {
     "data": {
      "text/html": [
       "<div>\n",
       "<style scoped>\n",
       "    .dataframe tbody tr th:only-of-type {\n",
       "        vertical-align: middle;\n",
       "    }\n",
       "\n",
       "    .dataframe tbody tr th {\n",
       "        vertical-align: top;\n",
       "    }\n",
       "\n",
       "    .dataframe thead th {\n",
       "        text-align: right;\n",
       "    }\n",
       "</style>\n",
       "<table border=\"1\" class=\"dataframe\">\n",
       "  <thead>\n",
       "    <tr style=\"text-align: right;\">\n",
       "      <th></th>\n",
       "      <th>f_0</th>\n",
       "      <th>f_1</th>\n",
       "      <th>f_2</th>\n",
       "      <th>f_3</th>\n",
       "      <th>target</th>\n",
       "    </tr>\n",
       "  </thead>\n",
       "  <tbody>\n",
       "    <tr>\n",
       "      <th>642</th>\n",
       "      <td>13.390612</td>\n",
       "      <td>16.589707</td>\n",
       "      <td>-22.432819</td>\n",
       "      <td>13.999437</td>\n",
       "      <td>1</td>\n",
       "    </tr>\n",
       "    <tr>\n",
       "      <th>762</th>\n",
       "      <td>13.403873</td>\n",
       "      <td>-0.407266</td>\n",
       "      <td>14.633971</td>\n",
       "      <td>-3.268620</td>\n",
       "      <td>0</td>\n",
       "    </tr>\n",
       "    <tr>\n",
       "      <th>909</th>\n",
       "      <td>16.805758</td>\n",
       "      <td>13.792503</td>\n",
       "      <td>-21.213979</td>\n",
       "      <td>-8.215804</td>\n",
       "      <td>0</td>\n",
       "    </tr>\n",
       "    <tr>\n",
       "      <th>199</th>\n",
       "      <td>6.071158</td>\n",
       "      <td>-2.771887</td>\n",
       "      <td>10.972801</td>\n",
       "      <td>-6.992161</td>\n",
       "      <td>0</td>\n",
       "    </tr>\n",
       "    <tr>\n",
       "      <th>586</th>\n",
       "      <td>12.273573</td>\n",
       "      <td>8.164306</td>\n",
       "      <td>-12.881873</td>\n",
       "      <td>-11.386556</td>\n",
       "      <td>0</td>\n",
       "    </tr>\n",
       "  </tbody>\n",
       "</table>\n",
       "</div>"
      ],
      "text/plain": [
       "           f_0        f_1        f_2        f_3  target\n",
       "642  13.390612  16.589707 -22.432819  13.999437       1\n",
       "762  13.403873  -0.407266  14.633971  -3.268620       0\n",
       "909  16.805758  13.792503 -21.213979  -8.215804       0\n",
       "199   6.071158  -2.771887  10.972801  -6.992161       0\n",
       "586  12.273573   8.164306 -12.881873 -11.386556       0"
      ]
     },
     "execution_count": 12,
     "metadata": {},
     "output_type": "execute_result"
    }
   ],
   "source": [
    "eval_data.head()"
   ]
  },
  {
   "cell_type": "markdown",
   "id": "8dd85dab",
   "metadata": {},
   "source": [
    "Evaluating Multiple Models"
   ]
  },
  {
   "cell_type": "code",
   "execution_count": 14,
   "id": "e5b83978",
   "metadata": {},
   "outputs": [
    {
     "name": "stdout",
     "output_type": "stream",
     "text": [
      "{'2': RandomForestClassifier(n_estimators=2)}\n",
      "{'2': RandomForestClassifier(n_estimators=2), '5': RandomForestClassifier(n_estimators=5)}\n",
      "{'2': RandomForestClassifier(n_estimators=2), '5': RandomForestClassifier(n_estimators=5), '10': RandomForestClassifier(n_estimators=10)}\n",
      "{'2': RandomForestClassifier(n_estimators=2), '5': RandomForestClassifier(n_estimators=5), '10': RandomForestClassifier(n_estimators=10), '20': RandomForestClassifier(n_estimators=20)}\n",
      "{'2': RandomForestClassifier(n_estimators=2), '5': RandomForestClassifier(n_estimators=5), '10': RandomForestClassifier(n_estimators=10), '20': RandomForestClassifier(n_estimators=20), '30': RandomForestClassifier(n_estimators=30)}\n",
      "{'2': RandomForestClassifier(n_estimators=2), '5': RandomForestClassifier(n_estimators=5), '10': RandomForestClassifier(n_estimators=10), '20': RandomForestClassifier(n_estimators=20), '30': RandomForestClassifier(n_estimators=30), '50': RandomForestClassifier(n_estimators=50)}\n"
     ]
    }
   ],
   "source": [
    "estimators = [2,5,10,20,30,50]\n",
    "rfc_models = {}\n",
    "\n",
    "for n_estimator in estimators:\n",
    "    rfc = RandomForestClassifier(n_estimators=n_estimator)\n",
    "    rfc.fit(X_train, y_train)\n",
    "    rfc_models[str(n_estimator)] = rfc\n",
    "    print(f\"{rfc_models}\")"
   ]
  },
  {
   "cell_type": "code",
   "execution_count": null,
   "id": "39294879",
   "metadata": {},
   "outputs": [
    {
     "name": "stdout",
     "output_type": "stream",
     "text": [
      "Trained 2 trees.\n",
      "Trained 5 trees.\n",
      "Trained 10 trees.\n",
      "Trained 20 trees.\n",
      "Trained 30 trees.\n",
      "Trained 50 trees.\n"
     ]
    },
    {
     "name": "stderr",
     "output_type": "stream",
     "text": [
      "2025/09/13 21:13:11 WARNING mlflow.models.model: Model logged without a signature and input example. Please set `input_example` parameter when logging the model to auto infer the model signature.\n",
      "c:\\Users\\saqli\\anaconda3\\Lib\\site-packages\\mlflow\\types\\utils.py:452: UserWarning: Hint: Inferred schema contains integer column(s). Integer columns in Python cannot represent missing values. If your input data contains missing values at inference time, it will be encoded as floats and will cause a schema enforcement error. The best way to avoid this problem is to infer the model schema based on a realistic data sample (training dataset) that includes missing values. Alternatively, you can declare integer columns as doubles (float64) whenever these columns may have missing values. See `Handling Integers With Missing Values <https://www.mlflow.org/docs/latest/models.html#handling-integers-with-missing-values>`_ for more details.\n",
      "  warnings.warn(\n",
      "2025/09/13 21:13:11 WARNING mlflow.models.evaluation.evaluators.classifier: According to the evaluation dataset label values, the model type looks like None, but you specified model type 'classifier'. Please verify that you set the `model_type` and `dataset` arguments correctly.\n",
      "2025/09/13 21:13:11 INFO mlflow.models.evaluation.evaluators.classifier: The evaluation dataset is inferred as binary dataset, positive label is 1, negative label is 0.\n",
      "2025/09/13 21:13:11 INFO mlflow.models.evaluation.default_evaluator: Testing metrics on first row...\n",
      "2025/09/13 21:13:14 INFO mlflow.models.evaluation.evaluators.shap: Shap explainer TreeExplainer is used.\n",
      "c:\\Users\\saqli\\anaconda3\\Lib\\site-packages\\mlflow\\shap\\__init__.py:436: UserWarning: Unable to serialize underlying model using MLflow, will use SHAP serialization\n",
      "  warnings.warn(\n",
      "2025/09/13 21:13:14 WARNING mlflow.models.evaluation.evaluators.shap: Logging explainer failed. Reason: AttributeError(\"'TreeEnsemble' object has no attribute 'save'\"). Set logging level to DEBUG to see the full traceback.\n",
      "2025/09/13 21:13:14 WARNING mlflow.models.evaluation.default_evaluator: Failed to log image artifact 'shap_beeswarm_plot': ValueError('The beeswarm plot does not support plotting explanations with instances that have more than one dimension!')\n",
      "2025/09/13 21:13:14 WARNING mlflow.models.evaluation.default_evaluator: Failed to log image artifact 'shap_feature_importance_plot': IndexError('list index out of range')\n",
      "2025/09/13 21:13:26 WARNING mlflow.models.model: Model logged without a signature and input example. Please set `input_example` parameter when logging the model to auto infer the model signature.\n",
      "c:\\Users\\saqli\\anaconda3\\Lib\\site-packages\\mlflow\\types\\utils.py:452: UserWarning: Hint: Inferred schema contains integer column(s). Integer columns in Python cannot represent missing values. If your input data contains missing values at inference time, it will be encoded as floats and will cause a schema enforcement error. The best way to avoid this problem is to infer the model schema based on a realistic data sample (training dataset) that includes missing values. Alternatively, you can declare integer columns as doubles (float64) whenever these columns may have missing values. See `Handling Integers With Missing Values <https://www.mlflow.org/docs/latest/models.html#handling-integers-with-missing-values>`_ for more details.\n",
      "  warnings.warn(\n",
      "2025/09/13 21:13:26 WARNING mlflow.models.evaluation.evaluators.classifier: According to the evaluation dataset label values, the model type looks like None, but you specified model type 'classifier'. Please verify that you set the `model_type` and `dataset` arguments correctly.\n",
      "2025/09/13 21:13:26 INFO mlflow.models.evaluation.evaluators.classifier: The evaluation dataset is inferred as binary dataset, positive label is 1, negative label is 0.\n",
      "2025/09/13 21:13:26 INFO mlflow.models.evaluation.default_evaluator: Testing metrics on first row...\n",
      "2025/09/13 21:13:29 INFO mlflow.models.evaluation.evaluators.shap: Shap explainer TreeExplainer is used.\n",
      "c:\\Users\\saqli\\anaconda3\\Lib\\site-packages\\mlflow\\shap\\__init__.py:436: UserWarning: Unable to serialize underlying model using MLflow, will use SHAP serialization\n",
      "  warnings.warn(\n",
      "2025/09/13 21:13:29 WARNING mlflow.models.evaluation.evaluators.shap: Logging explainer failed. Reason: AttributeError(\"'TreeEnsemble' object has no attribute 'save'\"). Set logging level to DEBUG to see the full traceback.\n",
      "2025/09/13 21:13:29 WARNING mlflow.models.evaluation.default_evaluator: Failed to log image artifact 'shap_beeswarm_plot': ValueError('The beeswarm plot does not support plotting explanations with instances that have more than one dimension!')\n",
      "2025/09/13 21:13:30 WARNING mlflow.models.evaluation.default_evaluator: Failed to log image artifact 'shap_feature_importance_plot': IndexError('list index out of range')\n",
      "2025/09/13 21:13:42 WARNING mlflow.models.model: Model logged without a signature and input example. Please set `input_example` parameter when logging the model to auto infer the model signature.\n",
      "c:\\Users\\saqli\\anaconda3\\Lib\\site-packages\\mlflow\\types\\utils.py:452: UserWarning: Hint: Inferred schema contains integer column(s). Integer columns in Python cannot represent missing values. If your input data contains missing values at inference time, it will be encoded as floats and will cause a schema enforcement error. The best way to avoid this problem is to infer the model schema based on a realistic data sample (training dataset) that includes missing values. Alternatively, you can declare integer columns as doubles (float64) whenever these columns may have missing values. See `Handling Integers With Missing Values <https://www.mlflow.org/docs/latest/models.html#handling-integers-with-missing-values>`_ for more details.\n",
      "  warnings.warn(\n",
      "2025/09/13 21:13:43 WARNING mlflow.models.evaluation.evaluators.classifier: According to the evaluation dataset label values, the model type looks like None, but you specified model type 'classifier'. Please verify that you set the `model_type` and `dataset` arguments correctly.\n",
      "2025/09/13 21:13:43 INFO mlflow.models.evaluation.evaluators.classifier: The evaluation dataset is inferred as binary dataset, positive label is 1, negative label is 0.\n",
      "2025/09/13 21:13:43 INFO mlflow.models.evaluation.default_evaluator: Testing metrics on first row...\n",
      "2025/09/13 21:13:46 INFO mlflow.models.evaluation.evaluators.shap: Shap explainer TreeExplainer is used.\n",
      "c:\\Users\\saqli\\anaconda3\\Lib\\site-packages\\mlflow\\shap\\__init__.py:436: UserWarning: Unable to serialize underlying model using MLflow, will use SHAP serialization\n",
      "  warnings.warn(\n",
      "2025/09/13 21:13:47 WARNING mlflow.models.evaluation.evaluators.shap: Logging explainer failed. Reason: AttributeError(\"'TreeEnsemble' object has no attribute 'save'\"). Set logging level to DEBUG to see the full traceback.\n",
      "2025/09/13 21:13:47 WARNING mlflow.models.evaluation.default_evaluator: Failed to log image artifact 'shap_beeswarm_plot': ValueError('The beeswarm plot does not support plotting explanations with instances that have more than one dimension!')\n",
      "2025/09/13 21:13:47 WARNING mlflow.models.evaluation.default_evaluator: Failed to log image artifact 'shap_feature_importance_plot': IndexError('list index out of range')\n",
      "2025/09/13 21:14:00 WARNING mlflow.models.model: Model logged without a signature and input example. Please set `input_example` parameter when logging the model to auto infer the model signature.\n",
      "c:\\Users\\saqli\\anaconda3\\Lib\\site-packages\\mlflow\\types\\utils.py:452: UserWarning: Hint: Inferred schema contains integer column(s). Integer columns in Python cannot represent missing values. If your input data contains missing values at inference time, it will be encoded as floats and will cause a schema enforcement error. The best way to avoid this problem is to infer the model schema based on a realistic data sample (training dataset) that includes missing values. Alternatively, you can declare integer columns as doubles (float64) whenever these columns may have missing values. See `Handling Integers With Missing Values <https://www.mlflow.org/docs/latest/models.html#handling-integers-with-missing-values>`_ for more details.\n",
      "  warnings.warn(\n",
      "2025/09/13 21:14:00 WARNING mlflow.models.evaluation.evaluators.classifier: According to the evaluation dataset label values, the model type looks like None, but you specified model type 'classifier'. Please verify that you set the `model_type` and `dataset` arguments correctly.\n",
      "2025/09/13 21:14:00 INFO mlflow.models.evaluation.evaluators.classifier: The evaluation dataset is inferred as binary dataset, positive label is 1, negative label is 0.\n",
      "2025/09/13 21:14:00 INFO mlflow.models.evaluation.default_evaluator: Testing metrics on first row...\n",
      "2025/09/13 21:14:03 INFO mlflow.models.evaluation.evaluators.shap: Shap explainer TreeExplainer is used.\n",
      "c:\\Users\\saqli\\anaconda3\\Lib\\site-packages\\mlflow\\shap\\__init__.py:436: UserWarning: Unable to serialize underlying model using MLflow, will use SHAP serialization\n",
      "  warnings.warn(\n",
      "2025/09/13 21:14:04 WARNING mlflow.models.evaluation.evaluators.shap: Logging explainer failed. Reason: AttributeError(\"'TreeEnsemble' object has no attribute 'save'\"). Set logging level to DEBUG to see the full traceback.\n",
      "2025/09/13 21:14:04 WARNING mlflow.models.evaluation.default_evaluator: Failed to log image artifact 'shap_beeswarm_plot': ValueError('The beeswarm plot does not support plotting explanations with instances that have more than one dimension!')\n",
      "2025/09/13 21:14:05 WARNING mlflow.models.evaluation.default_evaluator: Failed to log image artifact 'shap_feature_importance_plot': IndexError('list index out of range')\n",
      "2025/09/13 21:14:21 WARNING mlflow.models.model: Model logged without a signature and input example. Please set `input_example` parameter when logging the model to auto infer the model signature.\n",
      "c:\\Users\\saqli\\anaconda3\\Lib\\site-packages\\mlflow\\types\\utils.py:452: UserWarning: Hint: Inferred schema contains integer column(s). Integer columns in Python cannot represent missing values. If your input data contains missing values at inference time, it will be encoded as floats and will cause a schema enforcement error. The best way to avoid this problem is to infer the model schema based on a realistic data sample (training dataset) that includes missing values. Alternatively, you can declare integer columns as doubles (float64) whenever these columns may have missing values. See `Handling Integers With Missing Values <https://www.mlflow.org/docs/latest/models.html#handling-integers-with-missing-values>`_ for more details.\n",
      "  warnings.warn(\n",
      "2025/09/13 21:14:22 WARNING mlflow.models.evaluation.evaluators.classifier: According to the evaluation dataset label values, the model type looks like None, but you specified model type 'classifier'. Please verify that you set the `model_type` and `dataset` arguments correctly.\n",
      "2025/09/13 21:14:22 INFO mlflow.models.evaluation.evaluators.classifier: The evaluation dataset is inferred as binary dataset, positive label is 1, negative label is 0.\n",
      "2025/09/13 21:14:22 INFO mlflow.models.evaluation.default_evaluator: Testing metrics on first row...\n",
      "2025/09/13 21:14:25 INFO mlflow.models.evaluation.evaluators.shap: Shap explainer TreeExplainer is used.\n",
      "c:\\Users\\saqli\\anaconda3\\Lib\\site-packages\\mlflow\\shap\\__init__.py:436: UserWarning: Unable to serialize underlying model using MLflow, will use SHAP serialization\n",
      "  warnings.warn(\n",
      "2025/09/13 21:14:26 WARNING mlflow.models.evaluation.evaluators.shap: Logging explainer failed. Reason: AttributeError(\"'TreeEnsemble' object has no attribute 'save'\"). Set logging level to DEBUG to see the full traceback.\n",
      "2025/09/13 21:14:26 WARNING mlflow.models.evaluation.default_evaluator: Failed to log image artifact 'shap_beeswarm_plot': ValueError('The beeswarm plot does not support plotting explanations with instances that have more than one dimension!')\n",
      "2025/09/13 21:14:27 WARNING mlflow.models.evaluation.default_evaluator: Failed to log image artifact 'shap_feature_importance_plot': IndexError('list index out of range')\n",
      "2025/09/13 21:14:39 WARNING mlflow.models.model: Model logged without a signature and input example. Please set `input_example` parameter when logging the model to auto infer the model signature.\n",
      "c:\\Users\\saqli\\anaconda3\\Lib\\site-packages\\mlflow\\types\\utils.py:452: UserWarning: Hint: Inferred schema contains integer column(s). Integer columns in Python cannot represent missing values. If your input data contains missing values at inference time, it will be encoded as floats and will cause a schema enforcement error. The best way to avoid this problem is to infer the model schema based on a realistic data sample (training dataset) that includes missing values. Alternatively, you can declare integer columns as doubles (float64) whenever these columns may have missing values. See `Handling Integers With Missing Values <https://www.mlflow.org/docs/latest/models.html#handling-integers-with-missing-values>`_ for more details.\n",
      "  warnings.warn(\n",
      "2025/09/13 21:14:40 WARNING mlflow.models.evaluation.evaluators.classifier: According to the evaluation dataset label values, the model type looks like None, but you specified model type 'classifier'. Please verify that you set the `model_type` and `dataset` arguments correctly.\n",
      "2025/09/13 21:14:40 INFO mlflow.models.evaluation.evaluators.classifier: The evaluation dataset is inferred as binary dataset, positive label is 1, negative label is 0.\n",
      "2025/09/13 21:14:40 INFO mlflow.models.evaluation.default_evaluator: Testing metrics on first row...\n",
      "2025/09/13 21:14:43 INFO mlflow.models.evaluation.evaluators.shap: Shap explainer TreeExplainer is used.\n",
      "c:\\Users\\saqli\\anaconda3\\Lib\\site-packages\\mlflow\\shap\\__init__.py:436: UserWarning: Unable to serialize underlying model using MLflow, will use SHAP serialization\n",
      "  warnings.warn(\n",
      "2025/09/13 21:14:46 WARNING mlflow.models.evaluation.evaluators.shap: Logging explainer failed. Reason: AttributeError(\"'TreeEnsemble' object has no attribute 'save'\"). Set logging level to DEBUG to see the full traceback.\n",
      "2025/09/13 21:14:46 WARNING mlflow.models.evaluation.default_evaluator: Failed to log image artifact 'shap_beeswarm_plot': ValueError('The beeswarm plot does not support plotting explanations with instances that have more than one dimension!')\n",
      "2025/09/13 21:14:49 WARNING mlflow.models.evaluation.default_evaluator: Failed to log image artifact 'shap_feature_importance_plot': IndexError('list index out of range')\n"
     ]
    }
   ],
   "source": [
    "estimators = [2, 5, 10, 20, 30, 50]\n",
    "rfc_models = {}\n",
    "\n",
    "for n_estimators in estimators:\n",
    "    rfc = RandomForestClassifier(n_estimators=n_estimators)\n",
    "    rfc.fit(X_train, y_train)\n",
    "    rfc_models[f\"{n_estimators}\"] = rfc\n",
    "    print(f\"Trained {n_estimators} trees.\")\n",
    "\n",
    "with mlflow.start_run(run_name=\"evaluating-multiple-models\") as parent_run:\n",
    "\n",
    "    for n_estimators, model in rfc_models.items():\n",
    "        with mlflow.start_run(\n",
    "            run_name=f\"rfc_{n_estimators}\", \n",
    "            parent_run_id=parent_run.info.run_id, \n",
    "            nested=True\n",
    "        ) as child_run:\n",
    "            artifact_path = \"random-forest-model\"\n",
    "            mlflow.sklearn.log_model(model, artifact_path)\n",
    "            mlflow.log_param(\"n_estimators\", int(n_estimators))\n",
    "\n",
    "            result = mlflow.evaluate(\n",
    "                model=f\"runs:/{child_run.info.run_id}/{artifact_path}\",\n",
    "                data=eval_data,\n",
    "                model_type=\"classifier\",\n",
    "                targets=\"target\",\n",
    "                feature_names=feature_names,\n",
    "            )"
   ]
  },
  {
   "cell_type": "code",
   "execution_count": null,
   "id": "72e791f6",
   "metadata": {},
   "outputs": [],
   "source": []
  }
 ],
 "metadata": {
  "kernelspec": {
   "display_name": "base",
   "language": "python",
   "name": "python3"
  },
  "language_info": {
   "codemirror_mode": {
    "name": "ipython",
    "version": 3
   },
   "file_extension": ".py",
   "mimetype": "text/x-python",
   "name": "python",
   "nbconvert_exporter": "python",
   "pygments_lexer": "ipython3",
   "version": "3.12.3"
  }
 },
 "nbformat": 4,
 "nbformat_minor": 5
}
