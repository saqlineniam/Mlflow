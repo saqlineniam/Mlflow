{
 "cells": [
  {
   "cell_type": "code",
   "execution_count": 1,
   "id": "76b5d0a9",
   "metadata": {},
   "outputs": [],
   "source": [
    "import mlflow"
   ]
  },
  {
   "cell_type": "code",
   "execution_count": 4,
   "id": "7207da22",
   "metadata": {},
   "outputs": [
    {
     "data": {
      "text/plain": [
       "<Experiment: artifact_location='file:///d:/Mlflow/mlruns/560797171355948544', creation_time=1757537992738, experiment_id='560797171355948544', last_update_time=1757537992738, lifecycle_stage='active', name='creating-experiments 1', tags={'topic': 'experiment-management', 'version': 'v1'}>"
      ]
     },
     "execution_count": 4,
     "metadata": {},
     "output_type": "execute_result"
    }
   ],
   "source": [
    "mlflow.get_experiment_by_name(\"creating-experiments 1\")"
   ]
  },
  {
   "cell_type": "code",
   "execution_count": 6,
   "id": "31583567",
   "metadata": {},
   "outputs": [
    {
     "ename": "SyntaxError",
     "evalue": "invalid syntax (1517438779.py, line 1)",
     "output_type": "error",
     "traceback": [
      "\u001b[1;36m  Cell \u001b[1;32mIn[6], line 1\u001b[1;36m\u001b[0m\n\u001b[1;33m    mlflow.set_experiment(expexperiment =expriment_name = \"creating-experiments-dataset\")\u001b[0m\n\u001b[1;37m                                                        ^\u001b[0m\n\u001b[1;31mSyntaxError\u001b[0m\u001b[1;31m:\u001b[0m invalid syntax\n"
     ]
    }
   ],
   "source": [
    " mlflow.set_experiment(expexperiment =expriment_name = \"creating-experiments-dataset\")"
   ]
  },
  {
   "cell_type": "code",
   "execution_count": 7,
   "id": "3621502e",
   "metadata": {},
   "outputs": [
    {
     "ename": "NameError",
     "evalue": "name 'experiment' is not defined",
     "output_type": "error",
     "traceback": [
      "\u001b[1;31m---------------------------------------------------------------------------\u001b[0m",
      "\u001b[1;31mNameError\u001b[0m                                 Traceback (most recent call last)",
      "Cell \u001b[1;32mIn[7], line 1\u001b[0m\n\u001b[1;32m----> 1\u001b[0m \u001b[38;5;28mprint\u001b[39m(experiment\u001b[38;5;241m.\u001b[39mname)\n",
      "\u001b[1;31mNameError\u001b[0m: name 'experiment' is not defined"
     ]
    }
   ],
   "source": [
    "print(experiment.name)"
   ]
  },
  {
   "cell_type": "code",
   "execution_count": 6,
   "id": "a079bcf7",
   "metadata": {},
   "outputs": [
    {
     "data": {
      "text/plain": [
       "experiment_id: \"290226179795910955\"\n",
       "name: \"creating-experiments-new\"\n",
       "artifact_location: \"file:///d:/Mlflow/mlruns/290226179795910955\"\n",
       "lifecycle_stage: \"active\"\n",
       "last_update_time: 1757539128982\n",
       "creation_time: 1757539128982"
      ]
     },
     "execution_count": 6,
     "metadata": {},
     "output_type": "execute_result"
    }
   ],
   "source": [
    "experiment.to_proto()"
   ]
  },
  {
   "cell_type": "code",
   "execution_count": 7,
   "id": "6a4fa18e",
   "metadata": {},
   "outputs": [
    {
     "data": {
      "text/plain": [
       "<Experiment: artifact_location='file:///d:/Mlflow/mlruns/290226179795910955', creation_time=1757539128982, experiment_id='290226179795910955', last_update_time=1757539128982, lifecycle_stage='active', name='creating-experiments-new', tags={}>"
      ]
     },
     "execution_count": 7,
     "metadata": {},
     "output_type": "execute_result"
    }
   ],
   "source": [
    "mlflow.get_experiment(\"290226179795910955\")"
   ]
  },
  {
   "cell_type": "code",
   "execution_count": 8,
   "id": "8d9523dc",
   "metadata": {},
   "outputs": [
    {
     "name": "stderr",
     "output_type": "stream",
     "text": [
      "2025/09/11 16:02:34 INFO mlflow.tracking.fluent: Experiment with name 'creating-experiments-new_101' does not exist. Creating a new experiment.\n"
     ]
    },
    {
     "name": "stdout",
     "output_type": "stream",
     "text": [
      "creating-experiments-new_101\n",
      "936630473086625592\n"
     ]
    }
   ],
   "source": [
    "experiment = mlflow.set_experiment(experiment_name = \"creating-experiments-new_101\")\n",
    "print(experiment.name)\n",
    "print(experiment.experiment_id)"
   ]
  },
  {
   "cell_type": "code",
   "execution_count": null,
   "id": "5515265a",
   "metadata": {},
   "outputs": [],
   "source": []
  }
 ],
 "metadata": {
  "kernelspec": {
   "display_name": "base",
   "language": "python",
   "name": "python3"
  },
  "language_info": {
   "codemirror_mode": {
    "name": "ipython",
    "version": 3
   },
   "file_extension": ".py",
   "mimetype": "text/x-python",
   "name": "python",
   "nbconvert_exporter": "python",
   "pygments_lexer": "ipython3",
   "version": "3.12.3"
  }
 },
 "nbformat": 4,
 "nbformat_minor": 5
}
