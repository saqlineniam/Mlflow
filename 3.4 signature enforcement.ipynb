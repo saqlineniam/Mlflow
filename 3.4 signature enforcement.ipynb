{
 "cells": [
  {
   "cell_type": "code",
   "execution_count": 1,
   "id": "426a926e",
   "metadata": {},
   "outputs": [],
   "source": [
    "import mlflow"
   ]
  },
  {
   "cell_type": "code",
   "execution_count": 2,
   "id": "0d6c0cc2",
   "metadata": {},
   "outputs": [],
   "source": [
    "\n",
    "model_uri = 'runs:/6fc440192ce04d749ce3832435b268b1/rfc'"
   ]
  },
  {
   "cell_type": "code",
   "execution_count": 3,
   "id": "82cc2ce6",
   "metadata": {},
   "outputs": [],
   "source": [
    "sk_model = mlflow.sklearn.load_model(model_uri)"
   ]
  },
  {
   "cell_type": "code",
   "execution_count": 5,
   "id": "7bd1cfae",
   "metadata": {},
   "outputs": [
    {
     "name": "stdout",
     "output_type": "stream",
     "text": [
      "RandomForestClassifier\n"
     ]
    }
   ],
   "source": [
    "print(type(sk_model).__name__)"
   ]
  },
  {
   "cell_type": "code",
   "execution_count": 9,
   "id": "041d0e0d",
   "metadata": {},
   "outputs": [
    {
     "name": "stdout",
     "output_type": "stream",
     "text": [
      "PyFuncModel\n"
     ]
    }
   ],
   "source": [
    "#loading pyfuncmodel\n",
    "pyfunc_model = mlflow.pyfunc.load_model(model_uri)\n",
    "print(type(pyfunc_model).__name__)"
   ]
  },
  {
   "cell_type": "code",
   "execution_count": 10,
   "id": "fab55ed1",
   "metadata": {},
   "outputs": [],
   "source": [
    "from sklearn.datasets import load_iris\n",
    "from pprint import pprint"
   ]
  },
  {
   "cell_type": "code",
   "execution_count": 11,
   "id": "5bdca1f8",
   "metadata": {},
   "outputs": [],
   "source": [
    "data = load_iris(as_frame = True)"
   ]
  },
  {
   "cell_type": "code",
   "execution_count": 12,
   "id": "2381fd1e",
   "metadata": {},
   "outputs": [],
   "source": [
    "x = data.data\n",
    "y = data.target"
   ]
  },
  {
   "cell_type": "markdown",
   "id": "c4abd8eb",
   "metadata": {},
   "source": [
    "Data Type Validation"
   ]
  },
  {
   "cell_type": "code",
   "execution_count": null,
   "metadata": {},
   "outputs": [],
   "source": []
  },
  {
   "cell_type": "code",
   "execution_count": 15,
   "id": "0b639b34",
   "metadata": {},
   "outputs": [
    {
     "name": "stdout",
     "output_type": "stream",
     "text": [
      "<class 'pandas.core.frame.DataFrame'>\n",
      "RangeIndex: 150 entries, 0 to 149\n",
      "Data columns (total 4 columns):\n",
      " #   Column             Non-Null Count  Dtype  \n",
      "---  ------             --------------  -----  \n",
      " 0   sepal length (cm)  150 non-null    int32  \n",
      " 1   sepal width (cm)   150 non-null    float64\n",
      " 2   petal length (cm)  150 non-null    float64\n",
      " 3   petal width (cm)   150 non-null    float64\n",
      "dtypes: float64(3), int32(1)\n",
      "memory usage: 4.2 KB\n"
     ]
    }
   ],
   "source": [
    "x_invalid = x.copy()\n",
    "x_invalid['sepal length (cm)'] = x_invalid['sepal length (cm)'].astype(int)\n",
    "x_invalid.info()"
   ]
  },
  {
   "cell_type": "code",
   "execution_count": 16,
   "id": "b5390cb4",
   "metadata": {},
   "outputs": [
    {
     "data": {
      "text/plain": [
       "array([0, 0, 0, 0, 0, 0, 0, 0, 0, 0, 0, 0, 0, 0, 0, 0, 0, 0, 0, 0, 0, 0,\n",
       "       0, 0, 0, 0, 0, 0, 0, 0, 0, 0, 0, 0, 0, 0, 0, 0, 0, 0, 0, 0, 0, 0,\n",
       "       0, 0, 0, 0, 0, 0, 1, 1, 1, 1, 1, 1, 1, 1, 1, 1, 1, 1, 1, 1, 1, 1,\n",
       "       1, 1, 1, 1, 1, 1, 1, 1, 1, 1, 1, 1, 1, 1, 1, 1, 1, 1, 1, 1, 1, 1,\n",
       "       1, 1, 1, 1, 1, 1, 1, 1, 1, 1, 1, 1, 2, 2, 2, 2, 2, 2, 2, 2, 2, 2,\n",
       "       2, 2, 2, 2, 2, 2, 2, 2, 2, 2, 2, 2, 2, 2, 2, 2, 2, 2, 2, 2, 2, 2,\n",
       "       2, 2, 2, 2, 2, 2, 2, 2, 2, 2, 2, 2, 2, 2, 2, 2, 2, 2])"
      ]
     },
     "execution_count": 16,
     "metadata": {},
     "output_type": "execute_result"
    }
   ],
   "source": [
    "sk_model.predict(x_invalid)"
   ]
  },
  {
   "cell_type": "code",
   "execution_count": 17,
   "id": "6d70a839",
   "metadata": {},
   "outputs": [
    {
     "data": {
      "text/plain": [
       "array([0, 0, 0, 0, 0, 0, 0, 0, 0, 0, 0, 0, 0, 0, 0, 0, 0, 0, 0, 0, 0, 0,\n",
       "       0, 0, 0, 0, 0, 0, 0, 0, 0, 0, 0, 0, 0, 0, 0, 0, 0, 0, 0, 0, 0, 0,\n",
       "       0, 0, 0, 0, 0, 0, 1, 1, 1, 1, 1, 1, 1, 1, 1, 1, 1, 1, 1, 1, 1, 1,\n",
       "       1, 1, 1, 1, 1, 1, 1, 1, 1, 1, 1, 1, 1, 1, 1, 1, 1, 1, 1, 1, 1, 1,\n",
       "       1, 1, 1, 1, 1, 1, 1, 1, 1, 1, 1, 1, 2, 2, 2, 2, 2, 2, 2, 2, 2, 2,\n",
       "       2, 2, 2, 2, 2, 2, 2, 2, 2, 2, 2, 2, 2, 2, 2, 2, 2, 2, 2, 2, 2, 2,\n",
       "       2, 2, 2, 2, 2, 2, 2, 2, 2, 2, 2, 2, 2, 2, 2, 2, 2, 2])"
      ]
     },
     "execution_count": 17,
     "metadata": {},
     "output_type": "execute_result"
    }
   ],
   "source": [
    "pyfunc_model.predict(x_invalid)"
   ]
  },
  {
   "cell_type": "markdown",
   "id": "a82e8611",
   "metadata": {},
   "source": [
    "Schema Validation"
   ]
  },
  {
   "cell_type": "code",
   "execution_count": 18,
   "id": "11bcd884",
   "metadata": {},
   "outputs": [
    {
     "name": "stdout",
     "output_type": "stream",
     "text": [
      "<class 'pandas.core.frame.DataFrame'>\n",
      "RangeIndex: 150 entries, 0 to 149\n",
      "Data columns (total 4 columns):\n",
      " #   Column                     Non-Null Count  Dtype  \n",
      "---  ------                     --------------  -----  \n",
      " 0   sepal width (cm)           150 non-null    float64\n",
      " 1   petal length (cm)          150 non-null    float64\n",
      " 2   petal width (cm)           150 non-null    float64\n",
      " 3   sepal length (cm) invalid  150 non-null    int32  \n",
      "dtypes: float64(3), int32(1)\n",
      "memory usage: 4.2 KB\n"
     ]
    }
   ],
   "source": [
    "x_invalid = x.copy()\n",
    "x_invalid['sepal length (cm) invalid'] = x_invalid['sepal length (cm)'].astype(int)\n",
    "x_invalid.drop(columns = \"sepal length (cm)\", inplace = True)\n",
    "x_invalid.info()\n"
   ]
  },
  {
   "cell_type": "code",
   "execution_count": 20,
   "id": "853aee3e",
   "metadata": {},
   "outputs": [
    {
     "ename": "ValueError",
     "evalue": "The feature names should match those that were passed during fit.\nFeature names unseen at fit time:\n- sepal length (cm) invalid\nFeature names seen at fit time, yet now missing:\n- sepal length (cm)\n",
     "output_type": "error",
     "traceback": [
      "\u001b[1;31m---------------------------------------------------------------------------\u001b[0m",
      "\u001b[1;31mValueError\u001b[0m                                Traceback (most recent call last)",
      "Cell \u001b[1;32mIn[20], line 1\u001b[0m\n\u001b[1;32m----> 1\u001b[0m sk_model\u001b[38;5;241m.\u001b[39mpredict(x_invalid)\n",
      "File \u001b[1;32mc:\\Users\\saqli\\anaconda3\\Lib\\site-packages\\sklearn\\ensemble\\_forest.py:905\u001b[0m, in \u001b[0;36mForestClassifier.predict\u001b[1;34m(self, X)\u001b[0m\n\u001b[0;32m    884\u001b[0m \u001b[38;5;28;01mdef\u001b[39;00m \u001b[38;5;21mpredict\u001b[39m(\u001b[38;5;28mself\u001b[39m, X):\n\u001b[0;32m    885\u001b[0m \u001b[38;5;250m    \u001b[39m\u001b[38;5;124;03m\"\"\"\u001b[39;00m\n\u001b[0;32m    886\u001b[0m \u001b[38;5;124;03m    Predict class for X.\u001b[39;00m\n\u001b[0;32m    887\u001b[0m \n\u001b[1;32m   (...)\u001b[0m\n\u001b[0;32m    903\u001b[0m \u001b[38;5;124;03m        The predicted classes.\u001b[39;00m\n\u001b[0;32m    904\u001b[0m \u001b[38;5;124;03m    \"\"\"\u001b[39;00m\n\u001b[1;32m--> 905\u001b[0m     proba \u001b[38;5;241m=\u001b[39m \u001b[38;5;28mself\u001b[39m\u001b[38;5;241m.\u001b[39mpredict_proba(X)\n\u001b[0;32m    907\u001b[0m     \u001b[38;5;28;01mif\u001b[39;00m \u001b[38;5;28mself\u001b[39m\u001b[38;5;241m.\u001b[39mn_outputs_ \u001b[38;5;241m==\u001b[39m \u001b[38;5;241m1\u001b[39m:\n\u001b[0;32m    908\u001b[0m         \u001b[38;5;28;01mreturn\u001b[39;00m \u001b[38;5;28mself\u001b[39m\u001b[38;5;241m.\u001b[39mclasses_\u001b[38;5;241m.\u001b[39mtake(np\u001b[38;5;241m.\u001b[39margmax(proba, axis\u001b[38;5;241m=\u001b[39m\u001b[38;5;241m1\u001b[39m), axis\u001b[38;5;241m=\u001b[39m\u001b[38;5;241m0\u001b[39m)\n",
      "File \u001b[1;32mc:\\Users\\saqli\\anaconda3\\Lib\\site-packages\\sklearn\\ensemble\\_forest.py:947\u001b[0m, in \u001b[0;36mForestClassifier.predict_proba\u001b[1;34m(self, X)\u001b[0m\n\u001b[0;32m    945\u001b[0m check_is_fitted(\u001b[38;5;28mself\u001b[39m)\n\u001b[0;32m    946\u001b[0m \u001b[38;5;66;03m# Check data\u001b[39;00m\n\u001b[1;32m--> 947\u001b[0m X \u001b[38;5;241m=\u001b[39m \u001b[38;5;28mself\u001b[39m\u001b[38;5;241m.\u001b[39m_validate_X_predict(X)\n\u001b[0;32m    949\u001b[0m \u001b[38;5;66;03m# Assign chunk of trees to jobs\u001b[39;00m\n\u001b[0;32m    950\u001b[0m n_jobs, _, _ \u001b[38;5;241m=\u001b[39m _partition_estimators(\u001b[38;5;28mself\u001b[39m\u001b[38;5;241m.\u001b[39mn_estimators, \u001b[38;5;28mself\u001b[39m\u001b[38;5;241m.\u001b[39mn_jobs)\n",
      "File \u001b[1;32mc:\\Users\\saqli\\anaconda3\\Lib\\site-packages\\sklearn\\ensemble\\_forest.py:641\u001b[0m, in \u001b[0;36mBaseForest._validate_X_predict\u001b[1;34m(self, X)\u001b[0m\n\u001b[0;32m    638\u001b[0m \u001b[38;5;28;01melse\u001b[39;00m:\n\u001b[0;32m    639\u001b[0m     force_all_finite \u001b[38;5;241m=\u001b[39m \u001b[38;5;28;01mTrue\u001b[39;00m\n\u001b[1;32m--> 641\u001b[0m X \u001b[38;5;241m=\u001b[39m \u001b[38;5;28mself\u001b[39m\u001b[38;5;241m.\u001b[39m_validate_data(\n\u001b[0;32m    642\u001b[0m     X,\n\u001b[0;32m    643\u001b[0m     dtype\u001b[38;5;241m=\u001b[39mDTYPE,\n\u001b[0;32m    644\u001b[0m     accept_sparse\u001b[38;5;241m=\u001b[39m\u001b[38;5;124m\"\u001b[39m\u001b[38;5;124mcsr\u001b[39m\u001b[38;5;124m\"\u001b[39m,\n\u001b[0;32m    645\u001b[0m     reset\u001b[38;5;241m=\u001b[39m\u001b[38;5;28;01mFalse\u001b[39;00m,\n\u001b[0;32m    646\u001b[0m     force_all_finite\u001b[38;5;241m=\u001b[39mforce_all_finite,\n\u001b[0;32m    647\u001b[0m )\n\u001b[0;32m    648\u001b[0m \u001b[38;5;28;01mif\u001b[39;00m issparse(X) \u001b[38;5;129;01mand\u001b[39;00m (X\u001b[38;5;241m.\u001b[39mindices\u001b[38;5;241m.\u001b[39mdtype \u001b[38;5;241m!=\u001b[39m np\u001b[38;5;241m.\u001b[39mintc \u001b[38;5;129;01mor\u001b[39;00m X\u001b[38;5;241m.\u001b[39mindptr\u001b[38;5;241m.\u001b[39mdtype \u001b[38;5;241m!=\u001b[39m np\u001b[38;5;241m.\u001b[39mintc):\n\u001b[0;32m    649\u001b[0m     \u001b[38;5;28;01mraise\u001b[39;00m \u001b[38;5;167;01mValueError\u001b[39;00m(\u001b[38;5;124m\"\u001b[39m\u001b[38;5;124mNo support for np.int64 index based sparse matrices\u001b[39m\u001b[38;5;124m\"\u001b[39m)\n",
      "File \u001b[1;32mc:\\Users\\saqli\\anaconda3\\Lib\\site-packages\\sklearn\\base.py:608\u001b[0m, in \u001b[0;36mBaseEstimator._validate_data\u001b[1;34m(self, X, y, reset, validate_separately, cast_to_ndarray, **check_params)\u001b[0m\n\u001b[0;32m    537\u001b[0m \u001b[38;5;28;01mdef\u001b[39;00m \u001b[38;5;21m_validate_data\u001b[39m(\n\u001b[0;32m    538\u001b[0m     \u001b[38;5;28mself\u001b[39m,\n\u001b[0;32m    539\u001b[0m     X\u001b[38;5;241m=\u001b[39m\u001b[38;5;124m\"\u001b[39m\u001b[38;5;124mno_validation\u001b[39m\u001b[38;5;124m\"\u001b[39m,\n\u001b[1;32m   (...)\u001b[0m\n\u001b[0;32m    544\u001b[0m     \u001b[38;5;241m*\u001b[39m\u001b[38;5;241m*\u001b[39mcheck_params,\n\u001b[0;32m    545\u001b[0m ):\n\u001b[0;32m    546\u001b[0m \u001b[38;5;250m    \u001b[39m\u001b[38;5;124;03m\"\"\"Validate input data and set or check the `n_features_in_` attribute.\u001b[39;00m\n\u001b[0;32m    547\u001b[0m \n\u001b[0;32m    548\u001b[0m \u001b[38;5;124;03m    Parameters\u001b[39;00m\n\u001b[1;32m   (...)\u001b[0m\n\u001b[0;32m    606\u001b[0m \u001b[38;5;124;03m        validated.\u001b[39;00m\n\u001b[0;32m    607\u001b[0m \u001b[38;5;124;03m    \"\"\"\u001b[39;00m\n\u001b[1;32m--> 608\u001b[0m     \u001b[38;5;28mself\u001b[39m\u001b[38;5;241m.\u001b[39m_check_feature_names(X, reset\u001b[38;5;241m=\u001b[39mreset)\n\u001b[0;32m    610\u001b[0m     \u001b[38;5;28;01mif\u001b[39;00m y \u001b[38;5;129;01mis\u001b[39;00m \u001b[38;5;28;01mNone\u001b[39;00m \u001b[38;5;129;01mand\u001b[39;00m \u001b[38;5;28mself\u001b[39m\u001b[38;5;241m.\u001b[39m_get_tags()[\u001b[38;5;124m\"\u001b[39m\u001b[38;5;124mrequires_y\u001b[39m\u001b[38;5;124m\"\u001b[39m]:\n\u001b[0;32m    611\u001b[0m         \u001b[38;5;28;01mraise\u001b[39;00m \u001b[38;5;167;01mValueError\u001b[39;00m(\n\u001b[0;32m    612\u001b[0m             \u001b[38;5;124mf\u001b[39m\u001b[38;5;124m\"\u001b[39m\u001b[38;5;124mThis \u001b[39m\u001b[38;5;132;01m{\u001b[39;00m\u001b[38;5;28mself\u001b[39m\u001b[38;5;241m.\u001b[39m\u001b[38;5;18m__class__\u001b[39m\u001b[38;5;241m.\u001b[39m\u001b[38;5;18m__name__\u001b[39m\u001b[38;5;132;01m}\u001b[39;00m\u001b[38;5;124m estimator \u001b[39m\u001b[38;5;124m\"\u001b[39m\n\u001b[0;32m    613\u001b[0m             \u001b[38;5;124m\"\u001b[39m\u001b[38;5;124mrequires y to be passed, but the target y is None.\u001b[39m\u001b[38;5;124m\"\u001b[39m\n\u001b[0;32m    614\u001b[0m         )\n",
      "File \u001b[1;32mc:\\Users\\saqli\\anaconda3\\Lib\\site-packages\\sklearn\\base.py:535\u001b[0m, in \u001b[0;36mBaseEstimator._check_feature_names\u001b[1;34m(self, X, reset)\u001b[0m\n\u001b[0;32m    530\u001b[0m \u001b[38;5;28;01mif\u001b[39;00m \u001b[38;5;129;01mnot\u001b[39;00m missing_names \u001b[38;5;129;01mand\u001b[39;00m \u001b[38;5;129;01mnot\u001b[39;00m unexpected_names:\n\u001b[0;32m    531\u001b[0m     message \u001b[38;5;241m+\u001b[39m\u001b[38;5;241m=\u001b[39m (\n\u001b[0;32m    532\u001b[0m         \u001b[38;5;124m\"\u001b[39m\u001b[38;5;124mFeature names must be in the same order as they were in fit.\u001b[39m\u001b[38;5;130;01m\\n\u001b[39;00m\u001b[38;5;124m\"\u001b[39m\n\u001b[0;32m    533\u001b[0m     )\n\u001b[1;32m--> 535\u001b[0m \u001b[38;5;28;01mraise\u001b[39;00m \u001b[38;5;167;01mValueError\u001b[39;00m(message)\n",
      "\u001b[1;31mValueError\u001b[0m: The feature names should match those that were passed during fit.\nFeature names unseen at fit time:\n- sepal length (cm) invalid\nFeature names seen at fit time, yet now missing:\n- sepal length (cm)\n"
     ]
    }
   ],
   "source": [
    "sk_model.predict(x_invalid)"
   ]
  },
  {
   "cell_type": "code",
   "execution_count": 21,
   "id": "0309db4e",
   "metadata": {},
   "outputs": [
    {
     "ename": "MlflowException",
     "evalue": "Failed to enforce schema of data '     sepal width (cm)  petal length (cm)  petal width (cm)  \\\n0                 3.5                1.4               0.2   \n1                 3.0                1.4               0.2   \n2                 3.2                1.3               0.2   \n3                 3.1                1.5               0.2   \n4                 3.6                1.4               0.2   \n..                ...                ...               ...   \n145               3.0                5.2               2.3   \n146               2.5                5.0               1.9   \n147               3.0                5.2               2.0   \n148               3.4                5.4               2.3   \n149               3.0                5.1               1.8   \n\n     sepal length (cm) invalid  \n0                            5  \n1                            4  \n2                            4  \n3                            4  \n4                            5  \n..                         ...  \n145                          6  \n146                          6  \n147                          6  \n148                          6  \n149                          5  \n\n[150 rows x 4 columns]' with schema '['sepal length (cm)': double (required), 'sepal width (cm)': double (required), 'petal length (cm)': double (required), 'petal width (cm)': double (required)]'. Error: Model is missing inputs ['sepal length (cm)']. Note that there were extra inputs: ['sepal length (cm) invalid']",
     "output_type": "error",
     "traceback": [
      "\u001b[1;31m---------------------------------------------------------------------------\u001b[0m",
      "\u001b[1;31mMlflowException\u001b[0m                           Traceback (most recent call last)",
      "File \u001b[1;32mc:\\Users\\saqli\\anaconda3\\Lib\\site-packages\\mlflow\\pyfunc\\__init__.py:730\u001b[0m, in \u001b[0;36m_validate_prediction_input\u001b[1;34m(data, params, input_schema, params_schema, flavor)\u001b[0m\n\u001b[0;32m    729\u001b[0m \u001b[38;5;28;01mtry\u001b[39;00m:\n\u001b[1;32m--> 730\u001b[0m     data \u001b[38;5;241m=\u001b[39m _enforce_schema(data, input_schema, flavor)\n\u001b[0;32m    731\u001b[0m \u001b[38;5;28;01mexcept\u001b[39;00m \u001b[38;5;167;01mException\u001b[39;00m \u001b[38;5;28;01mas\u001b[39;00m e:\n\u001b[0;32m    732\u001b[0m     \u001b[38;5;66;03m# Include error in message for backwards compatibility\u001b[39;00m\n",
      "File \u001b[1;32mc:\\Users\\saqli\\anaconda3\\Lib\\site-packages\\mlflow\\models\\utils.py:1259\u001b[0m, in \u001b[0;36m_enforce_schema\u001b[1;34m(pf_input, input_schema, flavor)\u001b[0m\n\u001b[0;32m   1258\u001b[0m         message \u001b[38;5;241m+\u001b[39m\u001b[38;5;241m=\u001b[39m \u001b[38;5;124mf\u001b[39m\u001b[38;5;124m\"\u001b[39m\u001b[38;5;124m Note that there were extra inputs: \u001b[39m\u001b[38;5;132;01m{\u001b[39;00mextra_cols\u001b[38;5;132;01m}\u001b[39;00m\u001b[38;5;124m\"\u001b[39m\n\u001b[1;32m-> 1259\u001b[0m     \u001b[38;5;28;01mraise\u001b[39;00m MlflowException(message)\n\u001b[0;32m   1260\u001b[0m \u001b[38;5;28;01mif\u001b[39;00m extra_cols:\n",
      "\u001b[1;31mMlflowException\u001b[0m: Model is missing inputs ['sepal length (cm)']. Note that there were extra inputs: ['sepal length (cm) invalid']",
      "\nDuring handling of the above exception, another exception occurred:\n",
      "\u001b[1;31mMlflowException\u001b[0m                           Traceback (most recent call last)",
      "Cell \u001b[1;32mIn[21], line 1\u001b[0m\n\u001b[1;32m----> 1\u001b[0m pyfunc_model\u001b[38;5;241m.\u001b[39mpredict(x_invalid)\n",
      "File \u001b[1;32mc:\\Users\\saqli\\anaconda3\\Lib\\site-packages\\mlflow\\pyfunc\\__init__.py:812\u001b[0m, in \u001b[0;36mPyFuncModel.predict\u001b[1;34m(self, data, params)\u001b[0m\n\u001b[0;32m    810\u001b[0m \u001b[38;5;28;01mif\u001b[39;00m schema \u001b[38;5;241m:=\u001b[39m _get_dependencies_schema_from_model(\u001b[38;5;28mself\u001b[39m\u001b[38;5;241m.\u001b[39m_model_meta):\n\u001b[0;32m    811\u001b[0m     context\u001b[38;5;241m.\u001b[39mupdate(\u001b[38;5;241m*\u001b[39m\u001b[38;5;241m*\u001b[39mschema)\n\u001b[1;32m--> 812\u001b[0m \u001b[38;5;28;01mreturn\u001b[39;00m \u001b[38;5;28mself\u001b[39m\u001b[38;5;241m.\u001b[39m_predict(data, params)\n",
      "File \u001b[1;32mc:\\Users\\saqli\\anaconda3\\Lib\\site-packages\\mlflow\\pyfunc\\__init__.py:851\u001b[0m, in \u001b[0;36mPyFuncModel._predict\u001b[1;34m(self, data, params)\u001b[0m\n\u001b[0;32m    849\u001b[0m     params \u001b[38;5;241m=\u001b[39m _enforce_params_schema(params, \u001b[38;5;28mself\u001b[39m\u001b[38;5;241m.\u001b[39mparams_schema)\n\u001b[0;32m    850\u001b[0m \u001b[38;5;28;01melse\u001b[39;00m:\n\u001b[1;32m--> 851\u001b[0m     data, params \u001b[38;5;241m=\u001b[39m _validate_prediction_input(\n\u001b[0;32m    852\u001b[0m         data, params, \u001b[38;5;28mself\u001b[39m\u001b[38;5;241m.\u001b[39minput_schema, \u001b[38;5;28mself\u001b[39m\u001b[38;5;241m.\u001b[39mparams_schema, \u001b[38;5;28mself\u001b[39m\u001b[38;5;241m.\u001b[39mloader_module\n\u001b[0;32m    853\u001b[0m     )\n\u001b[0;32m    854\u001b[0m     \u001b[38;5;28;01mif\u001b[39;00m (\n\u001b[0;32m    855\u001b[0m         \u001b[38;5;28misinstance\u001b[39m(data, pandas\u001b[38;5;241m.\u001b[39mDataFrame)\n\u001b[0;32m    856\u001b[0m         \u001b[38;5;129;01mand\u001b[39;00m \u001b[38;5;28mself\u001b[39m\u001b[38;5;241m.\u001b[39mmetadata\u001b[38;5;241m.\u001b[39m_is_type_hint_from_example()\n\u001b[0;32m    857\u001b[0m         \u001b[38;5;129;01mand\u001b[39;00m \u001b[38;5;28mself\u001b[39m\u001b[38;5;241m.\u001b[39minput_example \u001b[38;5;129;01mis\u001b[39;00m \u001b[38;5;129;01mnot\u001b[39;00m \u001b[38;5;28;01mNone\u001b[39;00m\n\u001b[0;32m    858\u001b[0m     ):\n\u001b[0;32m    859\u001b[0m         data \u001b[38;5;241m=\u001b[39m _convert_dataframe_to_example_format(data, \u001b[38;5;28mself\u001b[39m\u001b[38;5;241m.\u001b[39minput_example)\n",
      "File \u001b[1;32mc:\\Users\\saqli\\anaconda3\\Lib\\site-packages\\mlflow\\pyfunc\\__init__.py:733\u001b[0m, in \u001b[0;36m_validate_prediction_input\u001b[1;34m(data, params, input_schema, params_schema, flavor)\u001b[0m\n\u001b[0;32m    730\u001b[0m         data \u001b[38;5;241m=\u001b[39m _enforce_schema(data, input_schema, flavor)\n\u001b[0;32m    731\u001b[0m     \u001b[38;5;28;01mexcept\u001b[39;00m \u001b[38;5;167;01mException\u001b[39;00m \u001b[38;5;28;01mas\u001b[39;00m e:\n\u001b[0;32m    732\u001b[0m         \u001b[38;5;66;03m# Include error in message for backwards compatibility\u001b[39;00m\n\u001b[1;32m--> 733\u001b[0m         \u001b[38;5;28;01mraise\u001b[39;00m MlflowException\u001b[38;5;241m.\u001b[39minvalid_parameter_value(\n\u001b[0;32m    734\u001b[0m             \u001b[38;5;124mf\u001b[39m\u001b[38;5;124m\"\u001b[39m\u001b[38;5;124mFailed to enforce schema of data \u001b[39m\u001b[38;5;124m'\u001b[39m\u001b[38;5;132;01m{\u001b[39;00mdata\u001b[38;5;132;01m}\u001b[39;00m\u001b[38;5;124m'\u001b[39m\u001b[38;5;124m \u001b[39m\u001b[38;5;124m\"\u001b[39m\n\u001b[0;32m    735\u001b[0m             \u001b[38;5;124mf\u001b[39m\u001b[38;5;124m\"\u001b[39m\u001b[38;5;124mwith schema \u001b[39m\u001b[38;5;124m'\u001b[39m\u001b[38;5;132;01m{\u001b[39;00minput_schema\u001b[38;5;132;01m}\u001b[39;00m\u001b[38;5;124m'\u001b[39m\u001b[38;5;124m. \u001b[39m\u001b[38;5;124m\"\u001b[39m\n\u001b[0;32m    736\u001b[0m             \u001b[38;5;124mf\u001b[39m\u001b[38;5;124m\"\u001b[39m\u001b[38;5;124mError: \u001b[39m\u001b[38;5;132;01m{\u001b[39;00me\u001b[38;5;132;01m}\u001b[39;00m\u001b[38;5;124m\"\u001b[39m,\n\u001b[0;32m    737\u001b[0m         )\n\u001b[0;32m    738\u001b[0m params \u001b[38;5;241m=\u001b[39m _enforce_params_schema(params, params_schema)\n\u001b[0;32m    739\u001b[0m \u001b[38;5;28;01mif\u001b[39;00m HAS_PYSPARK \u001b[38;5;129;01mand\u001b[39;00m \u001b[38;5;28misinstance\u001b[39m(data, SparkDataFrame):\n",
      "\u001b[1;31mMlflowException\u001b[0m: Failed to enforce schema of data '     sepal width (cm)  petal length (cm)  petal width (cm)  \\\n0                 3.5                1.4               0.2   \n1                 3.0                1.4               0.2   \n2                 3.2                1.3               0.2   \n3                 3.1                1.5               0.2   \n4                 3.6                1.4               0.2   \n..                ...                ...               ...   \n145               3.0                5.2               2.3   \n146               2.5                5.0               1.9   \n147               3.0                5.2               2.0   \n148               3.4                5.4               2.3   \n149               3.0                5.1               1.8   \n\n     sepal length (cm) invalid  \n0                            5  \n1                            4  \n2                            4  \n3                            4  \n4                            5  \n..                         ...  \n145                          6  \n146                          6  \n147                          6  \n148                          6  \n149                          5  \n\n[150 rows x 4 columns]' with schema '['sepal length (cm)': double (required), 'sepal width (cm)': double (required), 'petal length (cm)': double (required), 'petal width (cm)': double (required)]'. Error: Model is missing inputs ['sepal length (cm)']. Note that there were extra inputs: ['sepal length (cm) invalid']"
     ]
    }
   ],
   "source": [
    "pyfunc_model.predict(x_invalid)"
   ]
  },
  {
   "cell_type": "markdown",
   "id": "5bd3f2d0",
   "metadata": {},
   "source": [
    "Working with Optional Columns"
   ]
  },
  {
   "cell_type": "code",
   "execution_count": null,
   "id": "cdaaa10e",
   "metadata": {},
   "outputs": [],
   "source": []
  }
 ],
 "metadata": {
  "kernelspec": {
   "display_name": "base",
   "language": "python",
   "name": "python3"
  },
  "language_info": {
   "codemirror_mode": {
    "name": "ipython",
    "version": 3
   },
   "file_extension": ".py",
   "mimetype": "text/x-python",
   "name": "python",
   "nbconvert_exporter": "python",
   "pygments_lexer": "ipython3",
   "version": "3.12.3"
  }
 },
 "nbformat": 4,
 "nbformat_minor": 5
}
