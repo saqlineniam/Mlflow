{
 "cells": [
  {
   "cell_type": "markdown",
   "id": "330c5aa0",
   "metadata": {},
   "source": [
    "creating custom Pyfunc models"
   ]
  },
  {
   "cell_type": "code",
   "execution_count": 5,
   "id": "cfb5e3b7",
   "metadata": {},
   "outputs": [],
   "source": [
    "import mlflow\n",
    "import pathlib as Path"
   ]
  },
  {
   "cell_type": "code",
   "execution_count": 10,
   "id": "acb21303",
   "metadata": {},
   "outputs": [],
   "source": [
    "project_root = Path.cwd()  # or however you define root\n",
    "mlruns_path = project_root / \"mlruns\"\n",
    "\n",
    "mlflow.set_tracking_uri(mlruns_path.as_uri())\n"
   ]
  },
  {
   "cell_type": "code",
   "execution_count": 11,
   "id": "a3abe2b2",
   "metadata": {},
   "outputs": [],
   "source": [
    "import pandas as pd"
   ]
  },
  {
   "cell_type": "code",
   "execution_count": 12,
   "id": "0694e85a",
   "metadata": {},
   "outputs": [
    {
     "name": "stderr",
     "output_type": "stream",
     "text": [
      "2025/09/12 13:29:30 INFO mlflow.tracking.fluent: Experiment with name 'custom models with pyfunc' does not exist. Creating a new experiment.\n"
     ]
    },
    {
     "data": {
      "text/plain": [
       "<Experiment: artifact_location='file:///d:/Mlflow/mlruns/258863656514453625', creation_time=1757662168680, experiment_id='258863656514453625', last_update_time=1757662168680, lifecycle_stage='active', name='custom models with pyfunc', tags={}>"
      ]
     },
     "execution_count": 12,
     "metadata": {},
     "output_type": "execute_result"
    }
   ],
   "source": [
    "mlflow.set_experiment(experiment_name = \"custom models with pyfunc\")"
   ]
  },
  {
   "cell_type": "code",
   "execution_count": 13,
   "id": "7469cf2b",
   "metadata": {},
   "outputs": [
    {
     "name": "stderr",
     "output_type": "stream",
     "text": [
      "c:\\Users\\saqli\\anaconda3\\Lib\\site-packages\\mlflow\\pyfunc\\__init__.py:3146: UserWarning: \u001b[33mAdd type hints to the `predict` method to enable data validation and automatic signature inference. Check https://mlflow.org/docs/latest/model/python_model.html#type-hint-usage-in-pythonmodel for more details.\u001b[0m\n",
      "  color_warning(\n",
      "c:\\Users\\saqli\\anaconda3\\Lib\\site-packages\\mlflow\\pyfunc\\utils\\data_validation.py:186: UserWarning: \u001b[33mAdd type hints to the `predict` method to enable data validation and automatic signature inference during model logging. Check https://mlflow.org/docs/latest/model/python_model.html#type-hint-usage-in-pythonmodel for more details.\u001b[0m\n",
      "  color_warning(\n",
      "2025/09/12 13:39:13 WARNING mlflow.models.model: Model logged without a signature and input example. Please set `input_example` parameter when logging the model to auto infer the model signature.\n"
     ]
    }
   ],
   "source": [
    "def predict(model_input):\n",
    "    return model_input.apply(lambda x:x *2)\n",
    "\n",
    "with mlflow.start_run(run_name = \"function_model\"):\n",
    "    mlflow.pyfunc.log_model(\"model\", python_model = predict, pip_requirements = ['pandas'])\n",
    "    run_id = mlflow.active_run().info.run_id"
   ]
  },
  {
   "cell_type": "code",
   "execution_count": 15,
   "id": "fd168bbb",
   "metadata": {},
   "outputs": [
    {
     "name": "stdout",
     "output_type": "stream",
     "text": [
      "0     2\n",
      "1     4\n",
      "2     6\n",
      "3     8\n",
      "4    10\n",
      "dtype: int64\n"
     ]
    }
   ],
   "source": [
    "model = mlflow.pyfunc.load_model(f\"runs:/{run_id}/model\")\n",
    "x_new = pd.Series([1,2,3,4,5])\n",
    "\n",
    "prediction = model.predict(x_new)\n",
    "print(prediction)"
   ]
  },
  {
   "cell_type": "markdown",
   "id": "a8e9c10e",
   "metadata": {},
   "source": [
    "Class-based Model"
   ]
  },
  {
   "cell_type": "code",
   "execution_count": 20,
   "id": "c9af01b2",
   "metadata": {},
   "outputs": [
    {
     "name": "stderr",
     "output_type": "stream",
     "text": [
      "c:\\Users\\saqli\\anaconda3\\Lib\\site-packages\\mlflow\\pyfunc\\utils\\data_validation.py:186: UserWarning: \u001b[33mAdd type hints to the `predict` method to enable data validation and automatic signature inference during model logging. Check https://mlflow.org/docs/latest/model/python_model.html#type-hint-usage-in-pythonmodel for more details.\u001b[0m\n",
      "  color_warning(\n",
      "2025/09/12 13:57:14 WARNING mlflow.models.model: Model logged without a signature and input example. Please set `input_example` parameter when logging the model to auto infer the model signature.\n"
     ]
    },
    {
     "name": "stdout",
     "output_type": "stream",
     "text": [
      "prediction: [2, 4, 6]\n"
     ]
    }
   ],
   "source": [
    "class MyModel(mlflow.pyfunc.PythonModel):\n",
    "    def predict(self, context, model_input, params = None):\n",
    "        return [x*2 for x in model_input]\n",
    "\n",
    "\n",
    "with mlflow.start_run():\n",
    "    mlflow.pyfunc.log_model(\"model\", python_model = MyModel(), pip_requirements = [\"pandas\"])\n",
    "    run_id = mlflow.active_run().info.run_id\n",
    "\n",
    "model = mlflow.pyfunc.load_model(f\"runs:/{run_id}/model\")\n",
    "x_new = pd.Series([1,2,3])\n",
    "\n",
    "print(f\"prediction: {model.predict(x_new)}\")"
   ]
  },
  {
   "cell_type": "code",
   "execution_count": 23,
   "id": "674f0296",
   "metadata": {},
   "outputs": [
    {
     "name": "stderr",
     "output_type": "stream",
     "text": [
      "c:\\Users\\saqli\\anaconda3\\Lib\\site-packages\\mlflow\\pyfunc\\utils\\data_validation.py:186: UserWarning: \u001b[33mAdd type hints to the `predict` method to enable data validation and automatic signature inference during model logging. Check https://mlflow.org/docs/latest/model/python_model.html#type-hint-usage-in-pythonmodel for more details.\u001b[0m\n",
      "  color_warning(\n"
     ]
    }
   ],
   "source": [
    "class CustomModel(mlflow.pyfunc.PythonModel):\n",
    "    def predict(self, context, model_input):\n",
    "        self._preprocessed(model_input)\n",
    "        return model_input.apply(lambda x: x*2)\n",
    "\n",
    "    def _preprocessed(self, model_input):\n",
    "        print(\"processing input..................\")\n",
    "        print(\"Input Length: \", len(model_input))"
   ]
  },
  {
   "cell_type": "code",
   "execution_count": 24,
   "id": "8138cba3",
   "metadata": {},
   "outputs": [
    {
     "name": "stderr",
     "output_type": "stream",
     "text": [
      "2025/09/12 14:10:18 WARNING mlflow.models.model: Model logged without a signature and input example. Please set `input_example` parameter when logging the model to auto infer the model signature.\n"
     ]
    },
    {
     "name": "stdout",
     "output_type": "stream",
     "text": [
      "992930d0737140428ed1b91a622e5204\n"
     ]
    }
   ],
   "source": [
    "with mlflow.start_run(run_name = \"class_model\") as run:\n",
    "    print(run.info.run_id)\n",
    "    mlflow.pyfunc.log_model(\"model\", python_model = CustomModel(), pip_requirements = [\"pandas\"])"
   ]
  },
  {
   "cell_type": "code",
   "execution_count": 26,
   "id": "c26fac4d",
   "metadata": {},
   "outputs": [
    {
     "name": "stdout",
     "output_type": "stream",
     "text": [
      "processing input..................\n",
      "Input Length:  3\n"
     ]
    },
    {
     "data": {
      "text/plain": [
       "0    2\n",
       "1    4\n",
       "2    6\n",
       "dtype: int64"
      ]
     },
     "execution_count": 26,
     "metadata": {},
     "output_type": "execute_result"
    }
   ],
   "source": [
    "loaded_model = mlflow.pyfunc.load_model(f\"runs:/{run.info.run_id}/model\")\n",
    "\n",
    "loaded_model.predict(x_new)"
   ]
  },
  {
   "cell_type": "markdown",
   "id": "30674e1c",
   "metadata": {},
   "source": [
    "Obtaining the original Class"
   ]
  },
  {
   "cell_type": "code",
   "execution_count": 28,
   "id": "4b867b01",
   "metadata": {},
   "outputs": [
    {
     "name": "stderr",
     "output_type": "stream",
     "text": [
      "c:\\Users\\saqli\\anaconda3\\Lib\\site-packages\\mlflow\\pyfunc\\utils\\data_validation.py:186: UserWarning: \u001b[33mAdd type hints to the `predict` method to enable data validation and automatic signature inference during model logging. Check https://mlflow.org/docs/latest/model/python_model.html#type-hint-usage-in-pythonmodel for more details.\u001b[0m\n",
      "  color_warning(\n"
     ]
    }
   ],
   "source": [
    "class CustomModel(mlflow.pyfunc.PythonModel):\n",
    "    def __init__(self):\n",
    "        pass\n",
    "\n",
    "    def predict(self, context, model_input):\n",
    "        self.__preprocess(model_input)\n",
    "        return model_input.apply(lambda x:x*2)\n",
    "    \n",
    "    def __preprocess(self, model_input):\n",
    "        print(\"processing......\")\n",
    "        print(\"input length\", len(model_input))\n",
    "\n",
    "    def additional_method(self):\n",
    "        print(\"additional method\")"
   ]
  },
  {
   "cell_type": "code",
   "execution_count": 30,
   "id": "ed064f37",
   "metadata": {},
   "outputs": [
    {
     "name": "stderr",
     "output_type": "stream",
     "text": [
      "2025/09/12 14:18:58 WARNING mlflow.models.model: Model logged without a signature and input example. Please set `input_example` parameter when logging the model to auto infer the model signature.\n"
     ]
    },
    {
     "name": "stdout",
     "output_type": "stream",
     "text": [
      "f4698fb066f04e19be5ea5869299360c\n"
     ]
    }
   ],
   "source": [
    "with mlflow.start_run(run_name = \"class_model_with_additional_methods\") as run:\n",
    "    print(run.info.run_id)\n",
    "    mlflow.pyfunc.log_model(\"model\", python_model = CustomModel(), pip_requirements = [\"Pandas\"])"
   ]
  },
  {
   "cell_type": "code",
   "execution_count": 32,
   "id": "8687413f",
   "metadata": {},
   "outputs": [
    {
     "name": "stdout",
     "output_type": "stream",
     "text": [
      "processing......\n",
      "input length 3\n",
      "0    2\n",
      "1    4\n",
      "2    6\n",
      "dtype: int64\n"
     ]
    }
   ],
   "source": [
    "loaded_model = mlflow.pyfunc.load_model(f\"runs:/{run.info.run_id}/model\")\n",
    "prediction = loaded_model.predict(x_new)\n",
    "print(prediction)"
   ]
  },
  {
   "cell_type": "code",
   "execution_count": 33,
   "id": "3ef3b9f2",
   "metadata": {},
   "outputs": [
    {
     "data": {
      "text/plain": [
       "mlflow.pyfunc.PyFuncModel"
      ]
     },
     "execution_count": 33,
     "metadata": {},
     "output_type": "execute_result"
    }
   ],
   "source": [
    "type(loaded_model)"
   ]
  },
  {
   "cell_type": "code",
   "execution_count": 34,
   "id": "3859cca9",
   "metadata": {},
   "outputs": [],
   "source": [
    "original_class = loaded_model.unwrap_python_model()"
   ]
  },
  {
   "cell_type": "code",
   "execution_count": 35,
   "id": "77270eba",
   "metadata": {},
   "outputs": [
    {
     "name": "stdout",
     "output_type": "stream",
     "text": [
      "additional method\n"
     ]
    }
   ],
   "source": [
    "original_class.additional_method()"
   ]
  },
  {
   "cell_type": "code",
   "execution_count": 37,
   "id": "39c3b0c0",
   "metadata": {},
   "outputs": [
    {
     "data": {
      "text/plain": [
       "__main__.CustomModel"
      ]
     },
     "execution_count": 37,
     "metadata": {},
     "output_type": "execute_result"
    }
   ],
   "source": [
    "type(original_class)"
   ]
  },
  {
   "cell_type": "code",
   "execution_count": null,
   "id": "69312fcb",
   "metadata": {},
   "outputs": [],
   "source": []
  }
 ],
 "metadata": {
  "kernelspec": {
   "display_name": "base",
   "language": "python",
   "name": "python3"
  },
  "language_info": {
   "codemirror_mode": {
    "name": "ipython",
    "version": 3
   },
   "file_extension": ".py",
   "mimetype": "text/x-python",
   "name": "python",
   "nbconvert_exporter": "python",
   "pygments_lexer": "ipython3",
   "version": "3.12.3"
  }
 },
 "nbformat": 4,
 "nbformat_minor": 5
}
