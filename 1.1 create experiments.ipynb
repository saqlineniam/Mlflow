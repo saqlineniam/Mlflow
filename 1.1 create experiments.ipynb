{
 "cells": [
  {
   "cell_type": "markdown",
   "id": "2ecabe5d",
   "metadata": {},
   "source": [
    "mlflow.create_experiments"
   ]
  },
  {
   "cell_type": "code",
   "execution_count": 3,
   "id": "76d1d61a",
   "metadata": {},
   "outputs": [],
   "source": [
    "import mlflow\n",
    "from pathlib import Path\n",
    "\n",
    "project_root = Path.cwd()  # or however you define root\n",
    "mlruns_path = project_root / \"mlruns\"\n",
    "\n",
    "mlflow.set_tracking_uri(mlruns_path.as_uri())\n"
   ]
  },
  {
   "cell_type": "code",
   "execution_count": 29,
   "id": "5fc28d89",
   "metadata": {},
   "outputs": [
    {
     "ename": "MlflowException",
     "evalue": "Experiment 'seed germination rate' already exists.",
     "output_type": "error",
     "traceback": [
      "\u001b[1;31m---------------------------------------------------------------------------\u001b[0m",
      "\u001b[1;31mMlflowException\u001b[0m                           Traceback (most recent call last)",
      "Cell \u001b[1;32mIn[29], line 1\u001b[0m\n\u001b[1;32m----> 1\u001b[0m mlflow\u001b[38;5;241m.\u001b[39mcreate_experiment(name\u001b[38;5;241m=\u001b[39m\u001b[38;5;124m\"\u001b[39m\u001b[38;5;124mseed germination rate\u001b[39m\u001b[38;5;124m\"\u001b[39m, tags\u001b[38;5;241m=\u001b[39m {\n\u001b[0;32m      2\u001b[0m     \u001b[38;5;124m\"\u001b[39m\u001b[38;5;124mtopic\u001b[39m\u001b[38;5;124m\"\u001b[39m: \u001b[38;5;124m\"\u001b[39m\u001b[38;5;124mcold plasma treatment effect on seed germination\u001b[39m\u001b[38;5;124m\"\u001b[39m,\n\u001b[0;32m      3\u001b[0m     \u001b[38;5;124m\"\u001b[39m\u001b[38;5;124mversion\u001b[39m\u001b[38;5;124m\"\u001b[39m: \u001b[38;5;124m\"\u001b[39m\u001b[38;5;124m1.0\u001b[39m\u001b[38;5;124m\"\u001b[39m\n\u001b[0;32m      4\u001b[0m })\n",
      "File \u001b[1;32mc:\\Users\\saqli\\anaconda3\\Lib\\site-packages\\mlflow\\tracking\\fluent.py:1843\u001b[0m, in \u001b[0;36mcreate_experiment\u001b[1;34m(name, artifact_location, tags)\u001b[0m\n\u001b[0;32m   1795\u001b[0m \u001b[38;5;28;01mdef\u001b[39;00m \u001b[38;5;21mcreate_experiment\u001b[39m(\n\u001b[0;32m   1796\u001b[0m     name: \u001b[38;5;28mstr\u001b[39m,\n\u001b[0;32m   1797\u001b[0m     artifact_location: Optional[\u001b[38;5;28mstr\u001b[39m] \u001b[38;5;241m=\u001b[39m \u001b[38;5;28;01mNone\u001b[39;00m,\n\u001b[0;32m   1798\u001b[0m     tags: Optional[\u001b[38;5;28mdict\u001b[39m[\u001b[38;5;28mstr\u001b[39m, Any]] \u001b[38;5;241m=\u001b[39m \u001b[38;5;28;01mNone\u001b[39;00m,\n\u001b[0;32m   1799\u001b[0m ) \u001b[38;5;241m-\u001b[39m\u001b[38;5;241m>\u001b[39m \u001b[38;5;28mstr\u001b[39m:\n\u001b[0;32m   1800\u001b[0m \u001b[38;5;250m    \u001b[39m\u001b[38;5;124;03m\"\"\"\u001b[39;00m\n\u001b[0;32m   1801\u001b[0m \u001b[38;5;124;03m    Create an experiment.\u001b[39;00m\n\u001b[0;32m   1802\u001b[0m \n\u001b[1;32m   (...)\u001b[0m\n\u001b[0;32m   1841\u001b[0m \u001b[38;5;124;03m        Creation timestamp: 1662004217511\u001b[39;00m\n\u001b[0;32m   1842\u001b[0m \u001b[38;5;124;03m    \"\"\"\u001b[39;00m\n\u001b[1;32m-> 1843\u001b[0m     \u001b[38;5;28;01mreturn\u001b[39;00m MlflowClient()\u001b[38;5;241m.\u001b[39mcreate_experiment(name, artifact_location, tags)\n",
      "File \u001b[1;32mc:\\Users\\saqli\\anaconda3\\Lib\\site-packages\\mlflow\\tracking\\client.py:1757\u001b[0m, in \u001b[0;36mMlflowClient.create_experiment\u001b[1;34m(self, name, artifact_location, tags)\u001b[0m\n\u001b[0;32m   1705\u001b[0m \u001b[38;5;28;01mdef\u001b[39;00m \u001b[38;5;21mcreate_experiment\u001b[39m(\n\u001b[0;32m   1706\u001b[0m     \u001b[38;5;28mself\u001b[39m,\n\u001b[0;32m   1707\u001b[0m     name: \u001b[38;5;28mstr\u001b[39m,\n\u001b[0;32m   1708\u001b[0m     artifact_location: Optional[\u001b[38;5;28mstr\u001b[39m] \u001b[38;5;241m=\u001b[39m \u001b[38;5;28;01mNone\u001b[39;00m,\n\u001b[0;32m   1709\u001b[0m     tags: Optional[\u001b[38;5;28mdict\u001b[39m[\u001b[38;5;28mstr\u001b[39m, Any]] \u001b[38;5;241m=\u001b[39m \u001b[38;5;28;01mNone\u001b[39;00m,\n\u001b[0;32m   1710\u001b[0m ) \u001b[38;5;241m-\u001b[39m\u001b[38;5;241m>\u001b[39m \u001b[38;5;28mstr\u001b[39m:\n\u001b[0;32m   1711\u001b[0m \u001b[38;5;250m    \u001b[39m\u001b[38;5;124;03m\"\"\"Create an experiment.\u001b[39;00m\n\u001b[0;32m   1712\u001b[0m \n\u001b[0;32m   1713\u001b[0m \u001b[38;5;124;03m    Args:\u001b[39;00m\n\u001b[1;32m   (...)\u001b[0m\n\u001b[0;32m   1755\u001b[0m \n\u001b[0;32m   1756\u001b[0m \u001b[38;5;124;03m    \"\"\"\u001b[39;00m\n\u001b[1;32m-> 1757\u001b[0m     \u001b[38;5;28;01mreturn\u001b[39;00m \u001b[38;5;28mself\u001b[39m\u001b[38;5;241m.\u001b[39m_tracking_client\u001b[38;5;241m.\u001b[39mcreate_experiment(name, artifact_location, tags)\n",
      "File \u001b[1;32mc:\\Users\\saqli\\anaconda3\\Lib\\site-packages\\mlflow\\tracking\\_tracking_service\\client.py:612\u001b[0m, in \u001b[0;36mTrackingServiceClient.create_experiment\u001b[1;34m(self, name, artifact_location, tags)\u001b[0m\n\u001b[0;32m    598\u001b[0m \u001b[38;5;250m\u001b[39m\u001b[38;5;124;03m\"\"\"Create an experiment.\u001b[39;00m\n\u001b[0;32m    599\u001b[0m \n\u001b[0;32m    600\u001b[0m \u001b[38;5;124;03mArgs:\u001b[39;00m\n\u001b[1;32m   (...)\u001b[0m\n\u001b[0;32m    609\u001b[0m \n\u001b[0;32m    610\u001b[0m \u001b[38;5;124;03m\"\"\"\u001b[39;00m\n\u001b[0;32m    611\u001b[0m _validate_experiment_artifact_location(artifact_location)\n\u001b[1;32m--> 612\u001b[0m \u001b[38;5;28;01mreturn\u001b[39;00m \u001b[38;5;28mself\u001b[39m\u001b[38;5;241m.\u001b[39mstore\u001b[38;5;241m.\u001b[39mcreate_experiment(\n\u001b[0;32m    613\u001b[0m     name\u001b[38;5;241m=\u001b[39mname,\n\u001b[0;32m    614\u001b[0m     artifact_location\u001b[38;5;241m=\u001b[39martifact_location,\n\u001b[0;32m    615\u001b[0m     tags\u001b[38;5;241m=\u001b[39m[ExperimentTag(key, value) \u001b[38;5;28;01mfor\u001b[39;00m (key, value) \u001b[38;5;129;01min\u001b[39;00m tags\u001b[38;5;241m.\u001b[39mitems()] \u001b[38;5;28;01mif\u001b[39;00m tags \u001b[38;5;28;01melse\u001b[39;00m [],\n\u001b[0;32m    616\u001b[0m )\n",
      "File \u001b[1;32mc:\\Users\\saqli\\anaconda3\\Lib\\site-packages\\mlflow\\store\\tracking\\file_store.py:411\u001b[0m, in \u001b[0;36mFileStore.create_experiment\u001b[1;34m(self, name, artifact_location, tags)\u001b[0m\n\u001b[0;32m    408\u001b[0m \u001b[38;5;28;01mif\u001b[39;00m artifact_location:\n\u001b[0;32m    409\u001b[0m     _validate_experiment_artifact_location_length(artifact_location)\n\u001b[1;32m--> 411\u001b[0m \u001b[38;5;28mself\u001b[39m\u001b[38;5;241m.\u001b[39m_validate_experiment_does_not_exist(name)\n\u001b[0;32m    412\u001b[0m experiment_id \u001b[38;5;241m=\u001b[39m _generate_unique_integer_id()\n\u001b[0;32m    413\u001b[0m \u001b[38;5;28;01mreturn\u001b[39;00m \u001b[38;5;28mself\u001b[39m\u001b[38;5;241m.\u001b[39m_create_experiment_with_id(name, \u001b[38;5;28mstr\u001b[39m(experiment_id), artifact_location, tags)\n",
      "File \u001b[1;32mc:\\Users\\saqli\\anaconda3\\Lib\\site-packages\\mlflow\\store\\tracking\\file_store.py:399\u001b[0m, in \u001b[0;36mFileStore._validate_experiment_does_not_exist\u001b[1;34m(self, name)\u001b[0m\n\u001b[0;32m    391\u001b[0m     \u001b[38;5;28;01mraise\u001b[39;00m MlflowException(\n\u001b[0;32m    392\u001b[0m         \u001b[38;5;124mf\u001b[39m\u001b[38;5;124m\"\u001b[39m\u001b[38;5;124mExperiment \u001b[39m\u001b[38;5;132;01m{\u001b[39;00mexperiment\u001b[38;5;241m.\u001b[39mname\u001b[38;5;132;01m!r}\u001b[39;00m\u001b[38;5;124m already exists in deleted state. \u001b[39m\u001b[38;5;124m\"\u001b[39m\n\u001b[0;32m    393\u001b[0m         \u001b[38;5;124m\"\u001b[39m\u001b[38;5;124mYou can restore the experiment, or permanently delete the experiment \u001b[39m\u001b[38;5;124m\"\u001b[39m\n\u001b[1;32m   (...)\u001b[0m\n\u001b[0;32m    396\u001b[0m         databricks_pb2\u001b[38;5;241m.\u001b[39mRESOURCE_ALREADY_EXISTS,\n\u001b[0;32m    397\u001b[0m     )\n\u001b[0;32m    398\u001b[0m \u001b[38;5;28;01melse\u001b[39;00m:\n\u001b[1;32m--> 399\u001b[0m     \u001b[38;5;28;01mraise\u001b[39;00m MlflowException(\n\u001b[0;32m    400\u001b[0m         \u001b[38;5;124mf\u001b[39m\u001b[38;5;124m\"\u001b[39m\u001b[38;5;124mExperiment \u001b[39m\u001b[38;5;124m'\u001b[39m\u001b[38;5;132;01m{\u001b[39;00mexperiment\u001b[38;5;241m.\u001b[39mname\u001b[38;5;132;01m}\u001b[39;00m\u001b[38;5;124m'\u001b[39m\u001b[38;5;124m already exists.\u001b[39m\u001b[38;5;124m\"\u001b[39m,\n\u001b[0;32m    401\u001b[0m         databricks_pb2\u001b[38;5;241m.\u001b[39mRESOURCE_ALREADY_EXISTS,\n\u001b[0;32m    402\u001b[0m     )\n",
      "\u001b[1;31mMlflowException\u001b[0m: Experiment 'seed germination rate' already exists."
     ]
    }
   ],
   "source": [
    "mlflow.create_experiment(name=\"seed germination rate\", tags= {\n",
    "    \"topic\": \"cold plasma treatment effect on seed germination\",\n",
    "    \"version\": \"1.0\"\n",
    "})"
   ]
  },
  {
   "cell_type": "code",
   "execution_count": 7,
   "id": "9468c3ba",
   "metadata": {},
   "outputs": [],
   "source": [
    "experiment = mlflow.set_experiment(experiment_name = \"seed germination rate\")"
   ]
  },
  {
   "cell_type": "code",
   "execution_count": 12,
   "id": "5b4c1ff3",
   "metadata": {},
   "outputs": [
    {
     "name": "stdout",
     "output_type": "stream",
     "text": [
      "run_id: 4cbc003a5fdf4bb6ac00d1a867ec4b2f\n"
     ]
    }
   ],
   "source": [
    "with mlflow.start_run() as run:\n",
    "    print (f'run_id: {run.info.run_id}')\n",
    "    "
   ]
  },
  {
   "cell_type": "code",
   "execution_count": 14,
   "id": "0ce1af23",
   "metadata": {},
   "outputs": [],
   "source": [
    "experiment = mlflow.get_experiment_by_name(name = \"seed germination rate\")"
   ]
  },
  {
   "cell_type": "code",
   "execution_count": 16,
   "id": "603d7712",
   "metadata": {},
   "outputs": [
    {
     "data": {
      "text/plain": [
       "experiment_id: \"325944852318647122\"\n",
       "name: \"seed germination rate\"\n",
       "artifact_location: \"file:///d:/Mlflow/mlruns/325944852318647122\"\n",
       "lifecycle_stage: \"active\"\n",
       "last_update_time: 1757588755056\n",
       "creation_time: 1757588755056"
      ]
     },
     "execution_count": 16,
     "metadata": {},
     "output_type": "execute_result"
    }
   ],
   "source": [
    "experiment.to_proto()"
   ]
  },
  {
   "cell_type": "code",
   "execution_count": 15,
   "id": "abb4aab3",
   "metadata": {},
   "outputs": [
    {
     "name": "stdout",
     "output_type": "stream",
     "text": [
      "seed germination rate\n",
      "325944852318647122\n"
     ]
    }
   ],
   "source": [
    "print(experiment.name)\n",
    "print(experiment.experiment_id)"
   ]
  },
  {
   "cell_type": "code",
   "execution_count": 21,
   "id": "63140860",
   "metadata": {},
   "outputs": [
    {
     "data": {
      "text/plain": [
       "<Experiment: artifact_location='file:///d:/Mlflow/mlruns/325944852318647122', creation_time=1757588755056, experiment_id='325944852318647122', last_update_time=1757588755056, lifecycle_stage='active', name='seed germination rate', tags={'new_tags': 'v1'}>"
      ]
     },
     "execution_count": 21,
     "metadata": {},
     "output_type": "execute_result"
    }
   ],
   "source": [
    "mlflow.set_experiment(experiment_name='seed germination rate')"
   ]
  },
  {
   "cell_type": "code",
   "execution_count": 27,
   "id": "88a705cb",
   "metadata": {},
   "outputs": [
    {
     "ename": "TypeError",
     "evalue": "set_experiment_tag() got an unexpected keyword argument 'tags'",
     "output_type": "error",
     "traceback": [
      "\u001b[1;31m---------------------------------------------------------------------------\u001b[0m",
      "\u001b[1;31mTypeError\u001b[0m                                 Traceback (most recent call last)",
      "Cell \u001b[1;32mIn[27], line 1\u001b[0m\n\u001b[1;32m----> 1\u001b[0m mlflow\u001b[38;5;241m.\u001b[39mset_experiment_tag(tags \u001b[38;5;241m=\u001b[39m {\u001b[38;5;124m\"\u001b[39m\u001b[38;5;124mnew-tag\u001b[39m\u001b[38;5;124m\"\u001b[39m: \u001b[38;5;124m\"\u001b[39m\u001b[38;5;124mupdated\u001b[39m\u001b[38;5;124m\"\u001b[39m})\n",
      "\u001b[1;31mTypeError\u001b[0m: set_experiment_tag() got an unexpected keyword argument 'tags'"
     ]
    }
   ],
   "source": [
    "mlflow.set_experiment_tag(tags = {\"new-tag\": \"updated\"})"
   ]
  },
  {
   "cell_type": "code",
   "execution_count": 28,
   "id": "5d9d2755",
   "metadata": {},
   "outputs": [
    {
     "data": {
      "text/plain": [
       "experiment_id: \"325944852318647122\"\n",
       "name: \"seed germination rate\"\n",
       "artifact_location: \"file:///d:/Mlflow/mlruns/325944852318647122\"\n",
       "lifecycle_stage: \"active\"\n",
       "last_update_time: 1757588755056\n",
       "creation_time: 1757588755056"
      ]
     },
     "execution_count": 28,
     "metadata": {},
     "output_type": "execute_result"
    }
   ],
   "source": [
    "experiment.to_proto()"
   ]
  },
  {
   "cell_type": "code",
   "execution_count": null,
   "id": "741a548b",
   "metadata": {},
   "outputs": [],
   "source": []
  }
 ],
 "metadata": {
  "kernelspec": {
   "display_name": "base",
   "language": "python",
   "name": "python3"
  },
  "language_info": {
   "codemirror_mode": {
    "name": "ipython",
    "version": 3
   },
   "file_extension": ".py",
   "mimetype": "text/x-python",
   "name": "python",
   "nbconvert_exporter": "python",
   "pygments_lexer": "ipython3",
   "version": "3.12.3"
  }
 },
 "nbformat": 4,
 "nbformat_minor": 5
}
