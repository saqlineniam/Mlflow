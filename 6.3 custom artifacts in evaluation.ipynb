{
 "cells": [
  {
   "cell_type": "code",
   "execution_count": 1,
   "id": "bb73d00e",
   "metadata": {},
   "outputs": [],
   "source": [
    "import mlflow\n",
    "from mlflow.metrics import EvaluationMetric\n",
    "from mlflow.metrics import MetricValue\n",
    "import pandas as pd\n",
    "from typing import Dict\n",
    "from typing import Union\n",
    "import random"
   ]
  },
  {
   "cell_type": "code",
   "execution_count": 2,
   "id": "0113693f",
   "metadata": {},
   "outputs": [
    {
     "data": {
      "text/html": [
       "<div>\n",
       "<style scoped>\n",
       "    .dataframe tbody tr th:only-of-type {\n",
       "        vertical-align: middle;\n",
       "    }\n",
       "\n",
       "    .dataframe tbody tr th {\n",
       "        vertical-align: top;\n",
       "    }\n",
       "\n",
       "    .dataframe thead th {\n",
       "        text-align: right;\n",
       "    }\n",
       "</style>\n",
       "<table border=\"1\" class=\"dataframe\">\n",
       "  <thead>\n",
       "    <tr style=\"text-align: right;\">\n",
       "      <th></th>\n",
       "      <th>predictions</th>\n",
       "      <th>targets</th>\n",
       "    </tr>\n",
       "  </thead>\n",
       "  <tbody>\n",
       "    <tr>\n",
       "      <th>0</th>\n",
       "      <td>0</td>\n",
       "      <td>0</td>\n",
       "    </tr>\n",
       "    <tr>\n",
       "      <th>1</th>\n",
       "      <td>0</td>\n",
       "      <td>0</td>\n",
       "    </tr>\n",
       "    <tr>\n",
       "      <th>2</th>\n",
       "      <td>1</td>\n",
       "      <td>0</td>\n",
       "    </tr>\n",
       "    <tr>\n",
       "      <th>3</th>\n",
       "      <td>0</td>\n",
       "      <td>0</td>\n",
       "    </tr>\n",
       "    <tr>\n",
       "      <th>4</th>\n",
       "      <td>0</td>\n",
       "      <td>0</td>\n",
       "    </tr>\n",
       "  </tbody>\n",
       "</table>\n",
       "</div>"
      ],
      "text/plain": [
       "   predictions  targets\n",
       "0            0        0\n",
       "1            0        0\n",
       "2            1        0\n",
       "3            0        0\n",
       "4            0        0"
      ]
     },
     "execution_count": 2,
     "metadata": {},
     "output_type": "execute_result"
    }
   ],
   "source": [
    "test_df = pd.DataFrame({\n",
    "    \"predictions\": [random.randint(0,1) for _ in range(100)],\n",
    "    \"targets\": [random.randint(0,1) for _ in range(100)]\n",
    "})\n",
    "test_df.head()"
   ]
  },
  {
   "cell_type": "code",
   "execution_count": 6,
   "id": "d88dc5de",
   "metadata": {},
   "outputs": [],
   "source": [
    "def custom_precision_recall_curve(eval_df, builtin_metrics, artifacts_dir):\n",
    "    targets = eval_df['target']\n",
    "    predictions = eval_df['prediction']\n",
    "    pr_display = PrecisionRecallDisplay.from_predictions(targets, predictions)\n",
    "    return {\"precision_recall_curve\": pr_display.figure_}\n",
    "\n",
    "def custom_csv_output(eval_df, builtin_metrics, artifacts_dir):\n",
    "    eval_df = eval_df.copy()\n",
    "    eval_df[\"custom_column\"] = 2* eval_df[\"prediction\"]\n",
    "    path = artifacts_dir + \"/custom_output.csv\"\n",
    "    eval_df.to_csv(path, index= False)\n",
    "    return {\"custom_csv_output\": path}"
   ]
  },
  {
   "cell_type": "code",
   "execution_count": null,
   "id": "79b8b357",
   "metadata": {},
   "outputs": [],
   "source": [
    "results = mlflow.evaluate(\n",
    "    \n",
    ")"
   ]
  }
 ],
 "metadata": {
  "kernelspec": {
   "display_name": "base",
   "language": "python",
   "name": "python3"
  },
  "language_info": {
   "codemirror_mode": {
    "name": "ipython",
    "version": 3
   },
   "file_extension": ".py",
   "mimetype": "text/x-python",
   "name": "python",
   "nbconvert_exporter": "python",
   "pygments_lexer": "ipython3",
   "version": "3.12.3"
  }
 },
 "nbformat": 4,
 "nbformat_minor": 5
}
