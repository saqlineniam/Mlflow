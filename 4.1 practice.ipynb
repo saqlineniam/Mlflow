{
 "cells": [
  {
   "cell_type": "code",
   "execution_count": 19,
   "id": "28f6ede5",
   "metadata": {},
   "outputs": [],
   "source": [
    "import mlflow\n",
    "from mlflow.types.schema import Schema\n",
    "from mlflow.types.schema import ColSpec\n",
    "from mlflow.types.schema import ParamSchema\n",
    "from mlflow.models import ModelSignature\n",
    "from mlflow.types.schema import ParamSpec"
   ]
  },
  {
   "cell_type": "code",
   "execution_count": 22,
   "id": "eac8a27e",
   "metadata": {},
   "outputs": [],
   "source": [
    "model_input = Schema([ColSpec(type = \"double\", name = \"input\", required = True)])\n",
    "model_output = Schema([ColSpec(type = \"double\", name = \"output\", required = True)])\n",
    "param = ParamSchema([ParamSpec(name= \"factor\", dtype = \"integer\", default = 1)])\n",
    "\n",
    "model_signature = ModelSignature(inputs = model_input, outputs = model_output, params = param)"
   ]
  },
  {
   "cell_type": "code",
   "execution_count": null,
   "id": "350b6d51",
   "metadata": {},
   "outputs": [],
   "source": [
    "# ✅ Recommended pattern\n",
    "class MyModel(mlflow.pyfunc.PythonModel):\n",
    "    def predict(self, context, model_input, params = None):\n",
    "        # Clear type annotations\n",
    "        # Automatic validation\n",
    "        # Good IDE support\n",
    "        return [process(item) for item in model_input]"
   ]
  }
 ],
 "metadata": {
  "kernelspec": {
   "display_name": "base",
   "language": "python",
   "name": "python3"
  },
  "language_info": {
   "codemirror_mode": {
    "name": "ipython",
    "version": 3
   },
   "file_extension": ".py",
   "mimetype": "text/x-python",
   "name": "python",
   "nbconvert_exporter": "python",
   "pygments_lexer": "ipython3",
   "version": "3.12.3"
  }
 },
 "nbformat": 4,
 "nbformat_minor": 5
}
