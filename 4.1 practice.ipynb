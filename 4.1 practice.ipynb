{
 "cells": [
  {
   "cell_type": "code",
   "execution_count": 19,
   "id": "28f6ede5",
   "metadata": {},
   "outputs": [],
   "source": [
    "import mlflow\n",
    "from mlflow.types.schema import Schema\n",
    "from mlflow.types.schema import ColSpec\n",
    "from mlflow.types.schema import ParamSchema\n",
    "from mlflow.models import ModelSignature\n",
    "from mlflow.types.schema import ParamSpec"
   ]
  },
  {
   "cell_type": "code",
   "execution_count": 22,
   "id": "eac8a27e",
   "metadata": {},
   "outputs": [],
   "source": [
    "model_input = Schema([ColSpec(type = \"double\", name = \"input\", required = True)])\n",
    "model_output = Schema([ColSpec(type = \"double\", name = \"output\", required = True)])\n",
    "param = ParamSchema([ParamSpec(name= \"factor\", dtype = \"integer\", default = 1)])\n",
    "\n",
    "model_signature = ModelSignature(inputs = model_input, outputs = model_output, params = param)"
   ]
  },
  {
   "cell_type": "code",
   "execution_count": 23,
   "id": "350b6d51",
   "metadata": {},
   "outputs": [
    {
     "name": "stderr",
     "output_type": "stream",
     "text": [
      "c:\\Users\\saqli\\anaconda3\\Lib\\site-packages\\mlflow\\pyfunc\\utils\\data_validation.py:186: UserWarning: \u001b[33mAdd type hints to the `predict` method to enable data validation and automatic signature inference during model logging. Check https://mlflow.org/docs/latest/model/python_model.html#type-hint-usage-in-pythonmodel for more details.\u001b[0m\n",
      "  color_warning(\n"
     ]
    }
   ],
   "source": [
    "# ✅ Recommended pattern\n",
    "class MyModel(mlflow.pyfunc.PythonModel):\n",
    "    def __init__(self):\n",
    "        pass\n",
    "\n",
    "    def predict(self, context, model_input, params = None):\n",
    "        self._preprocess(model_inputs)\n",
    "        self.__preprocess_params(params)\n",
    "        factor = params.get(\"factor\", 1)\n",
    "        return model_input.apply(lambda x:x * factor)\n",
    "\n",
    "\n",
    "    def __preprocess_params(self, params):\n",
    "        if params:\n",
    "            print(\"processing params\")\n",
    "            print(params)\n",
    "        else:\n",
    "            print(\"no params\")\n",
    "\n",
    "    def _preprocess(self, model_input):\n",
    "        print(\"pre processing input....\")\n",
    "        print(\"input length\", len(model_input))\n",
    "\n",
    "        return [process(item) for item in model_input]\n"
   ]
  },
  {
   "cell_type": "code",
   "execution_count": 28,
   "id": "ffb2056f",
   "metadata": {},
   "outputs": [
    {
     "name": "stderr",
     "output_type": "stream",
     "text": [
      "c:\\Users\\saqli\\anaconda3\\Lib\\site-packages\\mlflow\\pyfunc\\__init__.py:3242: UserWarning: \u001b[1;33mAn input example was not provided when logging the model. To ensure the model signature functions correctly, specify the `input_example` parameter. See https://mlflow.org/docs/latest/model/signatures.html#model-input-example for more details about the benefits of using input_example.\u001b[0m\n",
      "  color_warning(\n"
     ]
    }
   ],
   "source": [
    "with mlflow.start_run(run_name = \"practice custom model\") as run:\n",
    "    mlflow.pyfunc.log_model(\"custom_model\", python_model = MyModel(), signature = model_signature)"
   ]
  },
  {
   "cell_type": "code",
   "execution_count": null,
   "id": "9c3797f9",
   "metadata": {},
   "outputs": [],
   "source": []
  }
 ],
 "metadata": {
  "kernelspec": {
   "display_name": "base",
   "language": "python",
   "name": "python3"
  },
  "language_info": {
   "codemirror_mode": {
    "name": "ipython",
    "version": 3
   },
   "file_extension": ".py",
   "mimetype": "text/x-python",
   "name": "python",
   "nbconvert_exporter": "python",
   "pygments_lexer": "ipython3",
   "version": "3.12.3"
  }
 },
 "nbformat": 4,
 "nbformat_minor": 5
}
