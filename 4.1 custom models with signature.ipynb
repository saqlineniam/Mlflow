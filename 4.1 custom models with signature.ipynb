{
 "cells": [
  {
   "cell_type": "code",
   "execution_count": 1,
   "id": "49000f75",
   "metadata": {},
   "outputs": [],
   "source": [
    "import mlflow\n",
    "from mlflow.models import ModelSignature\n",
    "from mlflow.types.schema import Schema\n",
    "from mlflow.types.schema import ColSpec\n",
    "from mlflow.types.schema import ParamSchema\n",
    "from mlflow.types.schema import ParamSpec"
   ]
  },
  {
   "cell_type": "code",
   "execution_count": 4,
   "id": "d36a0198",
   "metadata": {},
   "outputs": [],
   "source": [
    "input_schema = Schema([ColSpec(type = \"double\", name= \"input\", required = True)])\n",
    "output_schema = Schema([ColSpec(type = \"double\", name= \"output\", required = True)])\n",
    "param = ParamSchema([ParamSpec(name= \"factor\", dtype = \"integer\", default = 1)])\n",
    "\n",
    "model_signature = ModelSignature(inputs = input_schema, outputs = output_schema, params = param)"
   ]
  },
  {
   "cell_type": "code",
   "execution_count": 6,
   "id": "066a5720",
   "metadata": {},
   "outputs": [
    {
     "data": {
      "text/plain": [
       "{'inputs': '[{\"type\": \"double\", \"name\": \"input\", \"required\": true}]',\n",
       " 'outputs': '[{\"type\": \"double\", \"name\": \"output\", \"required\": true}]',\n",
       " 'params': '[{\"name\": \"factor\", \"default\": 1, \"shape\": null, \"type\": \"integer\"}]'}"
      ]
     },
     "execution_count": 6,
     "metadata": {},
     "output_type": "execute_result"
    }
   ],
   "source": [
    "model_signature.to_dict()"
   ]
  },
  {
   "cell_type": "code",
   "execution_count": null,
   "id": "4ae8fd49",
   "metadata": {},
   "outputs": [],
   "source": [
    "class CustomModel(mlflow.pyfunc.PythonModel):\n",
    "    def __init(self):\n",
    "        pass\n",
    "\n",
    "    def predict(self, context, model_input, params = None):\n",
    "        self._preprocess(model_input)\n",
    "        self.__preprocess_params(params)\n",
    "        factor = params.get(\"factor\", 1)\n",
    "        return model_input.apply(lambda x: x* factor)\n",
    "\n",
    "    def __preprocess_params(self, params):\n",
    "        if params:\n",
    "            print(\"processing params\")\n",
    "            print(params)\n",
    "        else:\n",
    "            print(\"no params\")\n",
    "\n",
    "    def _preProcess(self, model_input):\n",
    "        print(\"pre procesing input.....\")\n",
    "        print(\"input length\", len(model_input))\n",
    "\n",
    "    def additional_method(self):\n",
    "        print(\"running an additional method\")"
   ]
  }
 ],
 "metadata": {
  "kernelspec": {
   "display_name": "base",
   "language": "python",
   "name": "python3"
  },
  "language_info": {
   "codemirror_mode": {
    "name": "ipython",
    "version": 3
   },
   "file_extension": ".py",
   "mimetype": "text/x-python",
   "name": "python",
   "nbconvert_exporter": "python",
   "pygments_lexer": "ipython3",
   "version": "3.12.3"
  }
 },
 "nbformat": 4,
 "nbformat_minor": 5
}
