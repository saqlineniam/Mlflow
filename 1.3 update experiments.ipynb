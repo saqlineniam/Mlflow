{
 "cells": [
  {
   "cell_type": "markdown",
   "id": "cfa13015",
   "metadata": {},
   "source": [
    "Updating Experiments"
   ]
  },
  {
   "cell_type": "code",
   "execution_count": 1,
   "id": "ceace7a2",
   "metadata": {},
   "outputs": [],
   "source": [
    "import mlflow"
   ]
  },
  {
   "cell_type": "code",
   "execution_count": 3,
   "id": "9759158f",
   "metadata": {},
   "outputs": [
    {
     "ename": "TypeError",
     "evalue": "set_experiment_tag() missing 2 required positional arguments: 'key' and 'value'",
     "output_type": "error",
     "traceback": [
      "\u001b[1;31m---------------------------------------------------------------------------\u001b[0m",
      "\u001b[1;31mTypeError\u001b[0m                                 Traceback (most recent call last)",
      "Cell \u001b[1;32mIn[3], line 1\u001b[0m\n\u001b[1;32m----> 1\u001b[0m mlflow\u001b[38;5;241m.\u001b[39mset_experiment_tag()\n",
      "\u001b[1;31mTypeError\u001b[0m: set_experiment_tag() missing 2 required positional arguments: 'key' and 'value'"
     ]
    }
   ],
   "source": [
    "mlflow.set_experiment_tag()"
   ]
  },
  {
   "cell_type": "code",
   "execution_count": null,
   "id": "c3ff50d9",
   "metadata": {},
   "outputs": [],
   "source": [
    "mlflow.set_experiment_tag()"
   ]
  },
  {
   "cell_type": "code",
   "execution_count": 7,
   "id": "582a5bde",
   "metadata": {},
   "outputs": [],
   "source": [
    "experiment = mlflow.set_experiment(experiment_name = \"seed germination rate\")"
   ]
  },
  {
   "cell_type": "code",
   "execution_count": 10,
   "id": "92374ebb",
   "metadata": {},
   "outputs": [
    {
     "data": {
      "text/plain": [
       "experiment_id: \"325944852318647122\"\n",
       "name: \"seed germination rate\"\n",
       "artifact_location: \"file:///d:/Mlflow/mlruns/325944852318647122\"\n",
       "lifecycle_stage: \"active\"\n",
       "last_update_time: 1757588755056\n",
       "creation_time: 1757588755056\n",
       "tags {\n",
       "  key: \"new_tags\"\n",
       "  value: \"v1\"\n",
       "}"
      ]
     },
     "execution_count": 10,
     "metadata": {},
     "output_type": "execute_result"
    }
   ],
   "source": [
    "experiment.to_proto()"
   ]
  },
  {
   "cell_type": "code",
   "execution_count": 12,
   "id": "496ac82b",
   "metadata": {},
   "outputs": [],
   "source": [
    "client = mlflow.MlflowClient()"
   ]
  },
  {
   "cell_type": "code",
   "execution_count": 17,
   "id": "53fa7d66",
   "metadata": {},
   "outputs": [
    {
     "name": "stdout",
     "output_type": "stream",
     "text": [
      "experiment_id: \"325944852318647122\"\n",
      "name: \"seed germination rate\"\n",
      "artifact_location: \"file:///d:/Mlflow/mlruns/325944852318647122\"\n",
      "lifecycle_stage: \"active\"\n",
      "last_update_time: 1757588755056\n",
      "creation_time: 1757588755056\n",
      "tags {\n",
      "  key: \"new-tags\"\n",
      "  value: \"new_tag_updated_with_client\"\n",
      "}\n",
      "tags {\n",
      "  key: \"new_tags\"\n",
      "  value: \"v1\"\n",
      "}\n",
      "\n"
     ]
    }
   ],
   "source": [
    "client.set_experiment_tag(experiment_id = experiment.experiment_id, key = \"new-tags\",value=\"new_tag_updated_with_client\")\n",
    "\n",
    "experiment = mlflow.set_experiment(experiment_name = \"seed germination rate\")\n",
    "print(experiment.to_proto())"
   ]
  },
  {
   "cell_type": "code",
   "execution_count": 21,
   "id": "b2cd40d2",
   "metadata": {},
   "outputs": [],
   "source": [
    "mlflow.set_experiment_tag(key=\"mlflow.note.content\", value= \"This is the description for the experiment\")\n"
   ]
  },
  {
   "cell_type": "markdown",
   "id": "7a52c0dc",
   "metadata": {},
   "source": [
    "Renaming Experiment"
   ]
  },
  {
   "cell_type": "code",
   "execution_count": 23,
   "id": "ac97b0f2",
   "metadata": {},
   "outputs": [
    {
     "name": "stdout",
     "output_type": "stream",
     "text": [
      "<bound method Experiment.to_proto of <Experiment: artifact_location='file:///d:/Mlflow/mlruns/325944852318647122', creation_time=1757588755056, experiment_id='325944852318647122', last_update_time=1757590356366, lifecycle_stage='active', name='Seed Germination Rate', tags={'mlflow.note.content': 'This is the description for the experiment',\n",
      " 'new-tags': 'new_tag_updated_with_client',\n",
      " 'new_tags': 'v1'}>>\n"
     ]
    }
   ],
   "source": [
    "client = mlflow.MlflowClient()\n",
    "\n",
    "client.rename_experiment(experiment_id = experiment.experiment_id, new_name = \"Seed Germination Rate\")\n",
    "\n",
    "experiment = client.get_experiment_by_name(\"Seed Germination Rate\")\n",
    "print(experiment.to_proto)"
   ]
  },
  {
   "cell_type": "markdown",
   "id": "18930a93",
   "metadata": {},
   "source": [
    "Delete an Experiment"
   ]
  },
  {
   "cell_type": "code",
   "execution_count": 34,
   "id": "c4b371fa",
   "metadata": {},
   "outputs": [],
   "source": [
    "client = mlflow.MlflowClient()"
   ]
  },
  {
   "cell_type": "code",
   "execution_count": 37,
   "id": "980143f9",
   "metadata": {},
   "outputs": [],
   "source": [
    "experiment = mlflow.set_experiment(experiment_name= \"creating-experiments 1\")"
   ]
  },
  {
   "cell_type": "code",
   "execution_count": 38,
   "id": "0f6e1a0d",
   "metadata": {},
   "outputs": [],
   "source": [
    "client.delete_experiment(experiment_id = experiment.experiment_id)"
   ]
  },
  {
   "cell_type": "code",
   "execution_count": 41,
   "id": "d2fda13d",
   "metadata": {},
   "outputs": [
    {
     "data": {
      "text/plain": [
       "'active'"
      ]
     },
     "execution_count": 41,
     "metadata": {},
     "output_type": "execute_result"
    }
   ],
   "source": [
    "experiment.lifecycle_stage"
   ]
  },
  {
   "cell_type": "markdown",
   "id": "5f0d96b6",
   "metadata": {},
   "source": [
    "Restore Experiment"
   ]
  },
  {
   "cell_type": "code",
   "execution_count": null,
   "id": "61bc4070",
   "metadata": {},
   "outputs": [],
   "source": [
    "client.restore_experiment(experiment_id = )"
   ]
  },
  {
   "cell_type": "code",
   "execution_count": 43,
   "id": "50795eb1",
   "metadata": {},
   "outputs": [
    {
     "name": "stderr",
     "output_type": "stream",
     "text": [
      "2025/09/11 17:40:41 INFO mlflow.tracking.fluent: Experiment with name 'seed germination rate' does not exist. Creating a new experiment.\n"
     ]
    }
   ],
   "source": [
    "experiment = mlflow.set_experiment(experiment_name= \"seed germination rate\")"
   ]
  },
  {
   "cell_type": "code",
   "execution_count": null,
   "id": "939c7a4f",
   "metadata": {},
   "outputs": [],
   "source": []
  }
 ],
 "metadata": {
  "kernelspec": {
   "display_name": "base",
   "language": "python",
   "name": "python3"
  },
  "language_info": {
   "codemirror_mode": {
    "name": "ipython",
    "version": 3
   },
   "file_extension": ".py",
   "mimetype": "text/x-python",
   "name": "python",
   "nbconvert_exporter": "python",
   "pygments_lexer": "ipython3",
   "version": "3.12.3"
  }
 },
 "nbformat": 4,
 "nbformat_minor": 5
}
